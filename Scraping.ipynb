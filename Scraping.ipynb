{
 "cells": [
  {
   "cell_type": "markdown",
   "metadata": {},
   "source": [
    "# Web Scraping  Book Data\n"
   ]
  },
  {
   "cell_type": "markdown",
   "metadata": {},
   "source": [
    "### **Install Packages**"
   ]
  },
  {
   "cell_type": "code",
   "execution_count": 1,
   "metadata": {},
   "outputs": [],
   "source": [
    "from urllib.request import  urlopen as uReq\n",
    "from bs4 import BeautifulSoup as soup\n"
   ]
  },
  {
   "cell_type": "markdown",
   "metadata": {},
   "source": [
    "### **Get the page contents**"
   ]
  },
  {
   "cell_type": "code",
   "execution_count": 10,
   "metadata": {},
   "outputs": [],
   "source": [
    "url='https://www.barnesandnoble.com/b/books/kids/fairy-tales-myths-fables-kids/_/N-1fZ29Z8q8Zu9d'"
   ]
  },
  {
   "cell_type": "code",
   "execution_count": null,
   "metadata": {},
   "outputs": [],
   "source": [
    "Uclient=uReq(url)\n",
    "\n",
    "page_html=Uclient.read()\n",
    "Uclient.close()\n",
    "page_soup=soup(page_html,\"html.parser\")"
   ]
  },
  {
   "cell_type": "code",
   "execution_count": 4,
   "metadata": {},
   "outputs": [],
   "source": [
    "data=page_soup.findAll(\"div\",{\"class\":\"col-lg-9 product-info-listView\"})"
   ]
  },
  {
   "cell_type": "code",
   "execution_count": 5,
   "metadata": {},
   "outputs": [
    {
     "data": {
      "text/plain": [
       "20"
      ]
     },
     "execution_count": 5,
     "metadata": {},
     "output_type": "execute_result"
    }
   ],
   "source": [
    "len(data)"
   ]
  },
  {
   "cell_type": "code",
   "execution_count": 6,
   "metadata": {},
   "outputs": [
    {
     "data": {
      "text/plain": [
       "[<div class=\"col-lg-9 product-info-listView\">\n",
       " <div class=\"product-shelf-title pr-m\"><h3 class=\"product-info-title\">\n",
       " <a class=\"\" href=\"/w/how-to-catch-a-yeti-adam-wallace/1135063401;jsessionid=F2252E992967E09F2F199BA9BFB9D171.prodny_store01-atgap04?ean=9781728216744\" onclick=\"set_cookie('txl__How-to-Catch-a-Yeti/Adam-Wallace_text');\" title=\"\">How to Catch a Yeti</a><span class=\"text--small publ-date\"> (09/01/2020)</span>\n",
       " </h3></div>\n",
       " <!-- ATG-18359 start-->\n",
       " <!-- AT-589 code fix for Data Oddity Start-->\n",
       " <!-- AT-589 code fix for Data Oddity :End-->\n",
       " <!-- AT-589 code fix for Data Oddity-->\n",
       " <div class=\"product-shelf-author contributors\">by <a href=\"/s/%22Adam Wallace%22;jsessionid=F2252E992967E09F2F199BA9BFB9D171.prodny_store01-atgap04?Ntk=P_key_Contributor_List&amp;Ns=P_Sales_Rank&amp;Ntx=mode+matchall\">Adam Wallace</a>, <a href=\"/s/%22 Andy Elkerton%22;jsessionid=F2252E992967E09F2F199BA9BFB9D171.prodny_store01-atgap04?Ntk=P_key_Contributor_List&amp;Ns=P_Sales_Rank&amp;Ntx=mode+matchall\"> Andy Elkerton</a></div>\n",
       " <div data-bv-product-id=\"9781728216744\" data-bv-seo=\"false\" data-bv-show=\"inline_rating\"></div>\n",
       " <div class=\"product-shelf-pricing mt-s mb-s\">\n",
       " <table>\n",
       " <thead class=\"heading\">\n",
       " <tr>\n",
       " <th class=\"format\">Format</th>\n",
       " <th class=\"buy-new three-column-padding\">\n",
       " BN.com</th>\n",
       " <th aria-hidden=\"true\" class=\"availability pb-xxxs hidden\">Availability</th>\n",
       " </tr>\n",
       " </thead>\n",
       " <tbody>\n",
       " <tr>\n",
       " <td class=\"format\">\n",
       " <a class=\"format\" href=\"/w/how-to-catch-a-yeti-adam-wallace/1135063401;jsessionid=F2252E992967E09F2F199BA9BFB9D171.prodny_store01-atgap04?ean=9781728216744\" onclick=\"set_cookie('txl__How-to-Catch-a-Yeti/Adam-Wallace_text');\" title=\"\">Hardcover</a></td>\n",
       " <td class=\"buy-new three-column-padding\">\n",
       " <span class=\"current\">\n",
       " <a class=\"current link\" href=\"/w/how-to-catch-a-yeti-adam-wallace/1135063401;jsessionid=F2252E992967E09F2F199BA9BFB9D171.prodny_store01-atgap04?ean=9781728216744\" onclick=\"set_cookie('txl__How-to-Catch-a-Yeti/Adam-Wallace_text');\" title=\"\">$10.99</a></span>\n",
       " <span class=\"sr-only\">Current price is $10.99, Original price is $10.99. You Save %.</span>\n",
       " </td>\n",
       " <td aria-hidden=\"true\" class=\"availability hidden\">\n",
       " <div class=\"plp-bopis-badge hidden\">\n",
       " <div class=\"availability-spacing flex\">\n",
       " <div class=\"bopis-icon\">\n",
       " <span class=\"icon-check\"></span>\n",
       " </div>\n",
       " <p class=\"ml-xxs bopis-badge-message mt-0 mb-0\">Available Online</p>\n",
       " </div>\n",
       " </div>\n",
       " </td>\n",
       " </tr>\n",
       " </tbody>\n",
       " </table>\n",
       " </div>\n",
       " <div class=\"flex list-row-bottom mt-s\">\n",
       " <div class=\"formats-coupons\">\n",
       " <div class=\"product-shelf-formats color-coal\">Also available as:\n",
       " <a class=\"\" href=\"/w/how-to-catch-a-yeti-adam-wallace/1135063401;jsessionid=F2252E992967E09F2F199BA9BFB9D171.prodny_store01-atgap04?ean=9781728216751\" onclick=\"set_cookie('txl__How-to-Catch-a-Yeti/Adam-Wallace_text');\" title=\"\">NOOK Book</a>, <a data-digital-ean=\"9781728216751\" data-formatsurl=\"https://www.barnesandnoble.com/cartridges/ProductDetailContent/ProductDetailTypes/includes/formatModal-ra.jsp?skuId=9781728216744&amp;digitalEan=9781728216751&amp;workId=1135063401\" data-ismarketplace=\"false\" data-modal-class=\"BN.Modal.Browse.Formats\" data-pd-modal=\"/modals/search/quickview.jsp?isMarketplace=false\" data-pd-modal-class=\"BN.Modal.Browse.Quickview\" data-pd-quickview-url=\"/w/how-to-catch-a-yeti-adam-wallace/1135063401?ean=9781728216744\" data-sku-id=\"9781728216744\" data-work-id=\"1135063401\" href=\"#\" id=\"prd9781728216744_9781728216744\">See All <span class=\"icon-right icon\"></span></a>\n",
       " </div>\n",
       " <div class=\"plp-coupon mt-xs hidden\"></div>\n",
       " </div>\n",
       " <input class=\"sku-data\" type=\"hidden\" value=\"9781728216744_book_false_false_false_2020-09-01 00:00:00.0\">\n",
       " <div class=\"plp-add-to-cart-btn-container hidden\" id=\"skuForm_9781728216744\">\n",
       " </div>\n",
       " </input></div>\n",
       " </div>,\n",
       " <div class=\"col-lg-9 product-info-listView\">\n",
       " <div class=\"product-shelf-title pr-m\"><h3 class=\"product-info-title\">\n",
       " <a class=\"\" href=\"/w/the-tower-of-nero-rick-riordan/1134720689;jsessionid=F2252E992967E09F2F199BA9BFB9D171.prodny_store01-atgap04?ean=9781368065382\" onclick=\"set_cookie('txl__The-Tower-of-Nero/Rick-Riordan_text');\" title=\"\">The Tower of Nero (B&amp;N Exclusive Edition) (The Trials of Apollo Series #5)</a><span class=\"text--small publ-date\"> (10/06/2020)</span>\n",
       " </h3></div>\n",
       " <!-- ATG-18359 start-->\n",
       " <!-- AT-589 code fix for Data Oddity Start-->\n",
       " <!-- AT-589 code fix for Data Oddity :End-->\n",
       " <!-- AT-589 code fix for Data Oddity-->\n",
       " <div class=\"product-shelf-author contributors\">by <a href=\"/b/contributor/rick-riordan/_/N-2kka;jsessionid=F2252E992967E09F2F199BA9BFB9D171.prodny_store01-atgap04\">Rick Riordan</a></div>\n",
       " <div data-bv-product-id=\"9781368065382\" data-bv-seo=\"false\" data-bv-show=\"inline_rating\"></div>\n",
       " <div class=\"product-shelf-pricing mt-s mb-s\">\n",
       " <table>\n",
       " <thead class=\"heading\">\n",
       " <tr>\n",
       " <th class=\"format\">Format</th>\n",
       " <th class=\"buy-new three-column-padding\">\n",
       " BN.com</th>\n",
       " <th aria-hidden=\"true\" class=\"availability pb-xxxs hidden\">Availability</th>\n",
       " </tr>\n",
       " </thead>\n",
       " <tbody>\n",
       " <tr>\n",
       " <td class=\"format\">\n",
       " <a class=\"format\" href=\"/w/the-tower-of-nero-rick-riordan/1134720689;jsessionid=F2252E992967E09F2F199BA9BFB9D171.prodny_store01-atgap04?ean=9781368065382\" onclick=\"set_cookie('txl__The-Tower-of-Nero/Rick-Riordan_text');\" title=\"\">Hardcover</a></td>\n",
       " <td class=\"buy-new three-column-padding\">\n",
       " <span class=\"current\">\n",
       " <a class=\"current link\" href=\"/w/the-tower-of-nero-rick-riordan/1134720689;jsessionid=F2252E992967E09F2F199BA9BFB9D171.prodny_store01-atgap04?ean=9781368065382\" onclick=\"set_cookie('txl__The-Tower-of-Nero/Rick-Riordan_text');\" title=\"\">$16.99</a></span>\n",
       " <div class=\"hidden\" id=\"description9781368065382\">\n",
       " Original price was $19.99. You Save 15%.</div>\n",
       " \n",
       "   <span class=\"previous\">$19.99</span>\n",
       " <p class=\"discount mt-0 mb-0\">SAVE 15%</p>\n",
       " <span class=\"sr-only\">Current price is $16.99, Original price is $19.99. You Save 15%.</span>\n",
       " </td>\n",
       " <td aria-hidden=\"true\" class=\"availability hidden\">\n",
       " <div class=\"plp-bopis-badge hidden\">\n",
       " <div class=\"availability-spacing flex\">\n",
       " <div class=\"bopis-icon\">\n",
       " <span class=\"icon-check\"></span>\n",
       " </div>\n",
       " <p class=\"ml-xxs bopis-badge-message mt-0 mb-0\">Available Online</p>\n",
       " </div>\n",
       " </div>\n",
       " </td>\n",
       " </tr>\n",
       " </tbody>\n",
       " </table>\n",
       " </div>\n",
       " <div class=\"flex list-row-bottom mt-s\">\n",
       " <div class=\"formats-coupons\">\n",
       " <div class=\"product-shelf-formats color-coal\">Also available as:\n",
       " <a class=\"\" href=\"/w/the-tower-of-nero-rick-riordan/1134720689;jsessionid=F2252E992967E09F2F199BA9BFB9D171.prodny_store01-atgap04?ean=9781484746455\" onclick=\"set_cookie('txl__The-Tower-of-Nero/Rick-Riordan_text');\" title=\"\">Hardcover</a>, <a class=\"\" href=\"/w/the-tower-of-nero-rick-riordan/1134720689;jsessionid=F2252E992967E09F2F199BA9BFB9D171.prodny_store01-atgap04?ean=9781368001458\" onclick=\"set_cookie('txl__The-Tower-of-Nero/Rick-Riordan_text');\" title=\"\">NOOK Book</a>, <a class=\"\" href=\"/w/the-tower-of-nero-rick-riordan/1134720689;jsessionid=F2252E992967E09F2F199BA9BFB9D171.prodny_store01-atgap04?ean=9781432884758\" onclick=\"set_cookie('txl__The-Tower-of-Nero/Rick-Riordan_text');\" title=\"\">Large Print</a>, <a class=\"\" href=\"/w/the-tower-of-nero-rick-riordan/1134720689;jsessionid=F2252E992967E09F2F199BA9BFB9D171.prodny_store01-atgap04?ean=9780593290941\" onclick=\"set_cookie('txl__The-Tower-of-Nero/Rick-Riordan_text');\" title=\"\">Audio CD</a>, <a data-digital-ean=\"\" data-formatsurl=\"https://www.barnesandnoble.com/cartridges/ProductDetailContent/ProductDetailTypes/includes/formatModal-ra.jsp?skuId=9781368065382&amp;digitalEan=&amp;workId=1134720689\" data-ismarketplace=\"false\" data-modal-class=\"BN.Modal.Browse.Formats\" data-pd-modal=\"/modals/search/quickview.jsp?isMarketplace=false\" data-pd-modal-class=\"BN.Modal.Browse.Quickview\" data-pd-quickview-url=\"/w/the-tower-of-nero-rick-riordan/1134720689?ean=9781368065382\" data-sku-id=\"9781368065382\" data-work-id=\"1134720689\" href=\"#\" id=\"prd9781368065382_9781368065382\">See All <span class=\"icon-right icon\"></span></a>\n",
       " </div>\n",
       " <div class=\"plp-coupon mt-xs hidden\"></div>\n",
       " </div>\n",
       " <input class=\"sku-data\" type=\"hidden\" value=\"9781368065382_book_false_false_true_2020-10-06 00:00:00.0\">\n",
       " <div class=\"plp-add-to-cart-btn-container hidden\" id=\"skuForm_9781368065382\">\n",
       " </div>\n",
       " </input></div>\n",
       " </div>,\n",
       " <div class=\"col-lg-9 product-info-listView\">\n",
       " <div class=\"product-shelf-title pr-m\"><h3 class=\"product-info-title\">\n",
       " <a class=\"\" href=\"/w/lightning-thief-rick-riordan/1100190320;jsessionid=F2252E992967E09F2F199BA9BFB9D171.prodny_store01-atgap04?ean=9780786838653\" onclick=\"set_cookie('txl__Lightning-Thief/Rick-Riordan_text');\" title=\"\">The Lightning Thief (Percy Jackson and the Olympians Series #1)</a><span class=\"text--small publ-date\"> (04/01/2006)</span>\n",
       " </h3></div>\n",
       " <!-- ATG-18359 start-->\n",
       " <!-- AT-589 code fix for Data Oddity Start-->\n",
       " <!-- AT-589 code fix for Data Oddity :End-->\n",
       " <!-- AT-589 code fix for Data Oddity-->\n",
       " <div class=\"product-shelf-author contributors\">by <a href=\"/b/contributor/rick-riordan/_/N-2kka;jsessionid=F2252E992967E09F2F199BA9BFB9D171.prodny_store01-atgap04\">Rick Riordan</a></div>\n",
       " <div data-bv-product-id=\"9780786838653\" data-bv-seo=\"false\" data-bv-show=\"inline_rating\"></div>\n",
       " <div class=\"product-shelf-pricing mt-s mb-s\">\n",
       " <table>\n",
       " <thead class=\"heading\">\n",
       " <tr>\n",
       " <th class=\"format\">Format</th>\n",
       " <th class=\"buy-new three-column-padding\">\n",
       " BN.com</th>\n",
       " <th aria-hidden=\"true\" class=\"availability pb-xxxs hidden\">Availability</th>\n",
       " </tr>\n",
       " </thead>\n",
       " <tbody>\n",
       " <tr>\n",
       " <td class=\"format\">\n",
       " <a class=\"format\" href=\"/w/lightning-thief-rick-riordan/1100190320;jsessionid=F2252E992967E09F2F199BA9BFB9D171.prodny_store01-atgap04?ean=9780786838653\" onclick=\"set_cookie('txl__Lightning-Thief/Rick-Riordan_text');\" title=\"\">Paperback</a></td>\n",
       " <td class=\"buy-new three-column-padding\">\n",
       " <span class=\"current\">\n",
       " <a class=\"current link\" href=\"/w/lightning-thief-rick-riordan/1100190320;jsessionid=F2252E992967E09F2F199BA9BFB9D171.prodny_store01-atgap04?ean=9780786838653\" onclick=\"set_cookie('txl__Lightning-Thief/Rick-Riordan_text');\" title=\"\">$6.99</a></span>\n",
       " <div class=\"hidden\" id=\"description9780786838653\">\n",
       " Original price was $7.99. You Save 13%.</div>\n",
       " \n",
       "   <span class=\"previous\">$7.99</span>\n",
       " <p class=\"discount mt-0 mb-0\">SAVE 13%</p>\n",
       " <span class=\"sr-only\">Current price is $6.99, Original price is $7.99. You Save 13%.</span>\n",
       " </td>\n",
       " <td aria-hidden=\"true\" class=\"availability hidden\">\n",
       " <div class=\"plp-bopis-badge hidden\">\n",
       " <div class=\"availability-spacing flex\">\n",
       " <div class=\"bopis-icon\">\n",
       " <span class=\"icon-check\"></span>\n",
       " </div>\n",
       " <p class=\"ml-xxs bopis-badge-message mt-0 mb-0\">Available Online</p>\n",
       " </div>\n",
       " </div>\n",
       " </td>\n",
       " </tr>\n",
       " </tbody>\n",
       " </table>\n",
       " </div>\n",
       " <div class=\"flex list-row-bottom mt-s\">\n",
       " <div class=\"formats-coupons\">\n",
       " <div class=\"product-shelf-formats color-coal\">Also available as:\n",
       " <a class=\"\" href=\"/w/lightning-thief-rick-riordan/1100190320;jsessionid=F2252E992967E09F2F199BA9BFB9D171.prodny_store01-atgap04?ean=9780786856299\" onclick=\"set_cookie('txl__Lightning-Thief/Rick-Riordan_text');\" title=\"\">Hardcover</a>, <a class=\"\" href=\"/w/lightning-thief-rick-riordan/1100190320;jsessionid=F2252E992967E09F2F199BA9BFB9D171.prodny_store01-atgap04?ean=9781423131892\" onclick=\"set_cookie('txl__Lightning-Thief/Rick-Riordan_text');\" title=\"\">NOOK Book</a>, <a class=\"\" href=\"/w/lightning-thief-rick-riordan/1100190320;jsessionid=F2252E992967E09F2F199BA9BFB9D171.prodny_store01-atgap04?ean=9780786282258\" onclick=\"set_cookie('txl__Lightning-Thief/Rick-Riordan_text');\" title=\"\">Large Print</a>, <a class=\"\" href=\"/w/lightning-thief-rick-riordan/1100190320;jsessionid=F2252E992967E09F2F199BA9BFB9D171.prodny_store01-atgap04?ean=9780307245304\" onclick=\"set_cookie('txl__Lightning-Thief/Rick-Riordan_text');\" title=\"\">Audio CD</a>, <a data-digital-ean=\"\" data-formatsurl=\"https://www.barnesandnoble.com/cartridges/ProductDetailContent/ProductDetailTypes/includes/formatModal-ra.jsp?skuId=9780786838653&amp;digitalEan=&amp;workId=1100190320\" data-ismarketplace=\"false\" data-modal-class=\"BN.Modal.Browse.Formats\" data-pd-modal=\"/modals/search/quickview.jsp?isMarketplace=false\" data-pd-modal-class=\"BN.Modal.Browse.Quickview\" data-pd-quickview-url=\"/w/lightning-thief-rick-riordan/1100190320?ean=9780786838653\" data-sku-id=\"9780786838653\" data-work-id=\"1100190320\" href=\"#\" id=\"prd9780786838653_9780786838653\">See All <span class=\"icon-right icon\"></span></a>\n",
       " </div>\n",
       " <div class=\"plp-coupon mt-xs hidden\"></div>\n",
       " </div>\n",
       " <input class=\"sku-data\" type=\"hidden\" value=\"9780786838653_book_false_false_false_2006-04-01 00:00:00.0\">\n",
       " <div class=\"plp-add-to-cart-btn-container hidden\" id=\"skuForm_9780786838653\">\n",
       " </div>\n",
       " </input></div>\n",
       " </div>,\n",
       " <div class=\"col-lg-9 product-info-listView\">\n",
       " <div class=\"product-shelf-title pr-m\"><h3 class=\"product-info-title\">\n",
       " <a class=\"\" href=\"/w/the-ickabog-j-k-rowling/1137347088;jsessionid=F2252E992967E09F2F199BA9BFB9D171.prodny_store01-atgap04?ean=9781338732870\" onclick=\"set_cookie('txl__The-Ickabog/J-K-Rowling_text');\" title=\"\">The Ickabog</a><span class=\"text--small publ-date\"> (11/10/2020)</span>\n",
       " </h3></div>\n",
       " <!-- ATG-18359 start-->\n",
       " <!-- AT-589 code fix for Data Oddity Start-->\n",
       " <!-- AT-589 code fix for Data Oddity :End-->\n",
       " <!-- AT-589 code fix for Data Oddity-->\n",
       " <div class=\"product-shelf-author contributors\">by <a href=\"/b/contributor/j-k-rowling/_/N-2k2f;jsessionid=F2252E992967E09F2F199BA9BFB9D171.prodny_store01-atgap04\">J. K. Rowling</a></div>\n",
       " <div data-bv-product-id=\"9781338732870\" data-bv-seo=\"false\" data-bv-show=\"inline_rating\"></div>\n",
       " <div class=\"product-shelf-pricing mt-s mb-s\">\n",
       " <table>\n",
       " <thead class=\"heading\">\n",
       " <tr>\n",
       " <th class=\"format\">Format</th>\n",
       " <th class=\"buy-new three-column-padding\">\n",
       " BN.com</th>\n",
       " <th aria-hidden=\"true\" class=\"availability pb-xxxs hidden\">Availability</th>\n",
       " </tr>\n",
       " </thead>\n",
       " <tbody>\n",
       " <tr>\n",
       " <td class=\"format\">\n",
       " <a class=\"format\" href=\"/w/the-ickabog-j-k-rowling/1137347088;jsessionid=F2252E992967E09F2F199BA9BFB9D171.prodny_store01-atgap04?ean=9781338732870\" onclick=\"set_cookie('txl__The-Ickabog/J-K-Rowling_text');\" title=\"\">Hardcover</a></td>\n",
       " <td class=\"buy-new three-column-padding\">\n",
       " <span class=\"current\">\n",
       " <a class=\"current link\" href=\"/w/the-ickabog-j-k-rowling/1137347088;jsessionid=F2252E992967E09F2F199BA9BFB9D171.prodny_store01-atgap04?ean=9781338732870\" onclick=\"set_cookie('txl__The-Ickabog/J-K-Rowling_text');\" title=\"\">$21.49</a></span>\n",
       " <div class=\"hidden\" id=\"description9781338732870\">\n",
       " Original price was $26.99. You Save 20%.</div>\n",
       " \n",
       "   <span class=\"previous\">$26.99</span>\n",
       " <p class=\"discount mt-0 mb-0\">SAVE 20%</p>\n",
       " <span class=\"sr-only\">Current price is $21.49, Original price is $26.99. You Save 20%.</span>\n",
       " </td>\n",
       " <td aria-hidden=\"true\" class=\"availability hidden\">\n",
       " <div class=\"plp-bopis-badge hidden\">\n",
       " <div class=\"availability-spacing flex\">\n",
       " <div class=\"bopis-icon\">\n",
       " <span class=\"icon-check\"></span>\n",
       " </div>\n",
       " <p class=\"ml-xxs bopis-badge-message mt-0 mb-0\">Pre-order Now</p>\n",
       " </div>\n",
       " </div>\n",
       " </td>\n",
       " </tr>\n",
       " </tbody>\n",
       " </table>\n",
       " </div>\n",
       " <div class=\"flex list-row-bottom mt-s\">\n",
       " <div class=\"formats-coupons\">\n",
       " <div class=\"product-shelf-formats color-coal\">Also available as:\n",
       " <a class=\"\" href=\"/w/the-ickabog-j-k-rowling/1137347088;jsessionid=F2252E992967E09F2F199BA9BFB9D171.prodny_store01-atgap04?ean=9781338732887\" onclick=\"set_cookie('txl__The-Ickabog/J-K-Rowling_text');\" title=\"\">NOOK Book</a>, <a data-digital-ean=\"9781338732887\" data-formatsurl=\"https://www.barnesandnoble.com/cartridges/ProductDetailContent/ProductDetailTypes/includes/formatModal-ra.jsp?skuId=9781338732870&amp;digitalEan=9781338732887&amp;workId=1137347088\" data-ismarketplace=\"false\" data-modal-class=\"BN.Modal.Browse.Formats\" data-pd-modal=\"/modals/search/quickview.jsp?isMarketplace=false\" data-pd-modal-class=\"BN.Modal.Browse.Quickview\" data-pd-quickview-url=\"/w/the-ickabog-j-k-rowling/1137347088?ean=9781338732870\" data-sku-id=\"9781338732870\" data-work-id=\"1137347088\" href=\"#\" id=\"prd9781338732870_9781338732870\">See All <span class=\"icon-right icon\"></span></a>\n",
       " </div>\n",
       " </div>\n",
       " <input class=\"sku-data\" type=\"hidden\" value=\"9781338732870_book_true_false_true_2020-11-10 00:00:00.0\">\n",
       " <div class=\"plp-add-to-cart-btn-container hidden\" id=\"skuForm_9781338732870\">\n",
       " </div>\n",
       " </input></div>\n",
       " </div>,\n",
       " <div class=\"col-lg-9 product-info-listView\">\n",
       " <div class=\"product-shelf-title pr-m\"><h3 class=\"product-info-title\">\n",
       " <a class=\"\" href=\"/w/mitten-jan-brett/1100321532;jsessionid=F2252E992967E09F2F199BA9BFB9D171.prodny_store01-atgap04?ean=9780399252969\" onclick=\"set_cookie('txl__Mitten/Jan-Brett_text');\" title=\"\">The Mitten</a><span class=\"text--small publ-date\"> (10/05/2009)</span>\n",
       " </h3></div>\n",
       " <!-- ATG-18359 start-->\n",
       " <!-- AT-589 code fix for Data Oddity Start-->\n",
       " <!-- AT-589 code fix for Data Oddity :End-->\n",
       " <!-- AT-589 code fix for Data Oddity-->\n",
       " <div class=\"product-shelf-author contributors\">by <a href=\"/s/%22Jan Brett%22;jsessionid=F2252E992967E09F2F199BA9BFB9D171.prodny_store01-atgap04?Ntk=P_key_Contributor_List&amp;Ns=P_Sales_Rank&amp;Ntx=mode+matchall\">Jan Brett</a></div>\n",
       " <div data-bv-product-id=\"9780399252969\" data-bv-seo=\"false\" data-bv-show=\"inline_rating\"></div>\n",
       " <div class=\"product-shelf-pricing mt-s mb-s\">\n",
       " <table>\n",
       " <thead class=\"heading\">\n",
       " <tr>\n",
       " <th class=\"format\">Format</th>\n",
       " <th class=\"buy-new three-column-padding\">\n",
       " BN.com</th>\n",
       " <th aria-hidden=\"true\" class=\"availability pb-xxxs hidden\">Availability</th>\n",
       " </tr>\n",
       " </thead>\n",
       " <tbody>\n",
       " <tr>\n",
       " <td class=\"format\">\n",
       " <a class=\"format\" href=\"/w/mitten-jan-brett/1100321532;jsessionid=F2252E992967E09F2F199BA9BFB9D171.prodny_store01-atgap04?ean=9780399252969\" onclick=\"set_cookie('txl__Mitten/Jan-Brett_text');\" title=\"\">Hardcover</a></td>\n",
       " <td class=\"buy-new three-column-padding\">\n",
       " <span class=\"current\">\n",
       " <a class=\"current link\" href=\"/w/mitten-jan-brett/1100321532;jsessionid=F2252E992967E09F2F199BA9BFB9D171.prodny_store01-atgap04?ean=9780399252969\" onclick=\"set_cookie('txl__Mitten/Jan-Brett_text');\" title=\"\">$17.49</a></span>\n",
       " <div class=\"hidden\" id=\"description9780399252969\">\n",
       " Original price was $18.99. You Save 8%.</div>\n",
       " \n",
       "   <span class=\"previous\">$18.99</span>\n",
       " <p class=\"discount mt-0 mb-0\">SAVE 8%</p>\n",
       " <span class=\"sr-only\">Current price is $17.49, Original price is $18.99. You Save 8%.</span>\n",
       " </td>\n",
       " <td aria-hidden=\"true\" class=\"availability hidden\">\n",
       " <div class=\"plp-bopis-badge hidden\">\n",
       " <div class=\"availability-spacing flex\">\n",
       " <div class=\"bopis-icon\">\n",
       " <span class=\"icon-check\"></span>\n",
       " </div>\n",
       " <p class=\"ml-xxs bopis-badge-message mt-0 mb-0\">Available Online</p>\n",
       " </div>\n",
       " </div>\n",
       " </td>\n",
       " </tr>\n",
       " </tbody>\n",
       " </table>\n",
       " </div>\n",
       " <div class=\"flex list-row-bottom mt-s\">\n",
       " <div class=\"formats-coupons\">\n",
       " <div class=\"product-shelf-formats color-coal\">Also available as:\n",
       " <a class=\"\" href=\"/w/mitten-jan-brett/1100321532;jsessionid=F2252E992967E09F2F199BA9BFB9D171.prodny_store01-atgap04?ean=9781101550052\" onclick=\"set_cookie('txl__Mitten/Jan-Brett_text');\" title=\"\">NOOK Book</a>, <a class=\"\" href=\"/w/mitten-jan-brett/1100321532;jsessionid=F2252E992967E09F2F199BA9BFB9D171.prodny_store01-atgap04?ean=9780399231094\" onclick=\"set_cookie('txl__Mitten/Jan-Brett_text');\" title=\"\">Board Book</a>, <a data-digital-ean=\"9781101576182\" data-formatsurl=\"https://www.barnesandnoble.com/cartridges/ProductDetailContent/ProductDetailTypes/includes/formatModal-ra.jsp?skuId=9780399252969&amp;digitalEan=9781101576182&amp;workId=1100321532\" data-ismarketplace=\"false\" data-modal-class=\"BN.Modal.Browse.Formats\" data-pd-modal=\"/modals/search/quickview.jsp?isMarketplace=false\" data-pd-modal-class=\"BN.Modal.Browse.Quickview\" data-pd-quickview-url=\"/w/mitten-jan-brett/1100321532?ean=9780399252969\" data-sku-id=\"9780399252969\" data-work-id=\"1100321532\" href=\"#\" id=\"prd9780399252969_9780399252969\">See All <span class=\"icon-right icon\"></span></a>\n",
       " </div>\n",
       " <div class=\"plp-coupon mt-xs hidden\"></div>\n",
       " </div>\n",
       " <input class=\"sku-data\" type=\"hidden\" value=\"9780399252969_book_false_false_true_2009-10-05 00:00:00.0\">\n",
       " <div class=\"plp-add-to-cart-btn-container hidden\" id=\"skuForm_9780399252969\">\n",
       " </div>\n",
       " </input></div>\n",
       " </div>,\n",
       " <div class=\"col-lg-9 product-info-listView\">\n",
       " <div class=\"product-shelf-title pr-m\"><h3 class=\"product-info-title\">\n",
       " <a class=\"\" href=\"/w/stinky-cheese-man-and-other-fairly-stupid-tales-jon-scieszka/1102224575;jsessionid=F2252E992967E09F2F199BA9BFB9D171.prodny_store01-atgap04?ean=9780670844876\" onclick=\"set_cookie('txl__Stinky-Cheese-Man-and-Other-Fairly-Stupid-Tales/Jon-Scieszka_text');\" title=\"\">The Stinky Cheese Man and Other Fairly Stupid Tales</a><span class=\"text--small publ-date\"> (10/28/1992)</span>\n",
       " </h3></div>\n",
       " <!-- ATG-18359 start-->\n",
       " <!-- AT-589 code fix for Data Oddity Start-->\n",
       " <!-- AT-589 code fix for Data Oddity :End-->\n",
       " <!-- AT-589 code fix for Data Oddity-->\n",
       " <div class=\"product-shelf-author contributors\">by <a href=\"/s/%22Jon Scieszka%22;jsessionid=F2252E992967E09F2F199BA9BFB9D171.prodny_store01-atgap04?Ntk=P_key_Contributor_List&amp;Ns=P_Sales_Rank&amp;Ntx=mode+matchall\">Jon Scieszka</a>, <a href=\"/s/%22 Lane Smith%22;jsessionid=F2252E992967E09F2F199BA9BFB9D171.prodny_store01-atgap04?Ntk=P_key_Contributor_List&amp;Ns=P_Sales_Rank&amp;Ntx=mode+matchall\"> Lane Smith</a></div>\n",
       " <div data-bv-product-id=\"9780670844876\" data-bv-seo=\"false\" data-bv-show=\"inline_rating\"></div>\n",
       " <div class=\"product-shelf-pricing mt-s mb-s\">\n",
       " <table>\n",
       " <thead class=\"heading\">\n",
       " <tr>\n",
       " <th class=\"format\">Format</th>\n",
       " <th class=\"buy-new three-column-padding\">\n",
       " BN.com</th>\n",
       " <th aria-hidden=\"true\" class=\"availability pb-xxxs hidden\">Availability</th>\n",
       " </tr>\n",
       " </thead>\n",
       " <tbody>\n",
       " <tr>\n",
       " <td class=\"format\">\n",
       " <a class=\"format\" href=\"/w/stinky-cheese-man-and-other-fairly-stupid-tales-jon-scieszka/1102224575;jsessionid=F2252E992967E09F2F199BA9BFB9D171.prodny_store01-atgap04?ean=9780670844876\" onclick=\"set_cookie('txl__Stinky-Cheese-Man-and-Other-Fairly-Stupid-Tales/Jon-Scieszka_text');\" title=\"\">Hardcover</a></td>\n",
       " <td class=\"buy-new three-column-padding\">\n",
       " <span class=\"current\">\n",
       " <a class=\"current link\" href=\"/w/stinky-cheese-man-and-other-fairly-stupid-tales-jon-scieszka/1102224575;jsessionid=F2252E992967E09F2F199BA9BFB9D171.prodny_store01-atgap04?ean=9780670844876\" onclick=\"set_cookie('txl__Stinky-Cheese-Man-and-Other-Fairly-Stupid-Tales/Jon-Scieszka_text');\" title=\"\">$16.99</a></span>\n",
       " <div class=\"hidden\" id=\"description9780670844876\">\n",
       " Original price was $18.99. You Save 11%.</div>\n",
       " \n",
       "   <span class=\"previous\">$18.99</span>\n",
       " <p class=\"discount mt-0 mb-0\">SAVE 11%</p>\n",
       " <span class=\"sr-only\">Current price is $16.99, Original price is $18.99. You Save 11%.</span>\n",
       " </td>\n",
       " <td aria-hidden=\"true\" class=\"availability hidden\">\n",
       " <div class=\"plp-bopis-badge hidden\">\n",
       " <div class=\"availability-spacing flex\">\n",
       " <div class=\"bopis-icon\">\n",
       " <span class=\"icon-check\"></span>\n",
       " </div>\n",
       " <p class=\"ml-xxs bopis-badge-message mt-0 mb-0\">Available Online</p>\n",
       " </div>\n",
       " </div>\n",
       " </td>\n",
       " </tr>\n",
       " </tbody>\n",
       " </table>\n",
       " </div>\n",
       " <div class=\"flex list-row-bottom mt-s\">\n",
       " <div class=\"formats-coupons\">\n",
       " <div class=\"plp-coupon mt-xs hidden\"></div>\n",
       " </div>\n",
       " <input class=\"sku-data\" type=\"hidden\" value=\"9780670844876_book_false_false_false_1992-10-28 00:00:00.0\">\n",
       " <div class=\"plp-add-to-cart-btn-container hidden\" id=\"skuForm_9780670844876\">\n",
       " </div>\n",
       " </input></div>\n",
       " </div>,\n",
       " <div class=\"col-lg-9 product-info-listView\">\n",
       " <div class=\"product-shelf-title pr-m\"><h3 class=\"product-info-title\">\n",
       " <a class=\"\" href=\"/w/barnes-noble-leatherbound-classics-the-story-of-king-arthur-and-his-knights-howard-pyle/1106658831;jsessionid=F2252E992967E09F2F199BA9BFB9D171.prodny_store01-atgap04?ean=9781435162112\" onclick=\"set_cookie('txl__Barnes-Noble-Leatherbound-Classics-The-Story-of-King-Arthur-and-His-Knights/Howard-Pyle_text');\" title=\"\">The Story of King Arthur and His Knights (Barnes &amp; Noble Collectible Editions)</a><span class=\"text--small publ-date\"> (06/01/2016)</span>\n",
       " </h3></div>\n",
       " <!-- ATG-18359 start-->\n",
       " <!-- AT-589 code fix for Data Oddity Start-->\n",
       " <!-- AT-589 code fix for Data Oddity :End-->\n",
       " <!-- AT-589 code fix for Data Oddity-->\n",
       " <div class=\"product-shelf-author contributors\">by <a href=\"/s/%22Howard Pyle%22;jsessionid=F2252E992967E09F2F199BA9BFB9D171.prodny_store01-atgap04?Ntk=P_key_Contributor_List&amp;Ns=P_Sales_Rank&amp;Ntx=mode+matchall\">Howard Pyle</a></div>\n",
       " <div data-bv-product-id=\"9781435162112\" data-bv-seo=\"false\" data-bv-show=\"inline_rating\"></div>\n",
       " <div class=\"product-shelf-pricing mt-s mb-s\">\n",
       " <table>\n",
       " <thead class=\"heading\">\n",
       " <tr>\n",
       " <th class=\"format\">Format</th>\n",
       " <th class=\"buy-new three-column-padding\">\n",
       " BN.com</th>\n",
       " <th aria-hidden=\"true\" class=\"availability pb-xxxs hidden\">Availability</th>\n",
       " </tr>\n",
       " </thead>\n",
       " <tbody>\n",
       " <tr>\n",
       " <td class=\"format\">\n",
       " <a class=\"format\" href=\"/w/barnes-noble-leatherbound-classics-the-story-of-king-arthur-and-his-knights-howard-pyle/1106658831;jsessionid=F2252E992967E09F2F199BA9BFB9D171.prodny_store01-atgap04?ean=9781435162112\" onclick=\"set_cookie('txl__Barnes-Noble-Leatherbound-Classics-The-Story-of-King-Arthur-and-His-Knights/Howard-Pyle_text');\" title=\"\">Hardcover</a></td>\n",
       " <td class=\"buy-new three-column-padding\">\n",
       " <span class=\"current\">\n",
       " <a class=\"current link\" href=\"/w/barnes-noble-leatherbound-classics-the-story-of-king-arthur-and-his-knights-howard-pyle/1106658831;jsessionid=F2252E992967E09F2F199BA9BFB9D171.prodny_store01-atgap04?ean=9781435162112\" onclick=\"set_cookie('txl__Barnes-Noble-Leatherbound-Classics-The-Story-of-King-Arthur-and-His-Knights/Howard-Pyle_text');\" title=\"\">$10.00</a></span>\n",
       " <span class=\"sr-only\">Current price is $10.00, Original price is $10.00. You Save 11%.</span>\n",
       " </td>\n",
       " <td aria-hidden=\"true\" class=\"availability hidden\">\n",
       " <div class=\"plp-bopis-badge hidden\">\n",
       " <div class=\"availability-spacing flex\">\n",
       " <div class=\"bopis-icon\">\n",
       " <span class=\"icon-check\"></span>\n",
       " </div>\n",
       " <p class=\"ml-xxs bopis-badge-message mt-0 mb-0\">Available Online</p>\n",
       " </div>\n",
       " </div>\n",
       " </td>\n",
       " </tr>\n",
       " </tbody>\n",
       " </table>\n",
       " </div>\n",
       " <div class=\"flex list-row-bottom mt-s\">\n",
       " <div class=\"formats-coupons\">\n",
       " <div class=\"plp-coupon mt-xs hidden\"></div>\n",
       " </div>\n",
       " <input class=\"sku-data\" type=\"hidden\" value=\"9781435162112_book_false_false_false_2016-06-01 00:00:00.0\">\n",
       " <div class=\"plp-add-to-cart-btn-container hidden\" id=\"skuForm_9781435162112\">\n",
       " </div>\n",
       " </input></div>\n",
       " </div>,\n",
       " <div class=\"col-lg-9 product-info-listView\">\n",
       " <div class=\"product-shelf-title pr-m\"><h3 class=\"product-info-title\">\n",
       " <a class=\"\" href=\"/w/the-tyrants-tomb-rick-riordan/1129969087;jsessionid=F2252E992967E09F2F199BA9BFB9D171.prodny_store01-atgap04?ean=9781368053785\" onclick=\"set_cookie('txl__The-Tyrants-Tomb/Rick-Riordan_text');\" title=\"\">The Tyrant's Tomb (B&amp;N Exclusive Edition) (The Trials of Apollo Series #4)</a><span class=\"text--small publ-date\"> (09/24/2019)</span>\n",
       " </h3></div>\n",
       " <!-- ATG-18359 start-->\n",
       " <!-- AT-589 code fix for Data Oddity Start-->\n",
       " <!-- AT-589 code fix for Data Oddity :End-->\n",
       " <!-- AT-589 code fix for Data Oddity-->\n",
       " <div class=\"product-shelf-author contributors\">by <a href=\"/b/contributor/rick-riordan/_/N-2kka;jsessionid=F2252E992967E09F2F199BA9BFB9D171.prodny_store01-atgap04\">Rick Riordan</a></div>\n",
       " <div data-bv-product-id=\"9781368053785\" data-bv-seo=\"false\" data-bv-show=\"inline_rating\"></div>\n",
       " <div class=\"product-shelf-pricing mt-s mb-s\">\n",
       " <table>\n",
       " <thead class=\"heading\">\n",
       " <tr>\n",
       " <th class=\"format\">Format</th>\n",
       " <th class=\"buy-new three-column-padding\">\n",
       " BN.com</th>\n",
       " <th aria-hidden=\"true\" class=\"availability pb-xxxs hidden\">Availability</th>\n",
       " </tr>\n",
       " </thead>\n",
       " <tbody>\n",
       " <tr>\n",
       " <td class=\"format\">\n",
       " <a class=\"format\" href=\"/w/the-tyrants-tomb-rick-riordan/1129969087;jsessionid=F2252E992967E09F2F199BA9BFB9D171.prodny_store01-atgap04?ean=9781368053785\" onclick=\"set_cookie('txl__The-Tyrants-Tomb/Rick-Riordan_text');\" title=\"\">Hardcover</a></td>\n",
       " <td class=\"buy-new three-column-padding\">\n",
       " <span class=\"current\">\n",
       " <a class=\"current link\" href=\"/w/the-tyrants-tomb-rick-riordan/1129969087;jsessionid=F2252E992967E09F2F199BA9BFB9D171.prodny_store01-atgap04?ean=9781368053785\" onclick=\"set_cookie('txl__The-Tyrants-Tomb/Rick-Riordan_text');\" title=\"\">$17.99</a></span>\n",
       " <div class=\"hidden\" id=\"description9781368053785\">\n",
       " Original price was $19.99. You Save 10%.</div>\n",
       " \n",
       "   <span class=\"previous\">$19.99</span>\n",
       " <p class=\"discount mt-0 mb-0\">SAVE 10%</p>\n",
       " <span class=\"sr-only\">Current price is $17.99, Original price is $19.99. You Save 10%.</span>\n",
       " </td>\n",
       " <td aria-hidden=\"true\" class=\"availability hidden\">\n",
       " <div class=\"plp-bopis-badge hidden\">\n",
       " <div class=\"availability-spacing flex\">\n",
       " <div class=\"bopis-icon\">\n",
       " <span class=\"icon-check\"></span>\n",
       " </div>\n",
       " <p class=\"ml-xxs bopis-badge-message mt-0 mb-0\">Available Online</p>\n",
       " </div>\n",
       " </div>\n",
       " </td>\n",
       " </tr>\n",
       " </tbody>\n",
       " </table>\n",
       " </div>\n",
       " <div class=\"flex list-row-bottom mt-s\">\n",
       " <div class=\"formats-coupons\">\n",
       " <div class=\"product-shelf-formats color-coal\">Also available as:\n",
       " <a class=\"\" href=\"/w/the-tyrants-tomb-rick-riordan/1129969087;jsessionid=F2252E992967E09F2F199BA9BFB9D171.prodny_store01-atgap04?ean=9781484746448\" onclick=\"set_cookie('txl__The-Tyrants-Tomb/Rick-Riordan_text');\" title=\"\">Hardcover</a>, <a class=\"\" href=\"/w/the-tyrants-tomb-rick-riordan/1129969087;jsessionid=F2252E992967E09F2F199BA9BFB9D171.prodny_store01-atgap04?ean=9781484780664\" onclick=\"set_cookie('txl__The-Tyrants-Tomb/Rick-Riordan_text');\" title=\"\">Paperback</a>, <a class=\"\" href=\"/w/the-tyrants-tomb-rick-riordan/1129969087;jsessionid=F2252E992967E09F2F199BA9BFB9D171.prodny_store01-atgap04?ean=9781368001441\" onclick=\"set_cookie('txl__The-Tyrants-Tomb/Rick-Riordan_text');\" title=\"\">NOOK Book</a>, <a class=\"\" href=\"/w/the-tyrants-tomb-rick-riordan/1129969087;jsessionid=F2252E992967E09F2F199BA9BFB9D171.prodny_store01-atgap04?ean=9781432869458\" onclick=\"set_cookie('txl__The-Tyrants-Tomb/Rick-Riordan_text');\" title=\"\">Large Print</a>, <a class=\"\" href=\"/w/the-tyrants-tomb-rick-riordan/1129969087;jsessionid=F2252E992967E09F2F199BA9BFB9D171.prodny_store01-atgap04?ean=9780593149492\" onclick=\"set_cookie('txl__The-Tyrants-Tomb/Rick-Riordan_text');\" title=\"\">Audio CD</a>, <a data-digital-ean=\"\" data-formatsurl=\"https://www.barnesandnoble.com/cartridges/ProductDetailContent/ProductDetailTypes/includes/formatModal-ra.jsp?skuId=9781368053785&amp;digitalEan=&amp;workId=1129969087\" data-ismarketplace=\"false\" data-modal-class=\"BN.Modal.Browse.Formats\" data-pd-modal=\"/modals/search/quickview.jsp?isMarketplace=false\" data-pd-modal-class=\"BN.Modal.Browse.Quickview\" data-pd-quickview-url=\"/w/the-tyrants-tomb-rick-riordan/1129969087?ean=9781368053785\" data-sku-id=\"9781368053785\" data-work-id=\"1129969087\" href=\"#\" id=\"prd9781368053785_9781368053785\">See All <span class=\"icon-right icon\"></span></a>\n",
       " </div>\n",
       " <div class=\"plp-coupon mt-xs hidden\"></div>\n",
       " </div>\n",
       " <input class=\"sku-data\" type=\"hidden\" value=\"9781368053785_book_false_false_true_2019-09-24 00:00:00.0\">\n",
       " <div class=\"plp-add-to-cart-btn-container hidden\" id=\"skuForm_9781368053785\">\n",
       " </div>\n",
       " </input></div>\n",
       " </div>,\n",
       " <div class=\"col-lg-9 product-info-listView\">\n",
       " <div class=\"product-shelf-title pr-m\"><h3 class=\"product-info-title\">\n",
       " <a class=\"\" href=\"/w/orphan-island-laurel-snyder/1124564515;jsessionid=F2252E992967E09F2F199BA9BFB9D171.prodny_store01-atgap04?ean=9780062443427\" onclick=\"set_cookie('txl__Orphan-Island/Laurel-Snyder_text');\" title=\"\">Orphan Island</a><span class=\"text--small publ-date\"> (10/02/2018)</span>\n",
       " </h3></div>\n",
       " <!-- ATG-18359 start-->\n",
       " <!-- AT-589 code fix for Data Oddity Start-->\n",
       " <!-- AT-589 code fix for Data Oddity :End-->\n",
       " <!-- AT-589 code fix for Data Oddity-->\n",
       " <div class=\"product-shelf-author contributors\">by <a href=\"/s/%22Laurel Snyder%22;jsessionid=F2252E992967E09F2F199BA9BFB9D171.prodny_store01-atgap04?Ntk=P_key_Contributor_List&amp;Ns=P_Sales_Rank&amp;Ntx=mode+matchall\">Laurel Snyder</a></div>\n",
       " <div data-bv-product-id=\"9780062443427\" data-bv-seo=\"false\" data-bv-show=\"inline_rating\"></div>\n",
       " <div class=\"product-shelf-pricing mt-s mb-s\">\n",
       " <table>\n",
       " <thead class=\"heading\">\n",
       " <tr>\n",
       " <th class=\"format\">Format</th>\n",
       " <th class=\"buy-new three-column-padding\">\n",
       " BN.com</th>\n",
       " <th aria-hidden=\"true\" class=\"availability pb-xxxs hidden\">Availability</th>\n",
       " </tr>\n",
       " </thead>\n",
       " <tbody>\n",
       " <tr>\n",
       " <td class=\"format\">\n",
       " <a class=\"format\" href=\"/w/orphan-island-laurel-snyder/1124564515;jsessionid=F2252E992967E09F2F199BA9BFB9D171.prodny_store01-atgap04?ean=9780062443427\" onclick=\"set_cookie('txl__Orphan-Island/Laurel-Snyder_text');\" title=\"\">Paperback</a></td>\n",
       " <td class=\"buy-new three-column-padding\">\n",
       " <span class=\"current\">\n",
       " <a class=\"current link\" href=\"/w/orphan-island-laurel-snyder/1124564515;jsessionid=F2252E992967E09F2F199BA9BFB9D171.prodny_store01-atgap04?ean=9780062443427\" onclick=\"set_cookie('txl__Orphan-Island/Laurel-Snyder_text');\" title=\"\">$7.99</a></span>\n",
       " <span class=\"sr-only\">Current price is $7.99, Original price is $7.99. You Save 10%.</span>\n",
       " </td>\n",
       " <td aria-hidden=\"true\" class=\"availability hidden\">\n",
       " <div class=\"plp-bopis-badge hidden\">\n",
       " <div class=\"availability-spacing flex\">\n",
       " <div class=\"bopis-icon\">\n",
       " <span class=\"icon-check\"></span>\n",
       " </div>\n",
       " <p class=\"ml-xxs bopis-badge-message mt-0 mb-0\">Available Online</p>\n",
       " </div>\n",
       " </div>\n",
       " </td>\n",
       " </tr>\n",
       " </tbody>\n",
       " </table>\n",
       " </div>\n",
       " <div class=\"flex list-row-bottom mt-s\">\n",
       " <div class=\"formats-coupons\">\n",
       " <div class=\"product-shelf-formats color-coal\">Also available as:\n",
       " <a class=\"\" href=\"/w/orphan-island-laurel-snyder/1124564515;jsessionid=F2252E992967E09F2F199BA9BFB9D171.prodny_store01-atgap04?ean=9780062443410\" onclick=\"set_cookie('txl__Orphan-Island/Laurel-Snyder_text');\" title=\"\">Hardcover</a>, <a class=\"\" href=\"/w/orphan-island-laurel-snyder/1124564515;jsessionid=F2252E992967E09F2F199BA9BFB9D171.prodny_store01-atgap04?ean=9780062443434\" onclick=\"set_cookie('txl__Orphan-Island/Laurel-Snyder_text');\" title=\"\">NOOK Book</a>, <a data-digital-ean=\"9780062443434\" data-formatsurl=\"https://www.barnesandnoble.com/cartridges/ProductDetailContent/ProductDetailTypes/includes/formatModal-ra.jsp?skuId=9780062443427&amp;digitalEan=9780062443434&amp;workId=1124564515\" data-ismarketplace=\"false\" data-modal-class=\"BN.Modal.Browse.Formats\" data-pd-modal=\"/modals/search/quickview.jsp?isMarketplace=false\" data-pd-modal-class=\"BN.Modal.Browse.Quickview\" data-pd-quickview-url=\"/w/orphan-island-laurel-snyder/1124564515?ean=9780062443427\" data-sku-id=\"9780062443427\" data-work-id=\"1124564515\" href=\"#\" id=\"prd9780062443427_9780062443427\">See All <span class=\"icon-right icon\"></span></a>\n",
       " </div>\n",
       " <div class=\"plp-coupon mt-xs hidden\"></div>\n",
       " </div>\n",
       " <input class=\"sku-data\" type=\"hidden\" value=\"9780062443427_book_false_false_true_2018-10-02 00:00:00.0\">\n",
       " <div class=\"plp-add-to-cart-btn-container hidden\" id=\"skuForm_9780062443427\">\n",
       " </div>\n",
       " </input></div>\n",
       " </div>,\n",
       " <div class=\"col-lg-9 product-info-listView\">\n",
       " <div class=\"product-shelf-title pr-m\"><h3 class=\"product-info-title\">\n",
       " <a class=\"\" href=\"/w/the-little-mermaid-and-other-fairy-tales-andersen-hans-christian/1126932194;jsessionid=F2252E992967E09F2F199BA9BFB9D171.prodny_store01-atgap04?ean=9781435163683\" onclick=\"set_cookie('txl__The-Little-Mermaid-and-Other-Fairy-Tales/Andersen-Hans-Christian_text');\" title=\"\">The Little Mermaid and Other Fairy Tales (Barnes &amp; Noble Collectible Editions)</a><span class=\"text--small publ-date\"> (10/05/2016)</span>\n",
       " </h3></div>\n",
       " <!-- ATG-18359 start-->\n",
       " <!-- AT-589 code fix for Data Oddity Start-->\n",
       " <!-- AT-589 code fix for Data Oddity :End-->\n",
       " <!-- AT-589 code fix for Data Oddity-->\n",
       " <div class=\"product-shelf-author contributors\">by <a href=\"/s/%22Hans Christian Andersen%22;jsessionid=F2252E992967E09F2F199BA9BFB9D171.prodny_store01-atgap04?Ntk=P_key_Contributor_List&amp;Ns=P_Sales_Rank&amp;Ntx=mode+matchall\">Hans Christian Andersen</a>, <a href=\"/s/%22 W. Heath Robinson%22;jsessionid=F2252E992967E09F2F199BA9BFB9D171.prodny_store01-atgap04?Ntk=P_key_Contributor_List&amp;Ns=P_Sales_Rank&amp;Ntx=mode+matchall\"> W. Heath Robinson</a></div>\n",
       " <div data-bv-product-id=\"9781435163683\" data-bv-seo=\"false\" data-bv-show=\"inline_rating\"></div>\n",
       " <div class=\"product-shelf-pricing mt-s mb-s\">\n",
       " <table>\n",
       " <thead class=\"heading\">\n",
       " <tr>\n",
       " <th class=\"format\">Format</th>\n",
       " <th class=\"buy-new three-column-padding\">\n",
       " BN.com</th>\n",
       " <th aria-hidden=\"true\" class=\"availability pb-xxxs hidden\">Availability</th>\n",
       " </tr>\n",
       " </thead>\n",
       " <tbody>\n",
       " <tr>\n",
       " <td class=\"format\">\n",
       " <a class=\"format\" href=\"/w/the-little-mermaid-and-other-fairy-tales-andersen-hans-christian/1126932194;jsessionid=F2252E992967E09F2F199BA9BFB9D171.prodny_store01-atgap04?ean=9781435163683\" onclick=\"set_cookie('txl__The-Little-Mermaid-and-Other-Fairy-Tales/Andersen-Hans-Christian_text');\" title=\"\">Hardcover</a></td>\n",
       " <td class=\"buy-new three-column-padding\">\n",
       " <span class=\"current\">\n",
       " <a class=\"current link\" href=\"/w/the-little-mermaid-and-other-fairy-tales-andersen-hans-christian/1126932194;jsessionid=F2252E992967E09F2F199BA9BFB9D171.prodny_store01-atgap04?ean=9781435163683\" onclick=\"set_cookie('txl__The-Little-Mermaid-and-Other-Fairy-Tales/Andersen-Hans-Christian_text');\" title=\"\">$10.00</a></span>\n",
       " <span class=\"sr-only\">Current price is $10.00, Original price is $10.00. You Save 10%.</span>\n",
       " </td>\n",
       " <td aria-hidden=\"true\" class=\"availability hidden\">\n",
       " <div class=\"plp-bopis-badge hidden\">\n",
       " <div class=\"availability-spacing flex\">\n",
       " <div class=\"bopis-icon\">\n",
       " <span class=\"icon-check\"></span>\n",
       " </div>\n",
       " <p class=\"ml-xxs bopis-badge-message mt-0 mb-0\">Available Online</p>\n",
       " </div>\n",
       " </div>\n",
       " </td>\n",
       " </tr>\n",
       " </tbody>\n",
       " </table>\n",
       " </div>\n",
       " <div class=\"flex list-row-bottom mt-s\">\n",
       " <div class=\"formats-coupons\">\n",
       " <div class=\"plp-coupon mt-xs hidden\"></div>\n",
       " </div>\n",
       " <input class=\"sku-data\" type=\"hidden\" value=\"9781435163683_book_false_false_false_2016-10-05 00:00:00.0\">\n",
       " <div class=\"plp-add-to-cart-btn-container hidden\" id=\"skuForm_9781435163683\">\n",
       " </div>\n",
       " </input></div>\n",
       " </div>,\n",
       " <div class=\"col-lg-9 product-info-listView\">\n",
       " <div class=\"product-shelf-title pr-m\"><h3 class=\"product-info-title\">\n",
       " <a class=\"\" href=\"/w/the-dark-prophecy-rick-riordan/1123754098;jsessionid=F2252E992967E09F2F199BA9BFB9D171.prodny_store01-atgap04?ean=9781484780640\" onclick=\"set_cookie('txl__The-Dark-Prophecy/Rick-Riordan_text');\" title=\"\">The Dark Prophecy (The Trials of Apollo Series #2)</a><span class=\"text--small publ-date\"> (10/02/2018)</span>\n",
       " </h3></div>\n",
       " <!-- ATG-18359 start-->\n",
       " <!-- AT-589 code fix for Data Oddity Start-->\n",
       " <!-- AT-589 code fix for Data Oddity :End-->\n",
       " <!-- AT-589 code fix for Data Oddity-->\n",
       " <div class=\"product-shelf-author contributors\">by <a href=\"/b/contributor/rick-riordan/_/N-2kka;jsessionid=F2252E992967E09F2F199BA9BFB9D171.prodny_store01-atgap04\">Rick Riordan</a></div>\n",
       " <div data-bv-product-id=\"9781484780640\" data-bv-seo=\"false\" data-bv-show=\"inline_rating\"></div>\n",
       " <div class=\"product-shelf-pricing mt-s mb-s\">\n",
       " <table>\n",
       " <thead class=\"heading\">\n",
       " <tr>\n",
       " <th class=\"format\">Format</th>\n",
       " <th class=\"buy-new three-column-padding\">\n",
       " BN.com</th>\n",
       " <th aria-hidden=\"true\" class=\"availability pb-xxxs hidden\">Availability</th>\n",
       " </tr>\n",
       " </thead>\n",
       " <tbody>\n",
       " <tr>\n",
       " <td class=\"format\">\n",
       " <a class=\"format\" href=\"/w/the-dark-prophecy-rick-riordan/1123754098;jsessionid=F2252E992967E09F2F199BA9BFB9D171.prodny_store01-atgap04?ean=9781484780640\" onclick=\"set_cookie('txl__The-Dark-Prophecy/Rick-Riordan_text');\" title=\"\">Paperback</a></td>\n",
       " <td class=\"buy-new three-column-padding\">\n",
       " <span class=\"current\">\n",
       " <a class=\"current link\" href=\"/w/the-dark-prophecy-rick-riordan/1123754098;jsessionid=F2252E992967E09F2F199BA9BFB9D171.prodny_store01-atgap04?ean=9781484780640\" onclick=\"set_cookie('txl__The-Dark-Prophecy/Rick-Riordan_text');\" title=\"\">$8.99</a></span>\n",
       " <div class=\"hidden\" id=\"description9781484780640\">\n",
       " Original price was $9.99. You Save 10%.</div>\n",
       " \n",
       "   <span class=\"previous\">$9.99</span>\n",
       " <p class=\"discount mt-0 mb-0\">SAVE 10%</p>\n",
       " <span class=\"sr-only\">Current price is $8.99, Original price is $9.99. You Save 10%.</span>\n",
       " </td>\n",
       " <td aria-hidden=\"true\" class=\"availability hidden\">\n",
       " <div class=\"plp-bopis-badge hidden\">\n",
       " <div class=\"availability-spacing flex\">\n",
       " <div class=\"bopis-icon\">\n",
       " <span class=\"icon-check\"></span>\n",
       " </div>\n",
       " <p class=\"ml-xxs bopis-badge-message mt-0 mb-0\">Available Online</p>\n",
       " </div>\n",
       " </div>\n",
       " </td>\n",
       " </tr>\n",
       " </tbody>\n",
       " </table>\n",
       " </div>\n",
       " <div class=\"flex list-row-bottom mt-s\">\n",
       " <div class=\"formats-coupons\">\n",
       " <div class=\"product-shelf-formats color-coal\">Also available as:\n",
       " <a class=\"\" href=\"/w/the-dark-prophecy-rick-riordan/1123754098;jsessionid=F2252E992967E09F2F199BA9BFB9D171.prodny_store01-atgap04?ean=9781484746424\" onclick=\"set_cookie('txl__The-Dark-Prophecy/Rick-Riordan_text');\" title=\"\">Hardcover</a>, <a class=\"\" href=\"/w/the-dark-prophecy-rick-riordan/1123754098;jsessionid=F2252E992967E09F2F199BA9BFB9D171.prodny_store01-atgap04?ean=9781368001014\" onclick=\"set_cookie('txl__The-Dark-Prophecy/Rick-Riordan_text');\" title=\"\">NOOK Book</a>, <a class=\"\" href=\"/w/the-dark-prophecy-rick-riordan/1123754098;jsessionid=F2252E992967E09F2F199BA9BFB9D171.prodny_store01-atgap04?ean=9781524735838\" onclick=\"set_cookie('txl__The-Dark-Prophecy/Rick-Riordan_text');\" title=\"\">Audio CD</a>, <a data-digital-ean=\"\" data-formatsurl=\"https://www.barnesandnoble.com/cartridges/ProductDetailContent/ProductDetailTypes/includes/formatModal-ra.jsp?skuId=9781484780640&amp;digitalEan=&amp;workId=1123754098\" data-ismarketplace=\"false\" data-modal-class=\"BN.Modal.Browse.Formats\" data-pd-modal=\"/modals/search/quickview.jsp?isMarketplace=false\" data-pd-modal-class=\"BN.Modal.Browse.Quickview\" data-pd-quickview-url=\"/w/the-dark-prophecy-rick-riordan/1123754098?ean=9781484780640\" data-sku-id=\"9781484780640\" data-work-id=\"1123754098\" href=\"#\" id=\"prd9781484780640_9781484780640\">See All <span class=\"icon-right icon\"></span></a>\n",
       " </div>\n",
       " <div class=\"plp-coupon mt-xs hidden\"></div>\n",
       " </div>\n",
       " <input class=\"sku-data\" type=\"hidden\" value=\"9781484780640_book_false_false_true_2018-10-02 00:00:00.0\">\n",
       " <div class=\"plp-add-to-cart-btn-container hidden\" id=\"skuForm_9781484780640\">\n",
       " </div>\n",
       " </input></div>\n",
       " </div>,\n",
       " <div class=\"col-lg-9 product-info-listView\">\n",
       " <div class=\"product-shelf-title pr-m\"><h3 class=\"product-info-title\">\n",
       " <a class=\"\" href=\"/w/little-prince-antoine-de-saint-exupery/1100090265;jsessionid=F2252E992967E09F2F199BA9BFB9D171.prodny_store01-atgap04?ean=9780156012195\" onclick=\"set_cookie('txl__Little-Prince/Antoine-de-Saint-Exupery_text');\" title=\"\">The Little Prince</a><span class=\"text--small publ-date\"> (05/22/2000)</span>\n",
       " </h3></div>\n",
       " <!-- ATG-18359 start-->\n",
       " <!-- AT-589 code fix for Data Oddity Start-->\n",
       " <!-- AT-589 code fix for Data Oddity :End-->\n",
       " <!-- AT-589 code fix for Data Oddity-->\n",
       " <div class=\"product-shelf-author contributors\">by <a href=\"/s/%22Antoine de Saint-Exupery%22;jsessionid=F2252E992967E09F2F199BA9BFB9D171.prodny_store01-atgap04?Ntk=P_key_Contributor_List&amp;Ns=P_Sales_Rank&amp;Ntx=mode+matchall\">Antoine de Saint-Exupery</a></div>\n",
       " <div data-bv-product-id=\"9780156012195\" data-bv-seo=\"false\" data-bv-show=\"inline_rating\"></div>\n",
       " <div class=\"product-shelf-pricing mt-s mb-s\">\n",
       " <table>\n",
       " <thead class=\"heading\">\n",
       " <tr>\n",
       " <th class=\"format\">Format</th>\n",
       " <th class=\"buy-new three-column-padding\">\n",
       " BN.com</th>\n",
       " <th aria-hidden=\"true\" class=\"availability pb-xxxs hidden\">Availability</th>\n",
       " </tr>\n",
       " </thead>\n",
       " <tbody>\n",
       " <tr>\n",
       " <td class=\"format\">\n",
       " <a class=\"format\" href=\"/w/little-prince-antoine-de-saint-exupery/1100090265;jsessionid=F2252E992967E09F2F199BA9BFB9D171.prodny_store01-atgap04?ean=9780156012195\" onclick=\"set_cookie('txl__Little-Prince/Antoine-de-Saint-Exupery_text');\" title=\"\">Paperback</a></td>\n",
       " <td class=\"buy-new three-column-padding\">\n",
       " <span class=\"current\">\n",
       " <a class=\"current link\" href=\"/w/little-prince-antoine-de-saint-exupery/1100090265;jsessionid=F2252E992967E09F2F199BA9BFB9D171.prodny_store01-atgap04?ean=9780156012195\" onclick=\"set_cookie('txl__Little-Prince/Antoine-de-Saint-Exupery_text');\" title=\"\">$10.99</a></span>\n",
       " <div class=\"hidden\" id=\"description9780156012195\">\n",
       " Original price was $11.99. You Save 8%.</div>\n",
       " \n",
       "   <span class=\"previous\">$11.99</span>\n",
       " <p class=\"discount mt-0 mb-0\">SAVE 8%</p>\n",
       " <span class=\"sr-only\">Current price is $10.99, Original price is $11.99. You Save 8%.</span>\n",
       " </td>\n",
       " <td aria-hidden=\"true\" class=\"availability hidden\">\n",
       " <div class=\"plp-bopis-badge hidden\">\n",
       " <div class=\"availability-spacing flex\">\n",
       " <div class=\"bopis-icon\">\n",
       " <span class=\"icon-check\"></span>\n",
       " </div>\n",
       " <p class=\"ml-xxs bopis-badge-message mt-0 mb-0\">Available Online</p>\n",
       " </div>\n",
       " </div>\n",
       " </td>\n",
       " </tr>\n",
       " </tbody>\n",
       " </table>\n",
       " </div>\n",
       " <div class=\"flex list-row-bottom mt-s\">\n",
       " <div class=\"formats-coupons\">\n",
       " <div class=\"product-shelf-formats color-coal\">Also available as:\n",
       " <a class=\"\" href=\"/w/little-prince-antoine-de-saint-exupery/1100090265;jsessionid=F2252E992967E09F2F199BA9BFB9D171.prodny_store01-atgap04?ean=9780152023980\" onclick=\"set_cookie('txl__Little-Prince/Antoine-de-Saint-Exupery_text');\" title=\"\">Hardcover</a>, <a class=\"\" href=\"/w/little-prince-antoine-de-saint-exupery/1100090265;jsessionid=F2252E992967E09F2F199BA9BFB9D171.prodny_store01-atgap04?ean=9780547761404\" onclick=\"set_cookie('txl__Little-Prince/Antoine-de-Saint-Exupery_text');\" title=\"\">NOOK Book</a>, <a class=\"\" href=\"/w/little-prince-antoine-de-saint-exupery/1100090265;jsessionid=F2252E992967E09F2F199BA9BFB9D171.prodny_store01-atgap04?ean=9780786275397\" onclick=\"set_cookie('txl__Little-Prince/Antoine-de-Saint-Exupery_text');\" title=\"\">Large Print</a>, <a class=\"\" href=\"/w/little-prince-antoine-de-saint-exupery/1100090265;jsessionid=F2252E992967E09F2F199BA9BFB9D171.prodny_store01-atgap04?ean=9780808563372\" onclick=\"set_cookie('txl__Little-Prince/Antoine-de-Saint-Exupery_text');\" title=\"\">Other Format</a>, <a data-digital-ean=\"9780547761404\" data-formatsurl=\"https://www.barnesandnoble.com/cartridges/ProductDetailContent/ProductDetailTypes/includes/formatModal-ra.jsp?skuId=9780156012195&amp;digitalEan=9780547761404&amp;workId=1100090265\" data-ismarketplace=\"false\" data-modal-class=\"BN.Modal.Browse.Formats\" data-pd-modal=\"/modals/search/quickview.jsp?isMarketplace=false\" data-pd-modal-class=\"BN.Modal.Browse.Quickview\" data-pd-quickview-url=\"/w/little-prince-antoine-de-saint-exupery/1100090265?ean=9780156012195\" data-sku-id=\"9780156012195\" data-work-id=\"1100090265\" href=\"#\" id=\"prd9780156012195_9780156012195\">See All <span class=\"icon-right icon\"></span></a>\n",
       " </div>\n",
       " <div class=\"plp-coupon mt-xs hidden\"></div>\n",
       " </div>\n",
       " <input class=\"sku-data\" type=\"hidden\" value=\"9780156012195_book_false_false_false_2000-05-22 00:00:00.0\">\n",
       " <div class=\"plp-add-to-cart-btn-container hidden\" id=\"skuForm_9780156012195\">\n",
       " </div>\n",
       " </input></div>\n",
       " </div>,\n",
       " <div class=\"col-lg-9 product-info-listView\">\n",
       " <div class=\"product-shelf-title pr-m\"><h3 class=\"product-info-title\">\n",
       " <a class=\"\" href=\"/w/strega-nona-tomie-depaola/1100398661;jsessionid=F2252E992967E09F2F199BA9BFB9D171.prodny_store01-atgap04?ean=9780671666064\" onclick=\"set_cookie('txl__Strega-Nona/Tomie-dePaola_text');\" title=\"\">Strega Nona</a><span class=\"text--small publ-date\"> (09/03/1979)</span>\n",
       " </h3></div>\n",
       " <!-- ATG-18359 start-->\n",
       " <!-- AT-589 code fix for Data Oddity Start-->\n",
       " <!-- AT-589 code fix for Data Oddity :End-->\n",
       " <!-- AT-589 code fix for Data Oddity-->\n",
       " <div class=\"product-shelf-author contributors\">by <a href=\"/s/%22Tomie dePaola%22;jsessionid=F2252E992967E09F2F199BA9BFB9D171.prodny_store01-atgap04?Ntk=P_key_Contributor_List&amp;Ns=P_Sales_Rank&amp;Ntx=mode+matchall\">Tomie dePaola</a></div>\n",
       " <div data-bv-product-id=\"9780671666064\" data-bv-seo=\"false\" data-bv-show=\"inline_rating\"></div>\n",
       " <div class=\"product-shelf-pricing mt-s mb-s\">\n",
       " <table>\n",
       " <thead class=\"heading\">\n",
       " <tr>\n",
       " <th class=\"format\">Format</th>\n",
       " <th class=\"buy-new three-column-padding\">\n",
       " BN.com</th>\n",
       " <th aria-hidden=\"true\" class=\"availability pb-xxxs hidden\">Availability</th>\n",
       " </tr>\n",
       " </thead>\n",
       " <tbody>\n",
       " <tr>\n",
       " <td class=\"format\">\n",
       " <a class=\"format\" href=\"/w/strega-nona-tomie-depaola/1100398661;jsessionid=F2252E992967E09F2F199BA9BFB9D171.prodny_store01-atgap04?ean=9780671666064\" onclick=\"set_cookie('txl__Strega-Nona/Tomie-dePaola_text');\" title=\"\">Paperback</a></td>\n",
       " <td class=\"buy-new three-column-padding\">\n",
       " <span class=\"current\">\n",
       " <a class=\"current link\" href=\"/w/strega-nona-tomie-depaola/1100398661;jsessionid=F2252E992967E09F2F199BA9BFB9D171.prodny_store01-atgap04?ean=9780671666064\" onclick=\"set_cookie('txl__Strega-Nona/Tomie-dePaola_text');\" title=\"\">$7.99</a></span>\n",
       " <div class=\"hidden\" id=\"description9780671666064\">\n",
       " Original price was $8.99. You Save 11%.</div>\n",
       " \n",
       "   <span class=\"previous\">$8.99</span>\n",
       " <p class=\"discount mt-0 mb-0\">SAVE 11%</p>\n",
       " <span class=\"sr-only\">Current price is $7.99, Original price is $8.99. You Save 11%.</span>\n",
       " </td>\n",
       " <td aria-hidden=\"true\" class=\"availability hidden\">\n",
       " <div class=\"plp-bopis-badge hidden\">\n",
       " <div class=\"availability-spacing flex\">\n",
       " <div class=\"bopis-icon\">\n",
       " <span class=\"icon-check\"></span>\n",
       " </div>\n",
       " <p class=\"ml-xxs bopis-badge-message mt-0 mb-0\">Available Online</p>\n",
       " </div>\n",
       " </div>\n",
       " </td>\n",
       " </tr>\n",
       " </tbody>\n",
       " </table>\n",
       " </div>\n",
       " <div class=\"flex list-row-bottom mt-s\">\n",
       " <div class=\"formats-coupons\">\n",
       " <div class=\"product-shelf-formats color-coal\">Also available as:\n",
       " <a class=\"\" href=\"/w/strega-nona-tomie-depaola/1100398661;jsessionid=F2252E992967E09F2F199BA9BFB9D171.prodny_store01-atgap04?ean=9780671662837\" onclick=\"set_cookie('txl__Strega-Nona/Tomie-dePaola_text');\" title=\"\">Hardcover</a>, <a class=\"\" href=\"/w/strega-nona-tomie-depaola/1100398661;jsessionid=F2252E992967E09F2F199BA9BFB9D171.prodny_store01-atgap04?ean=9781442449442\" onclick=\"set_cookie('txl__Strega-Nona/Tomie-dePaola_text');\" title=\"\">NOOK Book</a>, <a class=\"\" href=\"/w/strega-nona-tomie-depaola/1100398661;jsessionid=F2252E992967E09F2F199BA9BFB9D171.prodny_store01-atgap04?ean=9781481487245\" onclick=\"set_cookie('txl__Strega-Nona/Tomie-dePaola_text');\" title=\"\">Board Book</a>, <a data-digital-ean=\"9781442449442\" data-formatsurl=\"https://www.barnesandnoble.com/cartridges/ProductDetailContent/ProductDetailTypes/includes/formatModal-ra.jsp?skuId=9780671666064&amp;digitalEan=9781442449442&amp;workId=1100398661\" data-ismarketplace=\"true\" data-modal-class=\"BN.Modal.Browse.Formats\" data-pd-modal=\"/modals/search/quickview.jsp?isMarketplace=true\" data-pd-modal-class=\"BN.Modal.Browse.Quickview\" data-pd-quickview-url=\"/w/strega-nona-tomie-depaola/1100398661?ean=9780671666064\" data-sku-id=\"9780671666064\" data-work-id=\"1100398661\" href=\"#\" id=\"prd9780671666064_9780671666064\">See All <span class=\"icon-right icon\"></span></a>\n",
       " </div>\n",
       " <div class=\"plp-coupon mt-xs hidden\"></div>\n",
       " </div>\n",
       " <input class=\"sku-data\" type=\"hidden\" value=\"9780671666064_book_false_false_false_1979-09-03 00:00:00.0\">\n",
       " <div class=\"plp-add-to-cart-btn-container hidden\" id=\"skuForm_9780671666064\">\n",
       " </div>\n",
       " </input></div>\n",
       " </div>,\n",
       " <div class=\"col-lg-9 product-info-listView\">\n",
       " <div class=\"product-shelf-title pr-m\"><h3 class=\"product-info-title\">\n",
       " <a class=\"\" href=\"/w/the-burning-maze-rick-riordan/1127163598;jsessionid=F2252E992967E09F2F199BA9BFB9D171.prodny_store01-atgap04?ean=9781484780657\" onclick=\"set_cookie('txl__The-Burning-Maze/Rick-Riordan_text');\" title=\"\">The Burning Maze (The Trials of Apollo Series #3)</a><span class=\"text--small publ-date\"> (09/24/2019)</span>\n",
       " </h3></div>\n",
       " <!-- ATG-18359 start-->\n",
       " <!-- AT-589 code fix for Data Oddity Start-->\n",
       " <!-- AT-589 code fix for Data Oddity :End-->\n",
       " <!-- AT-589 code fix for Data Oddity-->\n",
       " <div class=\"product-shelf-author contributors\">by <a href=\"/b/contributor/rick-riordan/_/N-2kka;jsessionid=F2252E992967E09F2F199BA9BFB9D171.prodny_store01-atgap04\">Rick Riordan</a></div>\n",
       " <div data-bv-product-id=\"9781484780657\" data-bv-seo=\"false\" data-bv-show=\"inline_rating\"></div>\n",
       " <div class=\"product-shelf-pricing mt-s mb-s\">\n",
       " <table>\n",
       " <thead class=\"heading\">\n",
       " <tr>\n",
       " <th class=\"format\">Format</th>\n",
       " <th class=\"buy-new three-column-padding\">\n",
       " BN.com</th>\n",
       " <th aria-hidden=\"true\" class=\"availability pb-xxxs hidden\">Availability</th>\n",
       " </tr>\n",
       " </thead>\n",
       " <tbody>\n",
       " <tr>\n",
       " <td class=\"format\">\n",
       " <a class=\"format\" href=\"/w/the-burning-maze-rick-riordan/1127163598;jsessionid=F2252E992967E09F2F199BA9BFB9D171.prodny_store01-atgap04?ean=9781484780657\" onclick=\"set_cookie('txl__The-Burning-Maze/Rick-Riordan_text');\" title=\"\">Paperback</a></td>\n",
       " <td class=\"buy-new three-column-padding\">\n",
       " <span class=\"current\">\n",
       " <a class=\"current link\" href=\"/w/the-burning-maze-rick-riordan/1127163598;jsessionid=F2252E992967E09F2F199BA9BFB9D171.prodny_store01-atgap04?ean=9781484780657\" onclick=\"set_cookie('txl__The-Burning-Maze/Rick-Riordan_text');\" title=\"\">$8.99</a></span>\n",
       " <div class=\"hidden\" id=\"description9781484780657\">\n",
       " Original price was $9.99. You Save 10%.</div>\n",
       " \n",
       "   <span class=\"previous\">$9.99</span>\n",
       " <p class=\"discount mt-0 mb-0\">SAVE 10%</p>\n",
       " <span class=\"sr-only\">Current price is $8.99, Original price is $9.99. You Save 10%.</span>\n",
       " </td>\n",
       " <td aria-hidden=\"true\" class=\"availability hidden\">\n",
       " <div class=\"plp-bopis-badge hidden\">\n",
       " <div class=\"availability-spacing flex\">\n",
       " <div class=\"bopis-icon\">\n",
       " <span class=\"icon-check\"></span>\n",
       " </div>\n",
       " <p class=\"ml-xxs bopis-badge-message mt-0 mb-0\">Available Online</p>\n",
       " </div>\n",
       " </div>\n",
       " </td>\n",
       " </tr>\n",
       " </tbody>\n",
       " </table>\n",
       " </div>\n",
       " <div class=\"flex list-row-bottom mt-s\">\n",
       " <div class=\"formats-coupons\">\n",
       " <div class=\"product-shelf-formats color-coal\">Also available as:\n",
       " <a class=\"\" href=\"/w/the-burning-maze-rick-riordan/1127163598;jsessionid=F2252E992967E09F2F199BA9BFB9D171.prodny_store01-atgap04?ean=9781368024068\" onclick=\"set_cookie('txl__The-Burning-Maze/Rick-Riordan_text');\" title=\"\">BN Exclusive</a>, <a class=\"\" href=\"/w/the-burning-maze-rick-riordan/1127163598;jsessionid=F2252E992967E09F2F199BA9BFB9D171.prodny_store01-atgap04?ean=9781484746431\" onclick=\"set_cookie('txl__The-Burning-Maze/Rick-Riordan_text');\" title=\"\">Hardcover</a>, <a class=\"\" href=\"/w/the-burning-maze-rick-riordan/1127163598;jsessionid=F2252E992967E09F2F199BA9BFB9D171.prodny_store01-atgap04?ean=9781368001434\" onclick=\"set_cookie('txl__The-Burning-Maze/Rick-Riordan_text');\" title=\"\">NOOK Book</a>, <a class=\"\" href=\"/w/the-burning-maze-rick-riordan/1127163598;jsessionid=F2252E992967E09F2F199BA9BFB9D171.prodny_store01-atgap04?ean=9781432851040\" onclick=\"set_cookie('txl__The-Burning-Maze/Rick-Riordan_text');\" title=\"\">Large Print</a>, <a class=\"\" href=\"/w/the-burning-maze-rick-riordan/1127163598;jsessionid=F2252E992967E09F2F199BA9BFB9D171.prodny_store01-atgap04?ean=9780525529149\" onclick=\"set_cookie('txl__The-Burning-Maze/Rick-Riordan_text');\" title=\"\">Audio CD</a>, <a data-digital-ean=\"\" data-formatsurl=\"https://www.barnesandnoble.com/cartridges/ProductDetailContent/ProductDetailTypes/includes/formatModal-ra.jsp?skuId=9781484780657&amp;digitalEan=&amp;workId=1127163598\" data-ismarketplace=\"false\" data-modal-class=\"BN.Modal.Browse.Formats\" data-pd-modal=\"/modals/search/quickview.jsp?isMarketplace=false\" data-pd-modal-class=\"BN.Modal.Browse.Quickview\" data-pd-quickview-url=\"/w/the-burning-maze-rick-riordan/1127163598?ean=9781484780657\" data-sku-id=\"9781484780657\" data-work-id=\"1127163598\" href=\"#\" id=\"prd9781484780657_9781484780657\">See All <span class=\"icon-right icon\"></span></a>\n",
       " </div>\n",
       " <div class=\"plp-coupon mt-xs hidden\"></div>\n",
       " </div>\n",
       " <input class=\"sku-data\" type=\"hidden\" value=\"9781484780657_book_false_false_true_2019-09-24 00:00:00.0\">\n",
       " <div class=\"plp-add-to-cart-btn-container hidden\" id=\"skuForm_9781484780657\">\n",
       " </div>\n",
       " </input></div>\n",
       " </div>,\n",
       " <div class=\"col-lg-9 product-info-listView\">\n",
       " <div class=\"product-shelf-title pr-m\"><h3 class=\"product-info-title\">\n",
       " <a class=\"\" href=\"/w/tale-of-three-trees-angela-elwell-hunt/1101967939;jsessionid=F2252E992967E09F2F199BA9BFB9D171.prodny_store01-atgap04?ean=9780745917436\" onclick=\"set_cookie('txl__Tale-of-Three-Trees/Angela-Elwell-Hunt_text');\" title=\"\">The Tale of Three Trees</a><span class=\"text--small publ-date\"> (09/13/1989)</span>\n",
       " </h3></div>\n",
       " <!-- ATG-18359 start-->\n",
       " <!-- AT-589 code fix for Data Oddity Start-->\n",
       " <!-- AT-589 code fix for Data Oddity :End-->\n",
       " <!-- AT-589 code fix for Data Oddity-->\n",
       " <div class=\"product-shelf-author contributors\">by <a href=\"/s/%22Angela Elwell Hunt%22;jsessionid=F2252E992967E09F2F199BA9BFB9D171.prodny_store01-atgap04?Ntk=P_key_Contributor_List&amp;Ns=P_Sales_Rank&amp;Ntx=mode+matchall\">Angela Elwell Hunt</a>, <a href=\"/s/%22 Tim Jonke%22;jsessionid=F2252E992967E09F2F199BA9BFB9D171.prodny_store01-atgap04?Ntk=P_key_Contributor_List&amp;Ns=P_Sales_Rank&amp;Ntx=mode+matchall\"> Tim Jonke</a></div>\n",
       " <div data-bv-product-id=\"9780745917436\" data-bv-seo=\"false\" data-bv-show=\"inline_rating\"></div>\n",
       " <div class=\"product-shelf-pricing mt-s mb-s\">\n",
       " <table>\n",
       " <thead class=\"heading\">\n",
       " <tr>\n",
       " <th class=\"format\">Format</th>\n",
       " <th class=\"buy-new three-column-padding\">\n",
       " BN.com</th>\n",
       " <th aria-hidden=\"true\" class=\"availability pb-xxxs hidden\">Availability</th>\n",
       " </tr>\n",
       " </thead>\n",
       " <tbody>\n",
       " <tr>\n",
       " <td class=\"format\">\n",
       " <a class=\"format\" href=\"/w/tale-of-three-trees-angela-elwell-hunt/1101967939;jsessionid=F2252E992967E09F2F199BA9BFB9D171.prodny_store01-atgap04?ean=9780745917436\" onclick=\"set_cookie('txl__Tale-of-Three-Trees/Angela-Elwell-Hunt_text');\" title=\"\">Hardcover</a></td>\n",
       " <td class=\"buy-new three-column-padding\">\n",
       " <span class=\"current\">\n",
       " <a class=\"current link\" href=\"/w/tale-of-three-trees-angela-elwell-hunt/1101967939;jsessionid=F2252E992967E09F2F199BA9BFB9D171.prodny_store01-atgap04?ean=9780745917436\" onclick=\"set_cookie('txl__Tale-of-Three-Trees/Angela-Elwell-Hunt_text');\" title=\"\">$13.49</a></span>\n",
       " <div class=\"hidden\" id=\"description9780745917436\">\n",
       " Original price was $14.99. You Save 10%.</div>\n",
       " \n",
       "   <span class=\"previous\">$14.99</span>\n",
       " <p class=\"discount mt-0 mb-0\">SAVE 10%</p>\n",
       " <span class=\"sr-only\">Current price is $13.49, Original price is $14.99. You Save 10%.</span>\n",
       " </td>\n",
       " <td aria-hidden=\"true\" class=\"availability hidden\">\n",
       " <div class=\"plp-bopis-badge hidden\">\n",
       " <div class=\"availability-spacing flex\">\n",
       " <div class=\"bopis-icon\">\n",
       " <span class=\"icon-check\"></span>\n",
       " </div>\n",
       " <p class=\"ml-xxs bopis-badge-message mt-0 mb-0\">Available Online</p>\n",
       " </div>\n",
       " </div>\n",
       " </td>\n",
       " </tr>\n",
       " </tbody>\n",
       " </table>\n",
       " </div>\n",
       " <div class=\"flex list-row-bottom mt-s\">\n",
       " <div class=\"formats-coupons\">\n",
       " <div class=\"product-shelf-formats color-coal\">Also available as:\n",
       " <a class=\"\" href=\"/w/tale-of-three-trees-angela-elwell-hunt/1101967939;jsessionid=F2252E992967E09F2F199BA9BFB9D171.prodny_store01-atgap04?ean=9780745945934\" onclick=\"set_cookie('txl__Tale-of-Three-Trees/Angela-Elwell-Hunt_text');\" title=\"\">Board Book</a>, <a data-digital-ean=\"\" data-formatsurl=\"https://www.barnesandnoble.com/cartridges/ProductDetailContent/ProductDetailTypes/includes/formatModal-ra.jsp?skuId=9780745917436&amp;digitalEan=&amp;workId=1101967939\" data-ismarketplace=\"false\" data-modal-class=\"BN.Modal.Browse.Formats\" data-pd-modal=\"/modals/search/quickview.jsp?isMarketplace=false\" data-pd-modal-class=\"BN.Modal.Browse.Quickview\" data-pd-quickview-url=\"/w/tale-of-three-trees-angela-elwell-hunt/1101967939?ean=9780745917436\" data-sku-id=\"9780745917436\" data-work-id=\"1101967939\" href=\"#\" id=\"prd9780745917436_9780745917436\">See All <span class=\"icon-right icon\"></span></a>\n",
       " </div>\n",
       " <div class=\"plp-coupon mt-xs hidden\"></div>\n",
       " </div>\n",
       " <input class=\"sku-data\" type=\"hidden\" value=\"9780745917436_book_false_false_false_1989-09-13 00:00:00.0\">\n",
       " <div class=\"plp-add-to-cart-btn-container hidden\" id=\"skuForm_9780745917436\">\n",
       " </div>\n",
       " </input></div>\n",
       " </div>,\n",
       " <div class=\"col-lg-9 product-info-listView\">\n",
       " <div class=\"product-shelf-title pr-m\"><h3 class=\"product-info-title\">\n",
       " <a class=\"\" href=\"/w/the-hidden-oracle-rick-riordan/1123084018;jsessionid=F2252E992967E09F2F199BA9BFB9D171.prodny_store01-atgap04?ean=9781484746417\" onclick=\"set_cookie('txl__The-Hidden-Oracle/Rick-Riordan_text');\" title=\"\">The Hidden Oracle (The Trials of Apollo Series #1)</a><span class=\"text--small publ-date\"> (10/03/2017)</span>\n",
       " </h3></div>\n",
       " <!-- ATG-18359 start-->\n",
       " <!-- AT-589 code fix for Data Oddity Start-->\n",
       " <!-- AT-589 code fix for Data Oddity :End-->\n",
       " <!-- AT-589 code fix for Data Oddity-->\n",
       " <div class=\"product-shelf-author contributors\">by <a href=\"/b/contributor/rick-riordan/_/N-2kka;jsessionid=F2252E992967E09F2F199BA9BFB9D171.prodny_store01-atgap04\">Rick Riordan</a></div>\n",
       " <div data-bv-product-id=\"9781484746417\" data-bv-seo=\"false\" data-bv-show=\"inline_rating\"></div>\n",
       " <div class=\"product-shelf-pricing mt-s mb-s\">\n",
       " <table>\n",
       " <thead class=\"heading\">\n",
       " <tr>\n",
       " <th class=\"format\">Format</th>\n",
       " <th class=\"buy-new three-column-padding\">\n",
       " BN.com</th>\n",
       " <th aria-hidden=\"true\" class=\"availability pb-xxxs hidden\">Availability</th>\n",
       " </tr>\n",
       " </thead>\n",
       " <tbody>\n",
       " <tr>\n",
       " <td class=\"format\">\n",
       " <a class=\"format\" href=\"/w/the-hidden-oracle-rick-riordan/1123084018;jsessionid=F2252E992967E09F2F199BA9BFB9D171.prodny_store01-atgap04?ean=9781484746417\" onclick=\"set_cookie('txl__The-Hidden-Oracle/Rick-Riordan_text');\" title=\"\">Paperback</a></td>\n",
       " <td class=\"buy-new three-column-padding\">\n",
       " <span class=\"current\">\n",
       " <a class=\"current link\" href=\"/w/the-hidden-oracle-rick-riordan/1123084018;jsessionid=F2252E992967E09F2F199BA9BFB9D171.prodny_store01-atgap04?ean=9781484746417\" onclick=\"set_cookie('txl__The-Hidden-Oracle/Rick-Riordan_text');\" title=\"\">$8.99</a></span>\n",
       " <div class=\"hidden\" id=\"description9781484746417\">\n",
       " Original price was $9.99. You Save 10%.</div>\n",
       " \n",
       "   <span class=\"previous\">$9.99</span>\n",
       " <p class=\"discount mt-0 mb-0\">SAVE 10%</p>\n",
       " <span class=\"sr-only\">Current price is $8.99, Original price is $9.99. You Save 10%.</span>\n",
       " </td>\n",
       " <td aria-hidden=\"true\" class=\"availability hidden\">\n",
       " <div class=\"plp-bopis-badge hidden\">\n",
       " <div class=\"availability-spacing flex\">\n",
       " <div class=\"bopis-icon\">\n",
       " <span class=\"icon-check\"></span>\n",
       " </div>\n",
       " <p class=\"ml-xxs bopis-badge-message mt-0 mb-0\">Available Online</p>\n",
       " </div>\n",
       " </div>\n",
       " </td>\n",
       " </tr>\n",
       " </tbody>\n",
       " </table>\n",
       " </div>\n",
       " <div class=\"flex list-row-bottom mt-s\">\n",
       " <div class=\"formats-coupons\">\n",
       " <div class=\"product-shelf-formats color-coal\">Also available as:\n",
       " <a class=\"\" href=\"/w/the-hidden-oracle-rick-riordan/1123084018;jsessionid=F2252E992967E09F2F199BA9BFB9D171.prodny_store01-atgap04?ean=9781484732748\" onclick=\"set_cookie('txl__The-Hidden-Oracle/Rick-Riordan_text');\" title=\"\">Hardcover</a>, <a class=\"\" href=\"/w/the-hidden-oracle-rick-riordan/1123084018;jsessionid=F2252E992967E09F2F199BA9BFB9D171.prodny_store01-atgap04?ean=9781484736678\" onclick=\"set_cookie('txl__The-Hidden-Oracle/Rick-Riordan_text');\" title=\"\">NOOK Book</a>, <a class=\"\" href=\"/w/the-hidden-oracle-rick-riordan/1123084018;jsessionid=F2252E992967E09F2F199BA9BFB9D171.prodny_store01-atgap04?ean=9781410489456\" onclick=\"set_cookie('txl__The-Hidden-Oracle/Rick-Riordan_text');\" title=\"\">Large Print</a>, <a class=\"\" href=\"/w/the-hidden-oracle-rick-riordan/1123084018;jsessionid=F2252E992967E09F2F199BA9BFB9D171.prodny_store01-atgap04?ean=9780451485199\" onclick=\"set_cookie('txl__The-Hidden-Oracle/Rick-Riordan_text');\" title=\"\">Audio CD</a>, <a data-digital-ean=\"\" data-formatsurl=\"https://www.barnesandnoble.com/cartridges/ProductDetailContent/ProductDetailTypes/includes/formatModal-ra.jsp?skuId=9781484746417&amp;digitalEan=&amp;workId=1123084018\" data-ismarketplace=\"false\" data-modal-class=\"BN.Modal.Browse.Formats\" data-pd-modal=\"/modals/search/quickview.jsp?isMarketplace=false\" data-pd-modal-class=\"BN.Modal.Browse.Quickview\" data-pd-quickview-url=\"/w/the-hidden-oracle-rick-riordan/1123084018?ean=9781484746417\" data-sku-id=\"9781484746417\" data-work-id=\"1123084018\" href=\"#\" id=\"prd9781484746417_9781484746417\">See All <span class=\"icon-right icon\"></span></a>\n",
       " </div>\n",
       " <div class=\"plp-coupon mt-xs hidden\"></div>\n",
       " </div>\n",
       " <input class=\"sku-data\" type=\"hidden\" value=\"9781484746417_book_false_false_true_2017-10-03 00:00:00.0\">\n",
       " <div class=\"plp-add-to-cart-btn-container hidden\" id=\"skuForm_9781484746417\">\n",
       " </div>\n",
       " </input></div>\n",
       " </div>,\n",
       " <div class=\"col-lg-9 product-info-listView\">\n",
       " <div class=\"product-shelf-title pr-m\"><h3 class=\"product-info-title\">\n",
       " <a class=\"\" href=\"/w/grimms-complete-fairy-tales-grimm-brothers/1126905671;jsessionid=F2252E992967E09F2F199BA9BFB9D171.prodny_store01-atgap04?ean=9781435158115\" onclick=\"set_cookie('txl__Grimms-Complete-Fairy-Tales/Grimm-Brothers_text');\" title=\"\">Grimm's Complete Fairy Tales (Barnes &amp; Noble Collectible Editions)</a><span class=\"text--small publ-date\"> (07/10/2015)</span>\n",
       " </h3></div>\n",
       " <!-- ATG-18359 start-->\n",
       " <!-- AT-589 code fix for Data Oddity Start-->\n",
       " <!-- AT-589 code fix for Data Oddity :End-->\n",
       " <!-- AT-589 code fix for Data Oddity-->\n",
       " <div class=\"product-shelf-author contributors\">by <a href=\"/b/contributor/brothers-grimm/_/N-2k29;jsessionid=F2252E992967E09F2F199BA9BFB9D171.prodny_store01-atgap04\">Brothers Grimm</a>, <a href=\"/s/%22 Jakob Grimm%22;jsessionid=F2252E992967E09F2F199BA9BFB9D171.prodny_store01-atgap04?Ntk=P_key_Contributor_List&amp;Ns=P_Sales_Rank&amp;Ntx=mode+matchall\"> Jakob Grimm</a>, <a href=\"/s/%22 Wilhelm Grimm%22;jsessionid=F2252E992967E09F2F199BA9BFB9D171.prodny_store01-atgap04?Ntk=P_key_Contributor_List&amp;Ns=P_Sales_Rank&amp;Ntx=mode+matchall\"> Wilhelm Grimm</a>, <a href=\"/s/%22 Arthur Rackham%22;jsessionid=F2252E992967E09F2F199BA9BFB9D171.prodny_store01-atgap04?Ntk=P_key_Contributor_List&amp;Ns=P_Sales_Rank&amp;Ntx=mode+matchall\"> Arthur Rackham</a></div>\n",
       " <div data-bv-product-id=\"9781435158115\" data-bv-seo=\"false\" data-bv-show=\"inline_rating\"></div>\n",
       " <div class=\"product-shelf-pricing mt-s mb-s\">\n",
       " <table>\n",
       " <thead class=\"heading\">\n",
       " <tr>\n",
       " <th class=\"format\">Format</th>\n",
       " <th class=\"buy-new three-column-padding\">\n",
       " BN.com</th>\n",
       " <th aria-hidden=\"true\" class=\"availability pb-xxxs hidden\">Availability</th>\n",
       " </tr>\n",
       " </thead>\n",
       " <tbody>\n",
       " <tr>\n",
       " <td class=\"format\">\n",
       " <a class=\"format\" href=\"/w/grimms-complete-fairy-tales-grimm-brothers/1126905671;jsessionid=F2252E992967E09F2F199BA9BFB9D171.prodny_store01-atgap04?ean=9781435158115\" onclick=\"set_cookie('txl__Grimms-Complete-Fairy-Tales/Grimm-Brothers_text');\" title=\"\">Hardcover</a></td>\n",
       " <td class=\"buy-new three-column-padding\">\n",
       " <span class=\"current\">\n",
       " <a class=\"current link\" href=\"/w/grimms-complete-fairy-tales-grimm-brothers/1126905671;jsessionid=F2252E992967E09F2F199BA9BFB9D171.prodny_store01-atgap04?ean=9781435158115\" onclick=\"set_cookie('txl__Grimms-Complete-Fairy-Tales/Grimm-Brothers_text');\" title=\"\">$25.00</a></span>\n",
       " <span class=\"sr-only\">Current price is $25.00, Original price is $25.00. You Save 10%.</span>\n",
       " </td>\n",
       " <td aria-hidden=\"true\" class=\"availability hidden\">\n",
       " <div class=\"plp-bopis-badge hidden\">\n",
       " <div class=\"availability-spacing flex\">\n",
       " <div class=\"bopis-icon\">\n",
       " <span class=\"icon-check\"></span>\n",
       " </div>\n",
       " <p class=\"ml-xxs bopis-badge-message mt-0 mb-0\">Available Online</p>\n",
       " </div>\n",
       " </div>\n",
       " </td>\n",
       " </tr>\n",
       " </tbody>\n",
       " </table>\n",
       " </div>\n",
       " <div class=\"flex list-row-bottom mt-s\">\n",
       " <div class=\"formats-coupons\">\n",
       " <div class=\"plp-coupon mt-xs hidden\"></div>\n",
       " </div>\n",
       " <input class=\"sku-data\" type=\"hidden\" value=\"9781435158115_book_false_false_false_2015-07-10 00:00:00.0\">\n",
       " <div class=\"plp-add-to-cart-btn-container hidden\" id=\"skuForm_9781435158115\">\n",
       " </div>\n",
       " </input></div>\n",
       " </div>,\n",
       " <div class=\"col-lg-9 product-info-listView\">\n",
       " <div class=\"product-shelf-title pr-m\"><h3 class=\"product-info-title\">\n",
       " <a class=\"\" href=\"/w/the-house-of-hades-rick-riordan/1114974701;jsessionid=F2252E992967E09F2F199BA9BFB9D171.prodny_store01-atgap04?ean=9781423146773\" onclick=\"set_cookie('txl__The-House-of-Hades/Rick-Riordan_text');\" title=\"\">The House of Hades (The Heroes of Olympus Series #4)</a><span class=\"text--small publ-date\"> (03/31/2015)</span>\n",
       " </h3></div>\n",
       " <!-- ATG-18359 start-->\n",
       " <!-- AT-589 code fix for Data Oddity Start-->\n",
       " <!-- AT-589 code fix for Data Oddity :End-->\n",
       " <!-- AT-589 code fix for Data Oddity-->\n",
       " <div class=\"product-shelf-author contributors\">by <a href=\"/b/contributor/rick-riordan/_/N-2kka;jsessionid=F2252E992967E09F2F199BA9BFB9D171.prodny_store01-atgap04\">Rick Riordan</a></div>\n",
       " <div data-bv-product-id=\"9781423146773\" data-bv-seo=\"false\" data-bv-show=\"inline_rating\"></div>\n",
       " <div class=\"product-shelf-pricing mt-s mb-s\">\n",
       " <table>\n",
       " <thead class=\"heading\">\n",
       " <tr>\n",
       " <th class=\"format\">Format</th>\n",
       " <th class=\"buy-new three-column-padding\">\n",
       " BN.com</th>\n",
       " <th aria-hidden=\"true\" class=\"availability pb-xxxs hidden\">Availability</th>\n",
       " </tr>\n",
       " </thead>\n",
       " <tbody>\n",
       " <tr>\n",
       " <td class=\"format\">\n",
       " <a class=\"format\" href=\"/w/the-house-of-hades-rick-riordan/1114974701;jsessionid=F2252E992967E09F2F199BA9BFB9D171.prodny_store01-atgap04?ean=9781423146773\" onclick=\"set_cookie('txl__The-House-of-Hades/Rick-Riordan_text');\" title=\"\">Paperback</a></td>\n",
       " <td class=\"buy-new three-column-padding\">\n",
       " <span class=\"current\">\n",
       " <a class=\"current link\" href=\"/w/the-house-of-hades-rick-riordan/1114974701;jsessionid=F2252E992967E09F2F199BA9BFB9D171.prodny_store01-atgap04?ean=9781423146773\" onclick=\"set_cookie('txl__The-House-of-Hades/Rick-Riordan_text');\" title=\"\">$9.99</a></span>\n",
       " <span class=\"sr-only\">Current price is $9.99, Original price is $9.99. You Save 10%.</span>\n",
       " </td>\n",
       " <td aria-hidden=\"true\" class=\"availability hidden\">\n",
       " <div class=\"plp-bopis-badge hidden\">\n",
       " <div class=\"availability-spacing flex\">\n",
       " <div class=\"bopis-icon\">\n",
       " <span class=\"icon-check\"></span>\n",
       " </div>\n",
       " <p class=\"ml-xxs bopis-badge-message mt-0 mb-0\">Available Online</p>\n",
       " </div>\n",
       " </div>\n",
       " </td>\n",
       " </tr>\n",
       " </tbody>\n",
       " </table>\n",
       " </div>\n",
       " <div class=\"flex list-row-bottom mt-s\">\n",
       " <div class=\"formats-coupons\">\n",
       " <div class=\"product-shelf-formats color-coal\">Also available as:\n",
       " <a class=\"\" href=\"/w/the-house-of-hades-rick-riordan/1114974701;jsessionid=F2252E992967E09F2F199BA9BFB9D171.prodny_store01-atgap04?ean=9781423146728\" onclick=\"set_cookie('txl__The-House-of-Hades/Rick-Riordan_text');\" title=\"\">Hardcover</a>, <a class=\"\" href=\"/w/the-house-of-hades-rick-riordan/1114974701;jsessionid=F2252E992967E09F2F199BA9BFB9D171.prodny_store01-atgap04?ean=9781423155157\" onclick=\"set_cookie('txl__The-House-of-Hades/Rick-Riordan_text');\" title=\"\">NOOK Book</a>, <a class=\"\" href=\"/w/the-house-of-hades-rick-riordan/1114974701;jsessionid=F2252E992967E09F2F199BA9BFB9D171.prodny_store01-atgap04?ean=9781410462039\" onclick=\"set_cookie('txl__The-House-of-Hades/Rick-Riordan_text');\" title=\"\">Large Print</a>, <a class=\"\" href=\"/w/the-house-of-hades-rick-riordan/1114974701;jsessionid=F2252E992967E09F2F199BA9BFB9D171.prodny_store01-atgap04?ean=9780804122801\" onclick=\"set_cookie('txl__The-House-of-Hades/Rick-Riordan_text');\" title=\"\">Audio CD</a>, <a data-digital-ean=\"\" data-formatsurl=\"https://www.barnesandnoble.com/cartridges/ProductDetailContent/ProductDetailTypes/includes/formatModal-ra.jsp?skuId=9781423146773&amp;digitalEan=&amp;workId=1114974701\" data-ismarketplace=\"false\" data-modal-class=\"BN.Modal.Browse.Formats\" data-pd-modal=\"/modals/search/quickview.jsp?isMarketplace=false\" data-pd-modal-class=\"BN.Modal.Browse.Quickview\" data-pd-quickview-url=\"/w/the-house-of-hades-rick-riordan/1114974701?ean=9781423146773\" data-sku-id=\"9781423146773\" data-work-id=\"1114974701\" href=\"#\" id=\"prd9781423146773_9781423146773\">See All <span class=\"icon-right icon\"></span></a>\n",
       " </div>\n",
       " <div class=\"plp-coupon mt-xs hidden\"></div>\n",
       " </div>\n",
       " <input class=\"sku-data\" type=\"hidden\" value=\"9781423146773_book_false_false_true_2015-03-31 00:00:00.0\">\n",
       " <div class=\"plp-add-to-cart-btn-container hidden\" id=\"skuForm_9781423146773\">\n",
       " </div>\n",
       " </input></div>\n",
       " </div>,\n",
       " <div class=\"col-lg-9 product-info-listView\">\n",
       " <div class=\"product-shelf-title pr-m\"><h3 class=\"product-info-title\">\n",
       " <a class=\"\" href=\"/w/sea-of-monsters-rick-riordan/1100327442;jsessionid=F2252E992967E09F2F199BA9BFB9D171.prodny_store01-atgap04?ean=9781423103349\" onclick=\"set_cookie('txl__Sea-of-Monsters/Rick-Riordan_text');\" title=\"\">The Sea of Monsters (Percy Jackson and the Olympians Series #2)</a><span class=\"text--small publ-date\"> (03/20/2007)</span>\n",
       " </h3></div>\n",
       " <!-- ATG-18359 start-->\n",
       " <!-- AT-589 code fix for Data Oddity Start-->\n",
       " <!-- AT-589 code fix for Data Oddity :End-->\n",
       " <!-- AT-589 code fix for Data Oddity-->\n",
       " <div class=\"product-shelf-author contributors\">by <a href=\"/b/contributor/rick-riordan/_/N-2kka;jsessionid=F2252E992967E09F2F199BA9BFB9D171.prodny_store01-atgap04\">Rick Riordan</a></div>\n",
       " <div data-bv-product-id=\"9781423103349\" data-bv-seo=\"false\" data-bv-show=\"inline_rating\"></div>\n",
       " <div class=\"product-shelf-pricing mt-s mb-s\">\n",
       " <table>\n",
       " <thead class=\"heading\">\n",
       " <tr>\n",
       " <th class=\"format\">Format</th>\n",
       " <th class=\"buy-new three-column-padding\">\n",
       " BN.com</th>\n",
       " <th aria-hidden=\"true\" class=\"availability pb-xxxs hidden\">Availability</th>\n",
       " </tr>\n",
       " </thead>\n",
       " <tbody>\n",
       " <tr>\n",
       " <td class=\"format\">\n",
       " <a class=\"format\" href=\"/w/sea-of-monsters-rick-riordan/1100327442;jsessionid=F2252E992967E09F2F199BA9BFB9D171.prodny_store01-atgap04?ean=9781423103349\" onclick=\"set_cookie('txl__Sea-of-Monsters/Rick-Riordan_text');\" title=\"\">Paperback</a></td>\n",
       " <td class=\"buy-new three-column-padding\">\n",
       " <span class=\"current\">\n",
       " <a class=\"current link\" href=\"/w/sea-of-monsters-rick-riordan/1100327442;jsessionid=F2252E992967E09F2F199BA9BFB9D171.prodny_store01-atgap04?ean=9781423103349\" onclick=\"set_cookie('txl__Sea-of-Monsters/Rick-Riordan_text');\" title=\"\">$7.99</a></span>\n",
       " <span class=\"sr-only\">Current price is $7.99, Original price is $7.99. You Save 10%.</span>\n",
       " </td>\n",
       " <td aria-hidden=\"true\" class=\"availability hidden\">\n",
       " <div class=\"plp-bopis-badge hidden\">\n",
       " <div class=\"availability-spacing flex\">\n",
       " <div class=\"bopis-icon\">\n",
       " <span class=\"icon-check\"></span>\n",
       " </div>\n",
       " <p class=\"ml-xxs bopis-badge-message mt-0 mb-0\">Available Online</p>\n",
       " </div>\n",
       " </div>\n",
       " </td>\n",
       " </tr>\n",
       " </tbody>\n",
       " </table>\n",
       " </div>\n",
       " <div class=\"flex list-row-bottom mt-s\">\n",
       " <div class=\"formats-coupons\">\n",
       " <div class=\"product-shelf-formats color-coal\">Also available as:\n",
       " <a class=\"\" href=\"/w/sea-of-monsters-rick-riordan/1100327442;jsessionid=F2252E992967E09F2F199BA9BFB9D171.prodny_store01-atgap04?ean=9780786856862\" onclick=\"set_cookie('txl__Sea-of-Monsters/Rick-Riordan_text');\" title=\"\">Hardcover</a>, <a class=\"\" href=\"/w/sea-of-monsters-rick-riordan/1100327442;jsessionid=F2252E992967E09F2F199BA9BFB9D171.prodny_store01-atgap04?ean=9781423131960\" onclick=\"set_cookie('txl__Sea-of-Monsters/Rick-Riordan_text');\" title=\"\">NOOK Book</a>, <a class=\"\" href=\"/w/sea-of-monsters-rick-riordan/1100327442;jsessionid=F2252E992967E09F2F199BA9BFB9D171.prodny_store01-atgap04?ean=9780739331194\" onclick=\"set_cookie('txl__Sea-of-Monsters/Rick-Riordan_text');\" title=\"\">Audio CD</a>, <a data-digital-ean=\"\" data-formatsurl=\"https://www.barnesandnoble.com/cartridges/ProductDetailContent/ProductDetailTypes/includes/formatModal-ra.jsp?skuId=9781423103349&amp;digitalEan=&amp;workId=1100327442\" data-ismarketplace=\"false\" data-modal-class=\"BN.Modal.Browse.Formats\" data-pd-modal=\"/modals/search/quickview.jsp?isMarketplace=false\" data-pd-modal-class=\"BN.Modal.Browse.Quickview\" data-pd-quickview-url=\"/w/sea-of-monsters-rick-riordan/1100327442?ean=9781423103349\" data-sku-id=\"9781423103349\" data-work-id=\"1100327442\" href=\"#\" id=\"prd9781423103349_9781423103349\">See All <span class=\"icon-right icon\"></span></a>\n",
       " </div>\n",
       " <div class=\"plp-coupon mt-xs hidden\"></div>\n",
       " </div>\n",
       " <input class=\"sku-data\" type=\"hidden\" value=\"9781423103349_book_false_false_true_2007-03-20 00:00:00.0\">\n",
       " <div class=\"plp-add-to-cart-btn-container hidden\" id=\"skuForm_9781423103349\">\n",
       " </div>\n",
       " </input></div>\n",
       " </div>,\n",
       " <div class=\"col-lg-9 product-info-listView\">\n",
       " <div class=\"product-shelf-title pr-m\"><h3 class=\"product-info-title\">\n",
       " <a class=\"\" href=\"/w/the-blood-of-olympus-rick-riordan/1117136528;jsessionid=F2252E992967E09F2F199BA9BFB9D171.prodny_store01-atgap04?ean=9781423146735\" onclick=\"set_cookie('txl__The-Blood-of-Olympus/Rick-Riordan_text');\" title=\"\">The Blood of Olympus (The Heroes of Olympus Series #5)</a><span class=\"text--small publ-date\"> (10/07/2014)</span>\n",
       " </h3></div>\n",
       " <!-- ATG-18359 start-->\n",
       " <!-- AT-589 code fix for Data Oddity Start-->\n",
       " <!-- AT-589 code fix for Data Oddity :End-->\n",
       " <!-- AT-589 code fix for Data Oddity-->\n",
       " <div class=\"product-shelf-author contributors\">by <a href=\"/s/%22Rick Riordan%22;jsessionid=F2252E992967E09F2F199BA9BFB9D171.prodny_store01-atgap04?Ntk=P_key_Contributor_List&amp;Ns=P_Sales_Rank&amp;Ntx=mode+matchall\">Rick Riordan</a></div>\n",
       " <div data-bv-product-id=\"9781423146735\" data-bv-seo=\"false\" data-bv-show=\"inline_rating\"></div>\n",
       " <div class=\"product-shelf-pricing mt-s mb-s\">\n",
       " <table>\n",
       " <thead class=\"heading\">\n",
       " <tr>\n",
       " <th class=\"format\">Format</th>\n",
       " <th class=\"buy-new three-column-padding\">\n",
       " BN.com</th>\n",
       " <th aria-hidden=\"true\" class=\"availability pb-xxxs hidden\">Availability</th>\n",
       " </tr>\n",
       " </thead>\n",
       " <tbody>\n",
       " <tr>\n",
       " <td class=\"format\">\n",
       " <a class=\"format\" href=\"/w/the-blood-of-olympus-rick-riordan/1117136528;jsessionid=F2252E992967E09F2F199BA9BFB9D171.prodny_store01-atgap04?ean=9781423146735\" onclick=\"set_cookie('txl__The-Blood-of-Olympus/Rick-Riordan_text');\" title=\"\">Hardcover</a></td>\n",
       " <td class=\"buy-new three-column-padding\">\n",
       " <span class=\"current\">\n",
       " <a class=\"current link\" href=\"/w/the-blood-of-olympus-rick-riordan/1117136528;jsessionid=F2252E992967E09F2F199BA9BFB9D171.prodny_store01-atgap04?ean=9781423146735\" onclick=\"set_cookie('txl__The-Blood-of-Olympus/Rick-Riordan_text');\" title=\"\">$17.99</a></span>\n",
       " <div class=\"hidden\" id=\"description9781423146735\">\n",
       " Original price was $19.99. You Save 10%.</div>\n",
       " \n",
       "   <span class=\"previous\">$19.99</span>\n",
       " <p class=\"discount mt-0 mb-0\">SAVE 10%</p>\n",
       " <span class=\"sr-only\">Current price is $17.99, Original price is $19.99. You Save 10%.</span>\n",
       " </td>\n",
       " <td aria-hidden=\"true\" class=\"availability hidden\">\n",
       " <div class=\"plp-bopis-badge hidden\">\n",
       " <div class=\"availability-spacing flex\">\n",
       " <div class=\"bopis-icon\">\n",
       " <span class=\"icon-check\"></span>\n",
       " </div>\n",
       " <p class=\"ml-xxs bopis-badge-message mt-0 mb-0\">Available Online</p>\n",
       " </div>\n",
       " </div>\n",
       " </td>\n",
       " </tr>\n",
       " </tbody>\n",
       " </table>\n",
       " </div>\n",
       " <div class=\"flex list-row-bottom mt-s\">\n",
       " <div class=\"formats-coupons\">\n",
       " <div class=\"product-shelf-formats color-coal\">Also available as:\n",
       " <a class=\"\" href=\"/w/the-blood-of-olympus-rick-riordan/1117136528;jsessionid=F2252E992967E09F2F199BA9BFB9D171.prodny_store01-atgap04?ean=9781423146780\" onclick=\"set_cookie('txl__The-Blood-of-Olympus/Rick-Riordan_text');\" title=\"\">Paperback</a>, <a class=\"\" href=\"/w/the-blood-of-olympus-rick-riordan/1117136528;jsessionid=F2252E992967E09F2F199BA9BFB9D171.prodny_store01-atgap04?ean=9781423155140\" onclick=\"set_cookie('txl__The-Blood-of-Olympus/Rick-Riordan_text');\" title=\"\">NOOK Book</a>, <a data-digital-ean=\"9781423155140\" data-formatsurl=\"https://www.barnesandnoble.com/cartridges/ProductDetailContent/ProductDetailTypes/includes/formatModal-ra.jsp?skuId=9781423146735&amp;digitalEan=9781423155140&amp;workId=1117136528\" data-ismarketplace=\"false\" data-modal-class=\"BN.Modal.Browse.Formats\" data-pd-modal=\"/modals/search/quickview.jsp?isMarketplace=false\" data-pd-modal-class=\"BN.Modal.Browse.Quickview\" data-pd-quickview-url=\"/w/the-blood-of-olympus-rick-riordan/1117136528?ean=9781423146735\" data-sku-id=\"9781423146735\" data-work-id=\"1117136528\" href=\"#\" id=\"prd9781423146735_9781423146735\">See All <span class=\"icon-right icon\"></span></a>\n",
       " </div>\n",
       " <div class=\"plp-coupon mt-xs hidden\"></div>\n",
       " </div>\n",
       " <input class=\"sku-data\" type=\"hidden\" value=\"9781423146735_book_false_false_true_2014-10-07 00:00:00.0\">\n",
       " <div class=\"plp-add-to-cart-btn-container hidden\" id=\"skuForm_9781423146735\">\n",
       " </div>\n",
       " </input></div>\n",
       " </div>]"
      ]
     },
     "execution_count": 6,
     "metadata": {},
     "output_type": "execute_result"
    }
   ],
   "source": [
    "data"
   ]
  },
  {
   "cell_type": "markdown",
   "metadata": {},
   "source": [
    "# Scrape the titles first"
   ]
  },
  {
   "cell_type": "code",
   "execution_count": 7,
   "metadata": {},
   "outputs": [
    {
     "data": {
      "text/plain": [
       "<div class=\"product-shelf-title pr-m\"><h3 class=\"product-info-title\">\n",
       "<a class=\"\" href=\"/w/how-to-catch-a-yeti-adam-wallace/1135063401;jsessionid=F2252E992967E09F2F199BA9BFB9D171.prodny_store01-atgap04?ean=9781728216744\" onclick=\"set_cookie('txl__How-to-Catch-a-Yeti/Adam-Wallace_text');\" title=\"\">How to Catch a Yeti</a><span class=\"text--small publ-date\"> (09/01/2020)</span>\n",
       "</h3></div>"
      ]
     },
     "execution_count": 7,
     "metadata": {},
     "output_type": "execute_result"
    }
   ],
   "source": [
    "data[0].div\n"
   ]
  },
  {
   "cell_type": "code",
   "execution_count": 8,
   "metadata": {},
   "outputs": [
    {
     "data": {
      "text/plain": [
       "<a class=\"\" href=\"/w/how-to-catch-a-yeti-adam-wallace/1135063401;jsessionid=F2252E992967E09F2F199BA9BFB9D171.prodny_store01-atgap04?ean=9781728216744\" onclick=\"set_cookie('txl__How-to-Catch-a-Yeti/Adam-Wallace_text');\" title=\"\">How to Catch a Yeti</a>"
      ]
     },
     "execution_count": 8,
     "metadata": {},
     "output_type": "execute_result"
    }
   ],
   "source": [
    "data[0].div.a"
   ]
  },
  {
   "cell_type": "code",
   "execution_count": 9,
   "metadata": {},
   "outputs": [
    {
     "data": {
      "text/plain": [
       "'How to Catch a Yeti'"
      ]
     },
     "execution_count": 9,
     "metadata": {},
     "output_type": "execute_result"
    }
   ],
   "source": [
    "data[0].div.a.text"
   ]
  },
  {
   "cell_type": "code",
   "execution_count": 10,
   "metadata": {},
   "outputs": [],
   "source": [
    "name=[]"
   ]
  },
  {
   "cell_type": "code",
   "execution_count": 11,
   "metadata": {},
   "outputs": [],
   "source": [
    "for i in range(len(data)):\n",
    "    name.append(data[i].div.a.text)"
   ]
  },
  {
   "cell_type": "code",
   "execution_count": 12,
   "metadata": {},
   "outputs": [
    {
     "data": {
      "text/plain": [
       "['How to Catch a Yeti',\n",
       " 'The Tower of Nero (B&N Exclusive Edition) (The Trials of Apollo Series #5)',\n",
       " 'The Lightning Thief (Percy Jackson and the Olympians Series #1)',\n",
       " 'The Ickabog',\n",
       " 'The Mitten',\n",
       " 'The Stinky Cheese Man and Other Fairly Stupid Tales',\n",
       " 'The Story of King Arthur and His Knights (Barnes & Noble Collectible Editions)',\n",
       " \"The Tyrant's Tomb (B&N Exclusive Edition) (The Trials of Apollo Series #4)\",\n",
       " 'Orphan Island',\n",
       " 'The Little Mermaid and Other Fairy Tales (Barnes & Noble Collectible Editions)',\n",
       " 'The Dark Prophecy (The Trials of Apollo Series #2)',\n",
       " 'The Little Prince',\n",
       " 'Strega Nona',\n",
       " 'The Burning Maze (The Trials of Apollo Series #3)',\n",
       " 'The Tale of Three Trees',\n",
       " 'The Hidden Oracle (The Trials of Apollo Series #1)',\n",
       " \"Grimm's Complete Fairy Tales (Barnes & Noble Collectible Editions)\",\n",
       " 'The House of Hades (The Heroes of Olympus Series #4)',\n",
       " 'The Sea of Monsters (Percy Jackson and the Olympians Series #2)',\n",
       " 'The Blood of Olympus (The Heroes of Olympus Series #5)']"
      ]
     },
     "execution_count": 12,
     "metadata": {},
     "output_type": "execute_result"
    }
   ],
   "source": [
    "name"
   ]
  },
  {
   "cell_type": "code",
   "execution_count": 13,
   "metadata": {},
   "outputs": [
    {
     "data": {
      "text/plain": [
       "20"
      ]
     },
     "execution_count": 13,
     "metadata": {},
     "output_type": "execute_result"
    }
   ],
   "source": [
    "len(name)"
   ]
  },
  {
   "cell_type": "markdown",
   "metadata": {},
   "source": [
    "# Get the dates"
   ]
  },
  {
   "cell_type": "code",
   "execution_count": 14,
   "metadata": {},
   "outputs": [
    {
     "name": "stdout",
     "output_type": "stream",
     "text": [
      "<div class=\"product-shelf-title pr-m\"><h3 class=\"product-info-title\">\n",
      "<a class=\"\" href=\"/w/how-to-catch-a-yeti-adam-wallace/1135063401;jsessionid=F2252E992967E09F2F199BA9BFB9D171.prodny_store01-atgap04?ean=9781728216744\" onclick=\"set_cookie('txl__How-to-Catch-a-Yeti/Adam-Wallace_text');\" title=\"\">How to Catch a Yeti</a><span class=\"text--small publ-date\"> (09/01/2020)</span>\n",
      "</h3></div>\n"
     ]
    }
   ],
   "source": [
    "print(data[0].div)"
   ]
  },
  {
   "cell_type": "code",
   "execution_count": 15,
   "metadata": {},
   "outputs": [
    {
     "data": {
      "text/plain": [
       "<span class=\"text--small publ-date\"> (09/01/2020)</span>"
      ]
     },
     "execution_count": 15,
     "metadata": {},
     "output_type": "execute_result"
    }
   ],
   "source": [
    "data[0].div.span"
   ]
  },
  {
   "cell_type": "code",
   "execution_count": 16,
   "metadata": {},
   "outputs": [
    {
     "data": {
      "text/plain": [
       "' (09/01/2020)'"
      ]
     },
     "execution_count": 16,
     "metadata": {},
     "output_type": "execute_result"
    }
   ],
   "source": [
    "data[0].div.span.text"
   ]
  },
  {
   "cell_type": "code",
   "execution_count": 17,
   "metadata": {},
   "outputs": [],
   "source": [
    "dates=[]\n",
    "for i in range(len(data)):\n",
    "    dates.append(data[i].div.span.text)"
   ]
  },
  {
   "cell_type": "code",
   "execution_count": 18,
   "metadata": {},
   "outputs": [
    {
     "data": {
      "text/plain": [
       "[' (09/01/2020)',\n",
       " ' (10/06/2020)',\n",
       " ' (04/01/2006)',\n",
       " ' (11/10/2020)',\n",
       " ' (10/05/2009)',\n",
       " ' (10/28/1992)',\n",
       " ' (06/01/2016)',\n",
       " ' (09/24/2019)',\n",
       " ' (10/02/2018)',\n",
       " ' (10/05/2016)',\n",
       " ' (10/02/2018)',\n",
       " ' (05/22/2000)',\n",
       " ' (09/03/1979)',\n",
       " ' (09/24/2019)',\n",
       " ' (09/13/1989)',\n",
       " ' (10/03/2017)',\n",
       " ' (07/10/2015)',\n",
       " ' (03/31/2015)',\n",
       " ' (03/20/2007)',\n",
       " ' (10/07/2014)']"
      ]
     },
     "execution_count": 18,
     "metadata": {},
     "output_type": "execute_result"
    }
   ],
   "source": [
    "dates"
   ]
  },
  {
   "cell_type": "markdown",
   "metadata": {},
   "source": [
    "# Get the authors of the book"
   ]
  },
  {
   "cell_type": "code",
   "execution_count": 19,
   "metadata": {},
   "outputs": [],
   "source": [
    "author=page_soup.findAll(\"div\",{\"class\":\"product-shelf-author contributors\"})"
   ]
  },
  {
   "cell_type": "code",
   "execution_count": 20,
   "metadata": {},
   "outputs": [
    {
     "data": {
      "text/plain": [
       "[<div class=\"product-shelf-author contributors\">by <a href=\"/s/%22Adam Wallace%22;jsessionid=F2252E992967E09F2F199BA9BFB9D171.prodny_store01-atgap04?Ntk=P_key_Contributor_List&amp;Ns=P_Sales_Rank&amp;Ntx=mode+matchall\">Adam Wallace</a>, <a href=\"/s/%22 Andy Elkerton%22;jsessionid=F2252E992967E09F2F199BA9BFB9D171.prodny_store01-atgap04?Ntk=P_key_Contributor_List&amp;Ns=P_Sales_Rank&amp;Ntx=mode+matchall\"> Andy Elkerton</a></div>,\n",
       " <div class=\"product-shelf-author contributors\">by <a href=\"/b/contributor/rick-riordan/_/N-2kka;jsessionid=F2252E992967E09F2F199BA9BFB9D171.prodny_store01-atgap04\">Rick Riordan</a></div>,\n",
       " <div class=\"product-shelf-author contributors\">by <a href=\"/b/contributor/rick-riordan/_/N-2kka;jsessionid=F2252E992967E09F2F199BA9BFB9D171.prodny_store01-atgap04\">Rick Riordan</a></div>,\n",
       " <div class=\"product-shelf-author contributors\">by <a href=\"/b/contributor/j-k-rowling/_/N-2k2f;jsessionid=F2252E992967E09F2F199BA9BFB9D171.prodny_store01-atgap04\">J. K. Rowling</a></div>,\n",
       " <div class=\"product-shelf-author contributors\">by <a href=\"/s/%22Jan Brett%22;jsessionid=F2252E992967E09F2F199BA9BFB9D171.prodny_store01-atgap04?Ntk=P_key_Contributor_List&amp;Ns=P_Sales_Rank&amp;Ntx=mode+matchall\">Jan Brett</a></div>,\n",
       " <div class=\"product-shelf-author contributors\">by <a href=\"/s/%22Jon Scieszka%22;jsessionid=F2252E992967E09F2F199BA9BFB9D171.prodny_store01-atgap04?Ntk=P_key_Contributor_List&amp;Ns=P_Sales_Rank&amp;Ntx=mode+matchall\">Jon Scieszka</a>, <a href=\"/s/%22 Lane Smith%22;jsessionid=F2252E992967E09F2F199BA9BFB9D171.prodny_store01-atgap04?Ntk=P_key_Contributor_List&amp;Ns=P_Sales_Rank&amp;Ntx=mode+matchall\"> Lane Smith</a></div>,\n",
       " <div class=\"product-shelf-author contributors\">by <a href=\"/s/%22Howard Pyle%22;jsessionid=F2252E992967E09F2F199BA9BFB9D171.prodny_store01-atgap04?Ntk=P_key_Contributor_List&amp;Ns=P_Sales_Rank&amp;Ntx=mode+matchall\">Howard Pyle</a></div>,\n",
       " <div class=\"product-shelf-author contributors\">by <a href=\"/b/contributor/rick-riordan/_/N-2kka;jsessionid=F2252E992967E09F2F199BA9BFB9D171.prodny_store01-atgap04\">Rick Riordan</a></div>,\n",
       " <div class=\"product-shelf-author contributors\">by <a href=\"/s/%22Laurel Snyder%22;jsessionid=F2252E992967E09F2F199BA9BFB9D171.prodny_store01-atgap04?Ntk=P_key_Contributor_List&amp;Ns=P_Sales_Rank&amp;Ntx=mode+matchall\">Laurel Snyder</a></div>,\n",
       " <div class=\"product-shelf-author contributors\">by <a href=\"/s/%22Hans Christian Andersen%22;jsessionid=F2252E992967E09F2F199BA9BFB9D171.prodny_store01-atgap04?Ntk=P_key_Contributor_List&amp;Ns=P_Sales_Rank&amp;Ntx=mode+matchall\">Hans Christian Andersen</a>, <a href=\"/s/%22 W. Heath Robinson%22;jsessionid=F2252E992967E09F2F199BA9BFB9D171.prodny_store01-atgap04?Ntk=P_key_Contributor_List&amp;Ns=P_Sales_Rank&amp;Ntx=mode+matchall\"> W. Heath Robinson</a></div>,\n",
       " <div class=\"product-shelf-author contributors\">by <a href=\"/b/contributor/rick-riordan/_/N-2kka;jsessionid=F2252E992967E09F2F199BA9BFB9D171.prodny_store01-atgap04\">Rick Riordan</a></div>,\n",
       " <div class=\"product-shelf-author contributors\">by <a href=\"/s/%22Antoine de Saint-Exupery%22;jsessionid=F2252E992967E09F2F199BA9BFB9D171.prodny_store01-atgap04?Ntk=P_key_Contributor_List&amp;Ns=P_Sales_Rank&amp;Ntx=mode+matchall\">Antoine de Saint-Exupery</a></div>,\n",
       " <div class=\"product-shelf-author contributors\">by <a href=\"/s/%22Tomie dePaola%22;jsessionid=F2252E992967E09F2F199BA9BFB9D171.prodny_store01-atgap04?Ntk=P_key_Contributor_List&amp;Ns=P_Sales_Rank&amp;Ntx=mode+matchall\">Tomie dePaola</a></div>,\n",
       " <div class=\"product-shelf-author contributors\">by <a href=\"/b/contributor/rick-riordan/_/N-2kka;jsessionid=F2252E992967E09F2F199BA9BFB9D171.prodny_store01-atgap04\">Rick Riordan</a></div>,\n",
       " <div class=\"product-shelf-author contributors\">by <a href=\"/s/%22Angela Elwell Hunt%22;jsessionid=F2252E992967E09F2F199BA9BFB9D171.prodny_store01-atgap04?Ntk=P_key_Contributor_List&amp;Ns=P_Sales_Rank&amp;Ntx=mode+matchall\">Angela Elwell Hunt</a>, <a href=\"/s/%22 Tim Jonke%22;jsessionid=F2252E992967E09F2F199BA9BFB9D171.prodny_store01-atgap04?Ntk=P_key_Contributor_List&amp;Ns=P_Sales_Rank&amp;Ntx=mode+matchall\"> Tim Jonke</a></div>,\n",
       " <div class=\"product-shelf-author contributors\">by <a href=\"/b/contributor/rick-riordan/_/N-2kka;jsessionid=F2252E992967E09F2F199BA9BFB9D171.prodny_store01-atgap04\">Rick Riordan</a></div>,\n",
       " <div class=\"product-shelf-author contributors\">by <a href=\"/b/contributor/brothers-grimm/_/N-2k29;jsessionid=F2252E992967E09F2F199BA9BFB9D171.prodny_store01-atgap04\">Brothers Grimm</a>, <a href=\"/s/%22 Jakob Grimm%22;jsessionid=F2252E992967E09F2F199BA9BFB9D171.prodny_store01-atgap04?Ntk=P_key_Contributor_List&amp;Ns=P_Sales_Rank&amp;Ntx=mode+matchall\"> Jakob Grimm</a>, <a href=\"/s/%22 Wilhelm Grimm%22;jsessionid=F2252E992967E09F2F199BA9BFB9D171.prodny_store01-atgap04?Ntk=P_key_Contributor_List&amp;Ns=P_Sales_Rank&amp;Ntx=mode+matchall\"> Wilhelm Grimm</a>, <a href=\"/s/%22 Arthur Rackham%22;jsessionid=F2252E992967E09F2F199BA9BFB9D171.prodny_store01-atgap04?Ntk=P_key_Contributor_List&amp;Ns=P_Sales_Rank&amp;Ntx=mode+matchall\"> Arthur Rackham</a></div>,\n",
       " <div class=\"product-shelf-author contributors\">by <a href=\"/b/contributor/rick-riordan/_/N-2kka;jsessionid=F2252E992967E09F2F199BA9BFB9D171.prodny_store01-atgap04\">Rick Riordan</a></div>,\n",
       " <div class=\"product-shelf-author contributors\">by <a href=\"/b/contributor/rick-riordan/_/N-2kka;jsessionid=F2252E992967E09F2F199BA9BFB9D171.prodny_store01-atgap04\">Rick Riordan</a></div>,\n",
       " <div class=\"product-shelf-author contributors\">by <a href=\"/s/%22Rick Riordan%22;jsessionid=F2252E992967E09F2F199BA9BFB9D171.prodny_store01-atgap04?Ntk=P_key_Contributor_List&amp;Ns=P_Sales_Rank&amp;Ntx=mode+matchall\">Rick Riordan</a></div>]"
      ]
     },
     "execution_count": 20,
     "metadata": {},
     "output_type": "execute_result"
    }
   ],
   "source": [
    "author"
   ]
  },
  {
   "cell_type": "code",
   "execution_count": 21,
   "metadata": {},
   "outputs": [
    {
     "data": {
      "text/plain": [
       "20"
      ]
     },
     "execution_count": 21,
     "metadata": {},
     "output_type": "execute_result"
    }
   ],
   "source": [
    "len(author)"
   ]
  },
  {
   "cell_type": "code",
   "execution_count": 22,
   "metadata": {},
   "outputs": [
    {
     "data": {
      "text/plain": [
       "<a href=\"/s/%22Adam Wallace%22;jsessionid=F2252E992967E09F2F199BA9BFB9D171.prodny_store01-atgap04?Ntk=P_key_Contributor_List&amp;Ns=P_Sales_Rank&amp;Ntx=mode+matchall\">Adam Wallace</a>"
      ]
     },
     "execution_count": 22,
     "metadata": {},
     "output_type": "execute_result"
    }
   ],
   "source": [
    "author[0].a  "
   ]
  },
  {
   "cell_type": "code",
   "execution_count": 23,
   "metadata": {},
   "outputs": [
    {
     "data": {
      "text/plain": [
       "'Adam Wallace'"
      ]
     },
     "execution_count": 23,
     "metadata": {},
     "output_type": "execute_result"
    }
   ],
   "source": [
    "author[0].a.text"
   ]
  },
  {
   "cell_type": "code",
   "execution_count": 24,
   "metadata": {},
   "outputs": [],
   "source": [
    "authors=[]\n",
    "for i in range(len(author)):\n",
    "    authors.append(author[i].a.text)"
   ]
  },
  {
   "cell_type": "code",
   "execution_count": 25,
   "metadata": {},
   "outputs": [
    {
     "data": {
      "text/plain": [
       "['Adam Wallace',\n",
       " 'Rick Riordan',\n",
       " 'Rick Riordan',\n",
       " 'J. K. Rowling',\n",
       " 'Jan Brett',\n",
       " 'Jon Scieszka',\n",
       " 'Howard Pyle',\n",
       " 'Rick Riordan',\n",
       " 'Laurel Snyder',\n",
       " 'Hans Christian Andersen',\n",
       " 'Rick Riordan',\n",
       " 'Antoine de Saint-Exupery',\n",
       " 'Tomie dePaola',\n",
       " 'Rick Riordan',\n",
       " 'Angela Elwell Hunt',\n",
       " 'Rick Riordan',\n",
       " 'Brothers Grimm',\n",
       " 'Rick Riordan',\n",
       " 'Rick Riordan',\n",
       " 'Rick Riordan']"
      ]
     },
     "execution_count": 25,
     "metadata": {},
     "output_type": "execute_result"
    }
   ],
   "source": [
    "authors"
   ]
  },
  {
   "cell_type": "markdown",
   "metadata": {},
   "source": [
    "# Get the prices"
   ]
  },
  {
   "cell_type": "code",
   "execution_count": 30,
   "metadata": {},
   "outputs": [],
   "source": [
    "price=page_soup.findAll(\"span\",{\"class\":\"current\"})"
   ]
  },
  {
   "cell_type": "code",
   "execution_count": 31,
   "metadata": {},
   "outputs": [
    {
     "data": {
      "text/plain": [
       "[<span class=\"current\">\n",
       " <a class=\"current link\" href=\"/w/how-to-catch-a-yeti-adam-wallace/1135063401;jsessionid=F2252E992967E09F2F199BA9BFB9D171.prodny_store01-atgap04?ean=9781728216744\" onclick=\"set_cookie('txl__How-to-Catch-a-Yeti/Adam-Wallace_text');\" title=\"\">$10.99</a></span>,\n",
       " <span class=\"current\">\n",
       " <a class=\"current link\" href=\"/w/the-tower-of-nero-rick-riordan/1134720689;jsessionid=F2252E992967E09F2F199BA9BFB9D171.prodny_store01-atgap04?ean=9781368065382\" onclick=\"set_cookie('txl__The-Tower-of-Nero/Rick-Riordan_text');\" title=\"\">$16.99</a></span>,\n",
       " <span class=\"current\">\n",
       " <a class=\"current link\" href=\"/w/lightning-thief-rick-riordan/1100190320;jsessionid=F2252E992967E09F2F199BA9BFB9D171.prodny_store01-atgap04?ean=9780786838653\" onclick=\"set_cookie('txl__Lightning-Thief/Rick-Riordan_text');\" title=\"\">$6.99</a></span>,\n",
       " <span class=\"current\">\n",
       " <a class=\"current link\" href=\"/w/the-ickabog-j-k-rowling/1137347088;jsessionid=F2252E992967E09F2F199BA9BFB9D171.prodny_store01-atgap04?ean=9781338732870\" onclick=\"set_cookie('txl__The-Ickabog/J-K-Rowling_text');\" title=\"\">$21.49</a></span>,\n",
       " <span class=\"current\">\n",
       " <a class=\"current link\" href=\"/w/mitten-jan-brett/1100321532;jsessionid=F2252E992967E09F2F199BA9BFB9D171.prodny_store01-atgap04?ean=9780399252969\" onclick=\"set_cookie('txl__Mitten/Jan-Brett_text');\" title=\"\">$17.49</a></span>,\n",
       " <span class=\"current\">\n",
       " <a class=\"current link\" href=\"/w/stinky-cheese-man-and-other-fairly-stupid-tales-jon-scieszka/1102224575;jsessionid=F2252E992967E09F2F199BA9BFB9D171.prodny_store01-atgap04?ean=9780670844876\" onclick=\"set_cookie('txl__Stinky-Cheese-Man-and-Other-Fairly-Stupid-Tales/Jon-Scieszka_text');\" title=\"\">$16.99</a></span>,\n",
       " <span class=\"current\">\n",
       " <a class=\"current link\" href=\"/w/barnes-noble-leatherbound-classics-the-story-of-king-arthur-and-his-knights-howard-pyle/1106658831;jsessionid=F2252E992967E09F2F199BA9BFB9D171.prodny_store01-atgap04?ean=9781435162112\" onclick=\"set_cookie('txl__Barnes-Noble-Leatherbound-Classics-The-Story-of-King-Arthur-and-His-Knights/Howard-Pyle_text');\" title=\"\">$10.00</a></span>,\n",
       " <span class=\"current\">\n",
       " <a class=\"current link\" href=\"/w/the-tyrants-tomb-rick-riordan/1129969087;jsessionid=F2252E992967E09F2F199BA9BFB9D171.prodny_store01-atgap04?ean=9781368053785\" onclick=\"set_cookie('txl__The-Tyrants-Tomb/Rick-Riordan_text');\" title=\"\">$17.99</a></span>,\n",
       " <span class=\"current\">\n",
       " <a class=\"current link\" href=\"/w/orphan-island-laurel-snyder/1124564515;jsessionid=F2252E992967E09F2F199BA9BFB9D171.prodny_store01-atgap04?ean=9780062443427\" onclick=\"set_cookie('txl__Orphan-Island/Laurel-Snyder_text');\" title=\"\">$7.99</a></span>,\n",
       " <span class=\"current\">\n",
       " <a class=\"current link\" href=\"/w/the-little-mermaid-and-other-fairy-tales-andersen-hans-christian/1126932194;jsessionid=F2252E992967E09F2F199BA9BFB9D171.prodny_store01-atgap04?ean=9781435163683\" onclick=\"set_cookie('txl__The-Little-Mermaid-and-Other-Fairy-Tales/Andersen-Hans-Christian_text');\" title=\"\">$10.00</a></span>,\n",
       " <span class=\"current\">\n",
       " <a class=\"current link\" href=\"/w/the-dark-prophecy-rick-riordan/1123754098;jsessionid=F2252E992967E09F2F199BA9BFB9D171.prodny_store01-atgap04?ean=9781484780640\" onclick=\"set_cookie('txl__The-Dark-Prophecy/Rick-Riordan_text');\" title=\"\">$8.99</a></span>,\n",
       " <span class=\"current\">\n",
       " <a class=\"current link\" href=\"/w/little-prince-antoine-de-saint-exupery/1100090265;jsessionid=F2252E992967E09F2F199BA9BFB9D171.prodny_store01-atgap04?ean=9780156012195\" onclick=\"set_cookie('txl__Little-Prince/Antoine-de-Saint-Exupery_text');\" title=\"\">$10.99</a></span>,\n",
       " <span class=\"current\">\n",
       " <a class=\"current link\" href=\"/w/strega-nona-tomie-depaola/1100398661;jsessionid=F2252E992967E09F2F199BA9BFB9D171.prodny_store01-atgap04?ean=9780671666064\" onclick=\"set_cookie('txl__Strega-Nona/Tomie-dePaola_text');\" title=\"\">$7.99</a></span>,\n",
       " <span class=\"current\">\n",
       " <a class=\"current link\" href=\"/w/the-burning-maze-rick-riordan/1127163598;jsessionid=F2252E992967E09F2F199BA9BFB9D171.prodny_store01-atgap04?ean=9781484780657\" onclick=\"set_cookie('txl__The-Burning-Maze/Rick-Riordan_text');\" title=\"\">$8.99</a></span>,\n",
       " <span class=\"current\">\n",
       " <a class=\"current link\" href=\"/w/tale-of-three-trees-angela-elwell-hunt/1101967939;jsessionid=F2252E992967E09F2F199BA9BFB9D171.prodny_store01-atgap04?ean=9780745917436\" onclick=\"set_cookie('txl__Tale-of-Three-Trees/Angela-Elwell-Hunt_text');\" title=\"\">$13.49</a></span>,\n",
       " <span class=\"current\">\n",
       " <a class=\"current link\" href=\"/w/the-hidden-oracle-rick-riordan/1123084018;jsessionid=F2252E992967E09F2F199BA9BFB9D171.prodny_store01-atgap04?ean=9781484746417\" onclick=\"set_cookie('txl__The-Hidden-Oracle/Rick-Riordan_text');\" title=\"\">$8.99</a></span>,\n",
       " <span class=\"current\">\n",
       " <a class=\"current link\" href=\"/w/grimms-complete-fairy-tales-grimm-brothers/1126905671;jsessionid=F2252E992967E09F2F199BA9BFB9D171.prodny_store01-atgap04?ean=9781435158115\" onclick=\"set_cookie('txl__Grimms-Complete-Fairy-Tales/Grimm-Brothers_text');\" title=\"\">$25.00</a></span>,\n",
       " <span class=\"current\">\n",
       " <a class=\"current link\" href=\"/w/the-house-of-hades-rick-riordan/1114974701;jsessionid=F2252E992967E09F2F199BA9BFB9D171.prodny_store01-atgap04?ean=9781423146773\" onclick=\"set_cookie('txl__The-House-of-Hades/Rick-Riordan_text');\" title=\"\">$9.99</a></span>,\n",
       " <span class=\"current\">\n",
       " <a class=\"current link\" href=\"/w/sea-of-monsters-rick-riordan/1100327442;jsessionid=F2252E992967E09F2F199BA9BFB9D171.prodny_store01-atgap04?ean=9781423103349\" onclick=\"set_cookie('txl__Sea-of-Monsters/Rick-Riordan_text');\" title=\"\">$7.99</a></span>,\n",
       " <span class=\"current\">\n",
       " <a class=\"current link\" href=\"/w/the-blood-of-olympus-rick-riordan/1117136528;jsessionid=F2252E992967E09F2F199BA9BFB9D171.prodny_store01-atgap04?ean=9781423146735\" onclick=\"set_cookie('txl__The-Blood-of-Olympus/Rick-Riordan_text');\" title=\"\">$17.99</a></span>]"
      ]
     },
     "execution_count": 31,
     "metadata": {},
     "output_type": "execute_result"
    }
   ],
   "source": [
    "price"
   ]
  },
  {
   "cell_type": "code",
   "execution_count": 32,
   "metadata": {},
   "outputs": [
    {
     "data": {
      "text/plain": [
       "20"
      ]
     },
     "execution_count": 32,
     "metadata": {},
     "output_type": "execute_result"
    }
   ],
   "source": [
    "len(price)"
   ]
  },
  {
   "cell_type": "code",
   "execution_count": 33,
   "metadata": {},
   "outputs": [
    {
     "data": {
      "text/plain": [
       "'$10.99'"
      ]
     },
     "execution_count": 33,
     "metadata": {},
     "output_type": "execute_result"
    }
   ],
   "source": [
    "price[0].a.text"
   ]
  },
  {
   "cell_type": "code",
   "execution_count": 34,
   "metadata": {},
   "outputs": [
    {
     "data": {
      "text/plain": [
       "'$16.99'"
      ]
     },
     "execution_count": 34,
     "metadata": {},
     "output_type": "execute_result"
    }
   ],
   "source": [
    "price[1].a.text"
   ]
  },
  {
   "cell_type": "code",
   "execution_count": 35,
   "metadata": {},
   "outputs": [],
   "source": [
    "prices=[]\n",
    "for i in range(len(price)):\n",
    "    prices.append(price[i].a.text)\n",
    "    "
   ]
  },
  {
   "cell_type": "code",
   "execution_count": 36,
   "metadata": {},
   "outputs": [
    {
     "data": {
      "text/plain": [
       "['$10.99',\n",
       " '$16.99',\n",
       " '$6.99',\n",
       " '$21.49',\n",
       " '$17.49',\n",
       " '$16.99',\n",
       " '$10.00',\n",
       " '$17.99',\n",
       " '$7.99',\n",
       " '$10.00',\n",
       " '$8.99',\n",
       " '$10.99',\n",
       " '$7.99',\n",
       " '$8.99',\n",
       " '$13.49',\n",
       " '$8.99',\n",
       " '$25.00',\n",
       " '$9.99',\n",
       " '$7.99',\n",
       " '$17.99']"
      ]
     },
     "execution_count": 36,
     "metadata": {},
     "output_type": "execute_result"
    }
   ],
   "source": [
    "prices"
   ]
  },
  {
   "cell_type": "markdown",
   "metadata": {},
   "source": [
    "### Since I can only access 20 books in a single web page,I will scrape many web pages to get a considerable amount of data. The  data from every web page will be combined."
   ]
  },
  {
   "cell_type": "markdown",
   "metadata": {},
   "source": [
    "# Scraping Batch 2"
   ]
  },
  {
   "cell_type": "code",
   "execution_count": 37,
   "metadata": {},
   "outputs": [],
   "source": [
    "url=\"https://www.barnesandnoble.com/b/books/kids/fairy-tales-myths-fables-kids/_/N-1fZ29Z8q8Zu9d?Nrpp=20&page=2\""
   ]
  },
  {
   "cell_type": "code",
   "execution_count": 38,
   "metadata": {},
   "outputs": [],
   "source": [
    "Uclient=uReq(url)\n",
    "\n",
    "page_html=Uclient.read()\n",
    "Uclient.close()\n",
    "page_soup=soup(page_html,\"html.parser\")"
   ]
  },
  {
   "cell_type": "code",
   "execution_count": 39,
   "metadata": {},
   "outputs": [],
   "source": [
    "data=page_soup.findAll(\"div\",{\"class\":\"col-lg-9 product-info-listView\"})"
   ]
  },
  {
   "cell_type": "code",
   "execution_count": 40,
   "metadata": {},
   "outputs": [
    {
     "data": {
      "text/plain": [
       "20"
      ]
     },
     "execution_count": 40,
     "metadata": {},
     "output_type": "execute_result"
    }
   ],
   "source": [
    "len(data)"
   ]
  },
  {
   "cell_type": "code",
   "execution_count": 41,
   "metadata": {},
   "outputs": [],
   "source": [
    "for i in range(len(data)):\n",
    "    name.append(data[i].div.a.text)"
   ]
  },
  {
   "cell_type": "code",
   "execution_count": 42,
   "metadata": {},
   "outputs": [
    {
     "data": {
      "text/plain": [
       "['How to Catch a Yeti',\n",
       " 'The Tower of Nero (B&N Exclusive Edition) (The Trials of Apollo Series #5)',\n",
       " 'The Lightning Thief (Percy Jackson and the Olympians Series #1)',\n",
       " 'The Ickabog',\n",
       " 'The Mitten',\n",
       " 'The Stinky Cheese Man and Other Fairly Stupid Tales',\n",
       " 'The Story of King Arthur and His Knights (Barnes & Noble Collectible Editions)',\n",
       " \"The Tyrant's Tomb (B&N Exclusive Edition) (The Trials of Apollo Series #4)\",\n",
       " 'Orphan Island',\n",
       " 'The Little Mermaid and Other Fairy Tales (Barnes & Noble Collectible Editions)',\n",
       " 'The Dark Prophecy (The Trials of Apollo Series #2)',\n",
       " 'The Little Prince',\n",
       " 'Strega Nona',\n",
       " 'The Burning Maze (The Trials of Apollo Series #3)',\n",
       " 'The Tale of Three Trees',\n",
       " 'The Hidden Oracle (The Trials of Apollo Series #1)',\n",
       " \"Grimm's Complete Fairy Tales (Barnes & Noble Collectible Editions)\",\n",
       " 'The House of Hades (The Heroes of Olympus Series #4)',\n",
       " 'The Sea of Monsters (Percy Jackson and the Olympians Series #2)',\n",
       " 'The Blood of Olympus (The Heroes of Olympus Series #5)',\n",
       " 'The Heroes of Olympus Paperback 3-Book Boxed Set',\n",
       " \"The Titan's Curse (Percy Jackson and the Olympians Series #3)\",\n",
       " 'The True Story of the Three Little Pigs',\n",
       " 'The Son of Neptune (The Heroes of Olympus Series #2)',\n",
       " \"Grimm's Fairy Tales (Barnes & Noble Collectible Editions)\",\n",
       " 'The Lost Hero (The Heroes of Olympus Series #1)',\n",
       " 'The Mark of Athena (The Heroes of Olympus Series #3)',\n",
       " 'The Last Olympian (Percy Jackson and the Olympians Series #5)',\n",
       " 'The Battle of the Labyrinth (Percy Jackson and the Olympians Series #4)',\n",
       " 'Once Upon a Unicorn',\n",
       " 'Hans Christian Andersen: Classic Fairy Tales (Barnes & Noble Collectible Editions)',\n",
       " 'One True King (B&N Exclusive Edition) (The School for Good and Evil Series #6)',\n",
       " 'The Red Pyramid (Kane Chronicles Series #1)',\n",
       " 'Magnus Chase and the Gods of Asgard Paperback Boxed Set',\n",
       " \"The Serpent's Shadow (Kane Chronicles Series #3)\",\n",
       " 'The Ship of the Dead (Magnus Chase and the Gods of Asgard Series #3)',\n",
       " 'The Sword of Summer (Magnus Chase and the Gods of Asgard Series #1)',\n",
       " 'Greek Myths: A Wonder Book for Girls & Boys (Barnes & Noble Collectible Editions)',\n",
       " 'The Throne of Fire (Kane Chronicles Series #2)',\n",
       " 'Trials of Apollo, The 3-Book Paperback Boxed Set']"
      ]
     },
     "execution_count": 42,
     "metadata": {},
     "output_type": "execute_result"
    }
   ],
   "source": [
    "name"
   ]
  },
  {
   "cell_type": "code",
   "execution_count": 43,
   "metadata": {},
   "outputs": [
    {
     "data": {
      "text/plain": [
       "40"
      ]
     },
     "execution_count": 43,
     "metadata": {},
     "output_type": "execute_result"
    }
   ],
   "source": [
    "len(name)"
   ]
  },
  {
   "cell_type": "code",
   "execution_count": 44,
   "metadata": {},
   "outputs": [],
   "source": [
    "for i in range(len(data)):\n",
    "    dates.append(data[i].div.span.text)"
   ]
  },
  {
   "cell_type": "code",
   "execution_count": 45,
   "metadata": {},
   "outputs": [
    {
     "data": {
      "text/plain": [
       "[' (09/01/2020)',\n",
       " ' (10/06/2020)',\n",
       " ' (04/01/2006)',\n",
       " ' (11/10/2020)',\n",
       " ' (10/05/2009)',\n",
       " ' (10/28/1992)',\n",
       " ' (06/01/2016)',\n",
       " ' (09/24/2019)',\n",
       " ' (10/02/2018)',\n",
       " ' (10/05/2016)',\n",
       " ' (10/02/2018)',\n",
       " ' (05/22/2000)',\n",
       " ' (09/03/1979)',\n",
       " ' (09/24/2019)',\n",
       " ' (09/13/1989)',\n",
       " ' (10/03/2017)',\n",
       " ' (07/10/2015)',\n",
       " ' (03/31/2015)',\n",
       " ' (03/20/2007)',\n",
       " ' (10/07/2014)',\n",
       " ' (10/21/2014)',\n",
       " ' (04/08/2008)',\n",
       " ' (03/01/1996)',\n",
       " ' (07/02/2013)',\n",
       " ' (06/05/2015)',\n",
       " ' (04/03/2012)',\n",
       " ' (04/08/2014)',\n",
       " ' (01/25/2011)',\n",
       " ' (04/07/2009)',\n",
       " ' (10/23/2019)',\n",
       " ' (07/31/2015)',\n",
       " ' (06/02/2020)',\n",
       " ' (04/03/2018)',\n",
       " ' (04/02/2019)',\n",
       " ' (04/03/2018)',\n",
       " ' (04/02/2019)',\n",
       " ' (04/04/2017)',\n",
       " ' (07/03/2015)',\n",
       " ' (04/03/2018)',\n",
       " ' (09/24/2019)']"
      ]
     },
     "execution_count": 45,
     "metadata": {},
     "output_type": "execute_result"
    }
   ],
   "source": [
    "dates"
   ]
  },
  {
   "cell_type": "code",
   "execution_count": 46,
   "metadata": {},
   "outputs": [
    {
     "data": {
      "text/plain": [
       "40"
      ]
     },
     "execution_count": 46,
     "metadata": {},
     "output_type": "execute_result"
    }
   ],
   "source": [
    "len(dates)"
   ]
  },
  {
   "cell_type": "code",
   "execution_count": 47,
   "metadata": {},
   "outputs": [],
   "source": [
    "author=page_soup.findAll(\"div\",{\"class\":\"product-shelf-author contributors\"})\n",
    "for i in range(len(author)):\n",
    "    authors.append(author[i].a.text)"
   ]
  },
  {
   "cell_type": "code",
   "execution_count": 48,
   "metadata": {},
   "outputs": [
    {
     "data": {
      "text/plain": [
       "['Adam Wallace',\n",
       " 'Rick Riordan',\n",
       " 'Rick Riordan',\n",
       " 'J. K. Rowling',\n",
       " 'Jan Brett',\n",
       " 'Jon Scieszka',\n",
       " 'Howard Pyle',\n",
       " 'Rick Riordan',\n",
       " 'Laurel Snyder',\n",
       " 'Hans Christian Andersen',\n",
       " 'Rick Riordan',\n",
       " 'Antoine de Saint-Exupery',\n",
       " 'Tomie dePaola',\n",
       " 'Rick Riordan',\n",
       " 'Angela Elwell Hunt',\n",
       " 'Rick Riordan',\n",
       " 'Brothers Grimm',\n",
       " 'Rick Riordan',\n",
       " 'Rick Riordan',\n",
       " 'Rick Riordan',\n",
       " 'Rick Riordan',\n",
       " 'Rick Riordan',\n",
       " 'Jon Scieszka',\n",
       " 'Rick Riordan',\n",
       " 'Brothers Grimm',\n",
       " 'Rick Riordan',\n",
       " 'Rick Riordan',\n",
       " 'Rick Riordan',\n",
       " 'Rick Riordan',\n",
       " 'Isla Wynter',\n",
       " 'Hans Christian Andersen',\n",
       " 'Soman Chainani',\n",
       " 'Rick Riordan',\n",
       " 'Rick Riordan',\n",
       " 'Rick Riordan',\n",
       " 'Rick Riordan',\n",
       " 'Rick Riordan',\n",
       " 'Nathaniel Hawthorne',\n",
       " 'Rick Riordan',\n",
       " 'Rick Riordan']"
      ]
     },
     "execution_count": 48,
     "metadata": {},
     "output_type": "execute_result"
    }
   ],
   "source": [
    "authors"
   ]
  },
  {
   "cell_type": "code",
   "execution_count": 49,
   "metadata": {},
   "outputs": [
    {
     "data": {
      "text/plain": [
       "40"
      ]
     },
     "execution_count": 49,
     "metadata": {},
     "output_type": "execute_result"
    }
   ],
   "source": [
    "len(authors)"
   ]
  },
  {
   "cell_type": "code",
   "execution_count": 50,
   "metadata": {},
   "outputs": [],
   "source": [
    "price=page_soup.findAll(\"span\",{\"class\":\"current\"})\n",
    "for i in range(len(price)):\n",
    "    prices.append(price[i].a.text)"
   ]
  },
  {
   "cell_type": "code",
   "execution_count": 51,
   "metadata": {},
   "outputs": [
    {
     "data": {
      "text/plain": [
       "['$10.99',\n",
       " '$16.99',\n",
       " '$6.99',\n",
       " '$21.49',\n",
       " '$17.49',\n",
       " '$16.99',\n",
       " '$10.00',\n",
       " '$17.99',\n",
       " '$7.99',\n",
       " '$10.00',\n",
       " '$8.99',\n",
       " '$10.99',\n",
       " '$7.99',\n",
       " '$8.99',\n",
       " '$13.49',\n",
       " '$8.99',\n",
       " '$25.00',\n",
       " '$9.99',\n",
       " '$7.99',\n",
       " '$17.99',\n",
       " '$25.95',\n",
       " '$7.99',\n",
       " '$7.99',\n",
       " '$9.99',\n",
       " '$10.00',\n",
       " '$9.99',\n",
       " '$9.99',\n",
       " '$7.99',\n",
       " '$7.99',\n",
       " '$7.99',\n",
       " '$25.00',\n",
       " '$17.99',\n",
       " '$9.99',\n",
       " '$26.97',\n",
       " '$8.99',\n",
       " '$9.99',\n",
       " '$8.99',\n",
       " '$10.00',\n",
       " '$8.99',\n",
       " '$26.97']"
      ]
     },
     "execution_count": 51,
     "metadata": {},
     "output_type": "execute_result"
    }
   ],
   "source": [
    "prices"
   ]
  },
  {
   "cell_type": "code",
   "execution_count": 52,
   "metadata": {},
   "outputs": [
    {
     "data": {
      "text/plain": [
       "40"
      ]
     },
     "execution_count": 52,
     "metadata": {},
     "output_type": "execute_result"
    }
   ],
   "source": [
    "len(prices)"
   ]
  },
  {
   "cell_type": "markdown",
   "metadata": {},
   "source": [
    "# Batch 3"
   ]
  },
  {
   "cell_type": "code",
   "execution_count": 53,
   "metadata": {},
   "outputs": [],
   "source": [
    "url=\"https://www.barnesandnoble.com/b/books/kids/fairy-tales-myths-fables-kids/_/N-1fZ29Z8q8Zu9d?Nrpp=20&page=3\""
   ]
  },
  {
   "cell_type": "code",
   "execution_count": 54,
   "metadata": {},
   "outputs": [],
   "source": [
    "Uclient=uReq(url)\n",
    "\n",
    "page_html=Uclient.read()\n",
    "Uclient.close()\n",
    "page_soup=soup(page_html,\"html.parser\")"
   ]
  },
  {
   "cell_type": "code",
   "execution_count": 55,
   "metadata": {},
   "outputs": [],
   "source": [
    "data=page_soup.findAll(\"div\",{\"class\":\"col-lg-9 product-info-listView\"})"
   ]
  },
  {
   "cell_type": "code",
   "execution_count": 56,
   "metadata": {},
   "outputs": [],
   "source": [
    "for i in range(len(data)):\n",
    "    name.append(data[i].div.a.text)"
   ]
  },
  {
   "cell_type": "code",
   "execution_count": 57,
   "metadata": {},
   "outputs": [
    {
     "data": {
      "text/plain": [
       "60"
      ]
     },
     "execution_count": 57,
     "metadata": {},
     "output_type": "execute_result"
    }
   ],
   "source": [
    "len(name)"
   ]
  },
  {
   "cell_type": "code",
   "execution_count": 58,
   "metadata": {},
   "outputs": [],
   "source": [
    "for i in range(len(data)):\n",
    "    dates.append(data[i].div.span.text)"
   ]
  },
  {
   "cell_type": "code",
   "execution_count": 59,
   "metadata": {},
   "outputs": [
    {
     "data": {
      "text/plain": [
       "60"
      ]
     },
     "execution_count": 59,
     "metadata": {},
     "output_type": "execute_result"
    }
   ],
   "source": [
    "len(dates)"
   ]
  },
  {
   "cell_type": "code",
   "execution_count": 60,
   "metadata": {},
   "outputs": [],
   "source": [
    "author=page_soup.findAll(\"div\",{\"class\":\"product-shelf-author contributors\"})\n",
    "for i in range(len(author)):\n",
    "    authors.append(author[i].a.text)"
   ]
  },
  {
   "cell_type": "code",
   "execution_count": 61,
   "metadata": {},
   "outputs": [
    {
     "data": {
      "text/plain": [
       "60"
      ]
     },
     "execution_count": 61,
     "metadata": {},
     "output_type": "execute_result"
    }
   ],
   "source": [
    "len(authors)"
   ]
  },
  {
   "cell_type": "code",
   "execution_count": 62,
   "metadata": {},
   "outputs": [],
   "source": [
    "for i in range(len(price)):\n",
    "    prices.append(price[i].a.text)"
   ]
  },
  {
   "cell_type": "code",
   "execution_count": 63,
   "metadata": {},
   "outputs": [
    {
     "data": {
      "text/plain": [
       "60"
      ]
     },
     "execution_count": 63,
     "metadata": {},
     "output_type": "execute_result"
    }
   ],
   "source": [
    "len(prices)"
   ]
  },
  {
   "cell_type": "markdown",
   "metadata": {},
   "source": [
    "# Batch 4"
   ]
  },
  {
   "cell_type": "code",
   "execution_count": 64,
   "metadata": {},
   "outputs": [],
   "source": [
    "url=\"https://www.barnesandnoble.com/b/books/kids/fairy-tales-myths-fables-kids/_/N-1fZ29Z8q8Zu9d?Nrpp=20&page=4\""
   ]
  },
  {
   "cell_type": "code",
   "execution_count": 65,
   "metadata": {},
   "outputs": [],
   "source": [
    "Uclient=uReq(url)\n",
    "\n",
    "page_html=Uclient.read()\n",
    "Uclient.close()\n",
    "page_soup=soup(page_html,\"html.parser\")"
   ]
  },
  {
   "cell_type": "code",
   "execution_count": 66,
   "metadata": {},
   "outputs": [],
   "source": [
    "data=page_soup.findAll(\"div\",{\"class\":\"col-lg-9 product-info-listView\"})"
   ]
  },
  {
   "cell_type": "code",
   "execution_count": 67,
   "metadata": {},
   "outputs": [],
   "source": [
    "for i in range(len(data)):\n",
    "    name.append(data[i].div.a.text)"
   ]
  },
  {
   "cell_type": "code",
   "execution_count": 68,
   "metadata": {},
   "outputs": [],
   "source": [
    "for i in range(len(data)):\n",
    "    dates.append(data[i].div.span.text)"
   ]
  },
  {
   "cell_type": "code",
   "execution_count": 69,
   "metadata": {},
   "outputs": [],
   "source": [
    "author=page_soup.findAll(\"div\",{\"class\":\"product-shelf-author contributors\"})\n",
    "for i in range(len(author)):\n",
    "    authors.append(author[i].a.text)"
   ]
  },
  {
   "cell_type": "code",
   "execution_count": 70,
   "metadata": {},
   "outputs": [],
   "source": [
    "price=page_soup.findAll(\"span\",{\"class\":\"current\"})\n",
    "for i in range(len(price)):\n",
    "    prices.append(price[i].a.text)"
   ]
  },
  {
   "cell_type": "markdown",
   "metadata": {},
   "source": [
    "# Batch 5"
   ]
  },
  {
   "cell_type": "code",
   "execution_count": 71,
   "metadata": {},
   "outputs": [],
   "source": [
    "url=\"https://www.barnesandnoble.com/b/books/kids/fairy-tales-myths-fables-kids/_/N-1fZ29Z8q8Zu9d?Nrpp=20&page=5\""
   ]
  },
  {
   "cell_type": "code",
   "execution_count": 72,
   "metadata": {},
   "outputs": [],
   "source": [
    "Uclient=uReq(url)\n",
    "\n",
    "page_html=Uclient.read()\n",
    "Uclient.close()\n",
    "page_soup=soup(page_html,\"html.parser\")"
   ]
  },
  {
   "cell_type": "code",
   "execution_count": 73,
   "metadata": {},
   "outputs": [],
   "source": [
    "data=page_soup.findAll(\"div\",{\"class\":\"col-lg-9 product-info-listView\"})"
   ]
  },
  {
   "cell_type": "code",
   "execution_count": 74,
   "metadata": {},
   "outputs": [],
   "source": [
    "for i in range(len(data)):\n",
    "    name.append(data[i].div.a.text)"
   ]
  },
  {
   "cell_type": "code",
   "execution_count": 75,
   "metadata": {},
   "outputs": [],
   "source": [
    "for i in range(len(data)):\n",
    "    dates.append(data[i].div.span.text)"
   ]
  },
  {
   "cell_type": "code",
   "execution_count": 76,
   "metadata": {},
   "outputs": [],
   "source": [
    "author=page_soup.findAll(\"div\",{\"class\":\"product-shelf-author contributors\"})\n",
    "for i in range(len(author)):\n",
    "    authors.append(author[i].a.text)"
   ]
  },
  {
   "cell_type": "code",
   "execution_count": 77,
   "metadata": {},
   "outputs": [],
   "source": [
    "price=page_soup.findAll(\"span\",{\"class\":\"current\"})\n",
    "for i in range(len(price)):\n",
    "    prices.append(price[i].a.text)"
   ]
  },
  {
   "cell_type": "markdown",
   "metadata": {},
   "source": [
    "# Batch 6"
   ]
  },
  {
   "cell_type": "code",
   "execution_count": 78,
   "metadata": {},
   "outputs": [],
   "source": [
    "url=\"https://www.barnesandnoble.com/b/books/kids/insects-kids/_/N-1fZ29Z8q8Zu2a\""
   ]
  },
  {
   "cell_type": "code",
   "execution_count": 79,
   "metadata": {},
   "outputs": [],
   "source": [
    "Uclient=uReq(url)\n",
    "\n",
    "page_html=Uclient.read()\n",
    "Uclient.close()\n",
    "page_soup=soup(page_html,\"html.parser\")"
   ]
  },
  {
   "cell_type": "code",
   "execution_count": 80,
   "metadata": {},
   "outputs": [],
   "source": [
    "data=page_soup.findAll(\"div\",{\"class\":\"col-lg-9 product-info-listView\"})"
   ]
  },
  {
   "cell_type": "code",
   "execution_count": 81,
   "metadata": {},
   "outputs": [
    {
     "data": {
      "text/plain": [
       "20"
      ]
     },
     "execution_count": 81,
     "metadata": {},
     "output_type": "execute_result"
    }
   ],
   "source": [
    "len(data)"
   ]
  },
  {
   "cell_type": "code",
   "execution_count": 82,
   "metadata": {},
   "outputs": [],
   "source": [
    "for i in range(len(data)):\n",
    "    name.append(data[i].div.a.text)"
   ]
  },
  {
   "cell_type": "code",
   "execution_count": 83,
   "metadata": {},
   "outputs": [
    {
     "data": {
      "text/plain": [
       "120"
      ]
     },
     "execution_count": 83,
     "metadata": {},
     "output_type": "execute_result"
    }
   ],
   "source": [
    "len(name)"
   ]
  },
  {
   "cell_type": "code",
   "execution_count": 84,
   "metadata": {},
   "outputs": [],
   "source": [
    "for i in range(len(data)):\n",
    "    dates.append(data[i].div.span.text)"
   ]
  },
  {
   "cell_type": "code",
   "execution_count": 85,
   "metadata": {},
   "outputs": [],
   "source": [
    "author=page_soup.findAll(\"div\",{\"class\":\"product-shelf-author contributors\"})\n",
    "for i in range(len(author)):\n",
    "    authors.append(author[i].a.text)"
   ]
  },
  {
   "cell_type": "code",
   "execution_count": 86,
   "metadata": {},
   "outputs": [
    {
     "data": {
      "text/plain": [
       "120"
      ]
     },
     "execution_count": 86,
     "metadata": {},
     "output_type": "execute_result"
    }
   ],
   "source": [
    "len(authors)"
   ]
  },
  {
   "cell_type": "code",
   "execution_count": 87,
   "metadata": {},
   "outputs": [],
   "source": [
    "price=page_soup.findAll(\"span\",{\"class\":\"current\"})\n",
    "for i in range(len(price)):\n",
    "    prices.append(price[i].a.text)"
   ]
  },
  {
   "cell_type": "code",
   "execution_count": 88,
   "metadata": {},
   "outputs": [
    {
     "data": {
      "text/plain": [
       "120"
      ]
     },
     "execution_count": 88,
     "metadata": {},
     "output_type": "execute_result"
    }
   ],
   "source": [
    "len(prices)"
   ]
  },
  {
   "cell_type": "markdown",
   "metadata": {},
   "source": [
    "# Batch 7"
   ]
  },
  {
   "cell_type": "code",
   "execution_count": 89,
   "metadata": {},
   "outputs": [],
   "source": [
    "url=\"https://www.barnesandnoble.com/b/books/kids/insects-kids/_/N-1fZ29Z8q8Zu2a?Nrpp=20&page=2\""
   ]
  },
  {
   "cell_type": "code",
   "execution_count": 90,
   "metadata": {},
   "outputs": [],
   "source": [
    "Uclient=uReq(url)\n",
    "\n",
    "page_html=Uclient.read()\n",
    "Uclient.close()\n",
    "page_soup=soup(page_html,\"html.parser\")"
   ]
  },
  {
   "cell_type": "code",
   "execution_count": 91,
   "metadata": {},
   "outputs": [],
   "source": [
    "data=page_soup.findAll(\"div\",{\"class\":\"col-lg-9 product-info-listView\"})"
   ]
  },
  {
   "cell_type": "code",
   "execution_count": 92,
   "metadata": {},
   "outputs": [],
   "source": [
    "for i in range(len(data)):\n",
    "    name.append(data[i].div.a.text)"
   ]
  },
  {
   "cell_type": "code",
   "execution_count": 93,
   "metadata": {},
   "outputs": [],
   "source": [
    "for i in range(len(data)):\n",
    "    dates.append(data[i].div.span.text)"
   ]
  },
  {
   "cell_type": "code",
   "execution_count": 94,
   "metadata": {},
   "outputs": [],
   "source": [
    "author=page_soup.findAll(\"div\",{\"class\":\"product-shelf-author contributors\"})\n",
    "for i in range(len(author)):\n",
    "    authors.append(author[i].a.text)"
   ]
  },
  {
   "cell_type": "code",
   "execution_count": 95,
   "metadata": {},
   "outputs": [],
   "source": [
    "price=page_soup.findAll(\"span\",{\"class\":\"current\"})\n",
    "for i in range(len(price)):\n",
    "    prices.append(price[i].a.text)"
   ]
  },
  {
   "cell_type": "code",
   "execution_count": 96,
   "metadata": {},
   "outputs": [
    {
     "data": {
      "text/plain": [
       "140"
      ]
     },
     "execution_count": 96,
     "metadata": {},
     "output_type": "execute_result"
    }
   ],
   "source": [
    "len(name)"
   ]
  },
  {
   "cell_type": "markdown",
   "metadata": {},
   "source": [
    "# Batch 8"
   ]
  },
  {
   "cell_type": "code",
   "execution_count": 97,
   "metadata": {},
   "outputs": [],
   "source": [
    "url=\"https://www.barnesandnoble.com/b/books/kids/insects-kids/_/N-1fZ29Z8q8Zu2a?Nrpp=20&page=3\""
   ]
  },
  {
   "cell_type": "code",
   "execution_count": 98,
   "metadata": {},
   "outputs": [],
   "source": [
    "Uclient=uReq(url)\n",
    "\n",
    "page_html=Uclient.read()\n",
    "Uclient.close()\n",
    "page_soup=soup(page_html,\"html.parser\")"
   ]
  },
  {
   "cell_type": "code",
   "execution_count": 99,
   "metadata": {},
   "outputs": [],
   "source": [
    "data=page_soup.findAll(\"div\",{\"class\":\"col-lg-9 product-info-listView\"})"
   ]
  },
  {
   "cell_type": "code",
   "execution_count": 100,
   "metadata": {},
   "outputs": [],
   "source": [
    "for i in range(len(data)):\n",
    "    name.append(data[i].div.a.text)"
   ]
  },
  {
   "cell_type": "code",
   "execution_count": 101,
   "metadata": {},
   "outputs": [],
   "source": [
    "for i in range(len(data)):\n",
    "    dates.append(data[i].div.span.text)"
   ]
  },
  {
   "cell_type": "code",
   "execution_count": 102,
   "metadata": {},
   "outputs": [],
   "source": [
    "author=page_soup.findAll(\"div\",{\"class\":\"product-shelf-author contributors\"})\n",
    "for i in range(len(author)):\n",
    "    authors.append(author[i].a.text)"
   ]
  },
  {
   "cell_type": "code",
   "execution_count": 103,
   "metadata": {},
   "outputs": [],
   "source": [
    "price=page_soup.findAll(\"span\",{\"class\":\"current\"})\n",
    "for i in range(len(price)):\n",
    "    prices.append(price[i].a.text)"
   ]
  },
  {
   "cell_type": "code",
   "execution_count": 104,
   "metadata": {},
   "outputs": [
    {
     "data": {
      "text/plain": [
       "160"
      ]
     },
     "execution_count": 104,
     "metadata": {},
     "output_type": "execute_result"
    }
   ],
   "source": [
    "len(prices)"
   ]
  },
  {
   "cell_type": "markdown",
   "metadata": {},
   "source": [
    "# Batch 9"
   ]
  },
  {
   "cell_type": "code",
   "execution_count": 105,
   "metadata": {},
   "outputs": [],
   "source": [
    "url=\"https://www.barnesandnoble.com/b/books/kids/insects-kids/_/N-1fZ29Z8q8Zu2a?Nrpp=20&page=4\""
   ]
  },
  {
   "cell_type": "code",
   "execution_count": 106,
   "metadata": {},
   "outputs": [],
   "source": [
    "Uclient=uReq(url)\n",
    "\n",
    "page_html=Uclient.read()\n",
    "Uclient.close()\n",
    "page_soup=soup(page_html,\"html.parser\")"
   ]
  },
  {
   "cell_type": "code",
   "execution_count": 107,
   "metadata": {},
   "outputs": [],
   "source": [
    "data=page_soup.findAll(\"div\",{\"class\":\"col-lg-9 product-info-listView\"})"
   ]
  },
  {
   "cell_type": "code",
   "execution_count": 108,
   "metadata": {},
   "outputs": [],
   "source": [
    "for i in range(len(data)):\n",
    "    name.append(data[i].div.a.text)"
   ]
  },
  {
   "cell_type": "code",
   "execution_count": 109,
   "metadata": {},
   "outputs": [],
   "source": [
    "for i in range(len(data)):\n",
    "    dates.append(data[i].div.span.text)"
   ]
  },
  {
   "cell_type": "code",
   "execution_count": 110,
   "metadata": {},
   "outputs": [],
   "source": [
    "author=page_soup.findAll(\"div\",{\"class\":\"product-shelf-author contributors\"})\n",
    "for i in range(len(author)):\n",
    "    authors.append(author[i].a.text)"
   ]
  },
  {
   "cell_type": "code",
   "execution_count": 111,
   "metadata": {},
   "outputs": [],
   "source": [
    "price=page_soup.findAll(\"span\",{\"class\":\"current\"})\n",
    "for i in range(len(price)):\n",
    "    prices.append(price[i].a.text)"
   ]
  },
  {
   "cell_type": "code",
   "execution_count": 112,
   "metadata": {},
   "outputs": [
    {
     "data": {
      "text/plain": [
       "180"
      ]
     },
     "execution_count": 112,
     "metadata": {},
     "output_type": "execute_result"
    }
   ],
   "source": [
    "len(authors)"
   ]
  },
  {
   "cell_type": "markdown",
   "metadata": {},
   "source": [
    "# Batch 10"
   ]
  },
  {
   "cell_type": "code",
   "execution_count": 113,
   "metadata": {},
   "outputs": [],
   "source": [
    "url=\"https://www.barnesandnoble.com/b/books/kids/insects-kids/_/N-1fZ29Z8q8Zu2a?Nrpp=20&page=5\""
   ]
  },
  {
   "cell_type": "code",
   "execution_count": 114,
   "metadata": {},
   "outputs": [],
   "source": [
    "Uclient=uReq(url)\n",
    "\n",
    "page_html=Uclient.read()\n",
    "Uclient.close()\n",
    "page_soup=soup(page_html,\"html.parser\")"
   ]
  },
  {
   "cell_type": "code",
   "execution_count": 115,
   "metadata": {},
   "outputs": [],
   "source": [
    "data=page_soup.findAll(\"div\",{\"class\":\"col-lg-9 product-info-listView\"})"
   ]
  },
  {
   "cell_type": "code",
   "execution_count": 116,
   "metadata": {},
   "outputs": [],
   "source": [
    "for i in range(len(data)):\n",
    "    name.append(data[i].div.a.text)"
   ]
  },
  {
   "cell_type": "code",
   "execution_count": 117,
   "metadata": {},
   "outputs": [],
   "source": [
    "for i in range(len(data)):\n",
    "    dates.append(data[i].div.span.text)"
   ]
  },
  {
   "cell_type": "code",
   "execution_count": 118,
   "metadata": {},
   "outputs": [],
   "source": [
    "author=page_soup.findAll(\"div\",{\"class\":\"product-shelf-author contributors\"})\n",
    "for i in range(len(author)):\n",
    "    authors.append(author[i].a.text)"
   ]
  },
  {
   "cell_type": "code",
   "execution_count": 119,
   "metadata": {},
   "outputs": [],
   "source": [
    "price=page_soup.findAll(\"span\",{\"class\":\"current\"})\n",
    "for i in range(len(price)):\n",
    "    prices.append(price[i].a.text)"
   ]
  },
  {
   "cell_type": "code",
   "execution_count": 120,
   "metadata": {},
   "outputs": [
    {
     "data": {
      "text/plain": [
       "200"
      ]
     },
     "execution_count": 120,
     "metadata": {},
     "output_type": "execute_result"
    }
   ],
   "source": [
    "len(name)"
   ]
  },
  {
   "cell_type": "markdown",
   "metadata": {},
   "source": [
    "# Batch 11"
   ]
  },
  {
   "cell_type": "code",
   "execution_count": 121,
   "metadata": {},
   "outputs": [],
   "source": [
    "url=\"https://www.barnesandnoble.com/b/books/kids/entertainment-performing-arts-kids/_/N-1fZ29Z8q8Zu8v;jsessionid=2C789C7406A6CDAD0A2A2F547031C922.prodny_store01-atgap14\""
   ]
  },
  {
   "cell_type": "code",
   "execution_count": 122,
   "metadata": {},
   "outputs": [],
   "source": [
    "Uclient=uReq(url)\n",
    "\n",
    "page_html=Uclient.read()\n",
    "Uclient.close()\n",
    "page_soup=soup(page_html,\"html.parser\")"
   ]
  },
  {
   "cell_type": "code",
   "execution_count": 123,
   "metadata": {},
   "outputs": [],
   "source": [
    "data=page_soup.findAll(\"div\",{\"class\":\"col-lg-9 product-info-listView\"})"
   ]
  },
  {
   "cell_type": "code",
   "execution_count": 124,
   "metadata": {},
   "outputs": [],
   "source": [
    "for i in range(len(data)):\n",
    "    name.append(data[i].div.a.text)"
   ]
  },
  {
   "cell_type": "code",
   "execution_count": 125,
   "metadata": {},
   "outputs": [],
   "source": [
    "for i in range(len(data)):\n",
    "    dates.append(data[i].div.span.text)"
   ]
  },
  {
   "cell_type": "code",
   "execution_count": 126,
   "metadata": {},
   "outputs": [],
   "source": [
    "author=page_soup.findAll(\"div\",{\"class\":\"product-shelf-author contributors\"})\n",
    "for i in range(len(author)):\n",
    "    authors.append(author[i].a.text)"
   ]
  },
  {
   "cell_type": "code",
   "execution_count": 127,
   "metadata": {},
   "outputs": [],
   "source": [
    "price=page_soup.findAll(\"span\",{\"class\":\"current\"})\n",
    "for i in range(len(price)):\n",
    "    prices.append(price[i].a.text)"
   ]
  },
  {
   "cell_type": "code",
   "execution_count": 128,
   "metadata": {},
   "outputs": [
    {
     "data": {
      "text/plain": [
       "220"
      ]
     },
     "execution_count": 128,
     "metadata": {},
     "output_type": "execute_result"
    }
   ],
   "source": [
    "len(prices)"
   ]
  },
  {
   "cell_type": "markdown",
   "metadata": {},
   "source": [
    "# Batch 12"
   ]
  },
  {
   "cell_type": "code",
   "execution_count": 129,
   "metadata": {},
   "outputs": [],
   "source": [
    "url=\"https://www.barnesandnoble.com/b/books/kids/entertainment-performing-arts-kids/_/N-1fZ29Z8q8Zu8v?Nrpp=20&page=2\""
   ]
  },
  {
   "cell_type": "code",
   "execution_count": 130,
   "metadata": {},
   "outputs": [],
   "source": [
    "Uclient=uReq(url)\n",
    "\n",
    "page_html=Uclient.read()\n",
    "Uclient.close()\n",
    "page_soup=soup(page_html,\"html.parser\")"
   ]
  },
  {
   "cell_type": "code",
   "execution_count": 131,
   "metadata": {},
   "outputs": [],
   "source": [
    "data=page_soup.findAll(\"div\",{\"class\":\"col-lg-9 product-info-listView\"})"
   ]
  },
  {
   "cell_type": "code",
   "execution_count": 132,
   "metadata": {},
   "outputs": [],
   "source": [
    "for i in range(len(data)):\n",
    "    name.append(data[i].div.a.text)"
   ]
  },
  {
   "cell_type": "code",
   "execution_count": 133,
   "metadata": {},
   "outputs": [],
   "source": [
    "for i in range(len(data)):\n",
    "    dates.append(data[i].div.span.text)"
   ]
  },
  {
   "cell_type": "code",
   "execution_count": 134,
   "metadata": {},
   "outputs": [],
   "source": [
    "author=page_soup.findAll(\"div\",{\"class\":\"product-shelf-author contributors\"})\n",
    "for i in range(len(author)):\n",
    "    authors.append(author[i].a.text)"
   ]
  },
  {
   "cell_type": "code",
   "execution_count": 135,
   "metadata": {},
   "outputs": [],
   "source": [
    "price=page_soup.findAll(\"span\",{\"class\":\"current\"})\n",
    "for i in range(len(price)):\n",
    "    prices.append(price[i].a.text)"
   ]
  },
  {
   "cell_type": "code",
   "execution_count": 136,
   "metadata": {},
   "outputs": [
    {
     "data": {
      "text/plain": [
       "240"
      ]
     },
     "execution_count": 136,
     "metadata": {},
     "output_type": "execute_result"
    }
   ],
   "source": [
    "len(prices)"
   ]
  },
  {
   "cell_type": "markdown",
   "metadata": {},
   "source": [
    "# Batch 13"
   ]
  },
  {
   "cell_type": "code",
   "execution_count": 137,
   "metadata": {},
   "outputs": [],
   "source": [
    "url=\"https://www.barnesandnoble.com/b/books/kids/entertainment-performing-arts-kids/_/N-1fZ29Z8q8Zu8v?Nrpp=20&page=3\""
   ]
  },
  {
   "cell_type": "code",
   "execution_count": 138,
   "metadata": {},
   "outputs": [],
   "source": [
    "Uclient=uReq(url)\n",
    "\n",
    "page_html=Uclient.read()\n",
    "Uclient.close()\n",
    "page_soup=soup(page_html,\"html.parser\")"
   ]
  },
  {
   "cell_type": "code",
   "execution_count": 139,
   "metadata": {},
   "outputs": [],
   "source": [
    "data=page_soup.findAll(\"div\",{\"class\":\"col-lg-9 product-info-listView\"})"
   ]
  },
  {
   "cell_type": "code",
   "execution_count": 140,
   "metadata": {},
   "outputs": [],
   "source": [
    "for i in range(len(data)):\n",
    "    name.append(data[i].div.a.text)"
   ]
  },
  {
   "cell_type": "code",
   "execution_count": 141,
   "metadata": {},
   "outputs": [],
   "source": [
    "for i in range(len(data)):\n",
    "    dates.append(data[i].div.span.text)"
   ]
  },
  {
   "cell_type": "code",
   "execution_count": 142,
   "metadata": {},
   "outputs": [],
   "source": [
    "author=page_soup.findAll(\"div\",{\"class\":\"product-shelf-author contributors\"})\n",
    "for i in range(len(author)):\n",
    "    authors.append(author[i].a.text)"
   ]
  },
  {
   "cell_type": "code",
   "execution_count": 143,
   "metadata": {},
   "outputs": [],
   "source": [
    "price=page_soup.findAll(\"span\",{\"class\":\"current\"})\n",
    "for i in range(len(price)):\n",
    "    prices.append(price[i].a.text)"
   ]
  },
  {
   "cell_type": "code",
   "execution_count": 144,
   "metadata": {},
   "outputs": [
    {
     "data": {
      "text/plain": [
       "260"
      ]
     },
     "execution_count": 144,
     "metadata": {},
     "output_type": "execute_result"
    }
   ],
   "source": [
    "len(prices)"
   ]
  },
  {
   "cell_type": "markdown",
   "metadata": {},
   "source": [
    "# Batch 14"
   ]
  },
  {
   "cell_type": "code",
   "execution_count": 145,
   "metadata": {},
   "outputs": [],
   "source": [
    "url=\"https://www.barnesandnoble.com/b/books/kids/entertainment-performing-arts-kids/_/N-1fZ29Z8q8Zu8v?Nrpp=20&page=4\""
   ]
  },
  {
   "cell_type": "code",
   "execution_count": 146,
   "metadata": {},
   "outputs": [],
   "source": [
    "Uclient=uReq(url)\n",
    "\n",
    "page_html=Uclient.read()\n",
    "Uclient.close()\n",
    "page_soup=soup(page_html,\"html.parser\")"
   ]
  },
  {
   "cell_type": "code",
   "execution_count": 147,
   "metadata": {},
   "outputs": [],
   "source": [
    "data=page_soup.findAll(\"div\",{\"class\":\"col-lg-9 product-info-listView\"})"
   ]
  },
  {
   "cell_type": "code",
   "execution_count": 148,
   "metadata": {},
   "outputs": [],
   "source": [
    "for i in range(len(data)):\n",
    "    name.append(data[i].div.a.text)"
   ]
  },
  {
   "cell_type": "code",
   "execution_count": 149,
   "metadata": {},
   "outputs": [],
   "source": [
    "for i in range(len(data)):\n",
    "    dates.append(data[i].div.span.text)"
   ]
  },
  {
   "cell_type": "code",
   "execution_count": 150,
   "metadata": {},
   "outputs": [],
   "source": [
    "author=page_soup.findAll(\"div\",{\"class\":\"product-shelf-author contributors\"})\n",
    "for i in range(len(author)):\n",
    "    authors.append(author[i].a.text)"
   ]
  },
  {
   "cell_type": "code",
   "execution_count": 151,
   "metadata": {},
   "outputs": [],
   "source": [
    "price=page_soup.findAll(\"span\",{\"class\":\"current\"})\n",
    "for i in range(len(price)):\n",
    "    prices.append(price[i].a.text)"
   ]
  },
  {
   "cell_type": "code",
   "execution_count": 152,
   "metadata": {},
   "outputs": [
    {
     "data": {
      "text/plain": [
       "280"
      ]
     },
     "execution_count": 152,
     "metadata": {},
     "output_type": "execute_result"
    }
   ],
   "source": [
    "len(prices)"
   ]
  },
  {
   "cell_type": "markdown",
   "metadata": {},
   "source": [
    "# BATCH 15"
   ]
  },
  {
   "cell_type": "code",
   "execution_count": 153,
   "metadata": {},
   "outputs": [],
   "source": [
    "url=\"https://www.barnesandnoble.com/b/books/kids/entertainment-performing-arts-kids/_/N-1fZ29Z8q8Zu8v?Nrpp=20&page=5\""
   ]
  },
  {
   "cell_type": "code",
   "execution_count": 154,
   "metadata": {},
   "outputs": [],
   "source": [
    "Uclient=uReq(url)\n",
    "\n",
    "page_html=Uclient.read()\n",
    "Uclient.close()\n",
    "page_soup=soup(page_html,\"html.parser\")"
   ]
  },
  {
   "cell_type": "code",
   "execution_count": 155,
   "metadata": {},
   "outputs": [],
   "source": [
    "data=page_soup.findAll(\"div\",{\"class\":\"col-lg-9 product-info-listView\"})"
   ]
  },
  {
   "cell_type": "code",
   "execution_count": 156,
   "metadata": {},
   "outputs": [],
   "source": [
    "for i in range(len(data)):\n",
    "    name.append(data[i].div.a.text)"
   ]
  },
  {
   "cell_type": "code",
   "execution_count": 157,
   "metadata": {},
   "outputs": [],
   "source": [
    "for i in range(len(data)):\n",
    "    dates.append(data[i].div.span.text)"
   ]
  },
  {
   "cell_type": "code",
   "execution_count": 158,
   "metadata": {},
   "outputs": [],
   "source": [
    "author=page_soup.findAll(\"div\",{\"class\":\"product-shelf-author contributors\"})\n",
    "for i in range(len(author)):\n",
    "    authors.append(author[i].a.text)"
   ]
  },
  {
   "cell_type": "code",
   "execution_count": 159,
   "metadata": {},
   "outputs": [],
   "source": [
    "price=page_soup.findAll(\"span\",{\"class\":\"current\"})\n",
    "for i in range(len(price)):\n",
    "    prices.append(price[i].a.text)"
   ]
  },
  {
   "cell_type": "code",
   "execution_count": 160,
   "metadata": {},
   "outputs": [
    {
     "data": {
      "text/plain": [
       "300"
      ]
     },
     "execution_count": 160,
     "metadata": {},
     "output_type": "execute_result"
    }
   ],
   "source": [
    "len(prices)"
   ]
  },
  {
   "cell_type": "code",
   "execution_count": 161,
   "metadata": {},
   "outputs": [
    {
     "data": {
      "text/plain": [
       "300"
      ]
     },
     "execution_count": 161,
     "metadata": {},
     "output_type": "execute_result"
    }
   ],
   "source": [
    "len(name)"
   ]
  },
  {
   "cell_type": "code",
   "execution_count": 162,
   "metadata": {},
   "outputs": [
    {
     "data": {
      "text/plain": [
       "300"
      ]
     },
     "execution_count": 162,
     "metadata": {},
     "output_type": "execute_result"
    }
   ],
   "source": [
    "len(dates)"
   ]
  },
  {
   "cell_type": "code",
   "execution_count": 163,
   "metadata": {},
   "outputs": [
    {
     "data": {
      "text/plain": [
       "300"
      ]
     },
     "execution_count": 163,
     "metadata": {},
     "output_type": "execute_result"
    }
   ],
   "source": [
    "len(authors)"
   ]
  },
  {
   "cell_type": "code",
   "execution_count": 164,
   "metadata": {},
   "outputs": [],
   "source": [
    "import pandas as pd\n",
    "df = pd.DataFrame({'Names': name, 'Prices': prices,'Authors':authors,'Date Released':dates})"
   ]
  },
  {
   "cell_type": "code",
   "execution_count": 165,
   "metadata": {},
   "outputs": [],
   "source": [
    "df.to_excel(\"C:/Users/Student/Desktop/Database_project.xlsx\",index=False)"
   ]
  },
  {
   "cell_type": "markdown",
   "metadata": {},
   "source": [
    "# Batch 16"
   ]
  },
  {
   "cell_type": "code",
   "execution_count": 166,
   "metadata": {},
   "outputs": [],
   "source": [
    "url='https://www.barnesandnoble.com/b/books/fairy-tales-myths-fables-kids/general-miscellaneous-fairy-tales-folklore-kids/_/N-1fZ29Z8q8Zu9h;jsessionid=CD3571B9723BE6D1C732DF8A233FD529.prodny_store02-atgap16'"
   ]
  },
  {
   "cell_type": "code",
   "execution_count": 167,
   "metadata": {},
   "outputs": [],
   "source": [
    "Uclient=uReq(url)\n",
    "\n",
    "page_html=Uclient.read()\n",
    "Uclient.close()\n",
    "page_soup=soup(page_html,\"html.parser\")"
   ]
  },
  {
   "cell_type": "code",
   "execution_count": 168,
   "metadata": {},
   "outputs": [],
   "source": [
    "data=page_soup.findAll(\"div\",{\"class\":\"col-lg-9 product-info-listView\"})"
   ]
  },
  {
   "cell_type": "code",
   "execution_count": 169,
   "metadata": {},
   "outputs": [],
   "source": [
    "for i in range(len(data)):\n",
    "    name.append(data[i].div.a.text)"
   ]
  },
  {
   "cell_type": "code",
   "execution_count": 170,
   "metadata": {},
   "outputs": [],
   "source": [
    "for i in range(len(data)):\n",
    "    dates.append(data[i].div.span.text)"
   ]
  },
  {
   "cell_type": "code",
   "execution_count": 171,
   "metadata": {},
   "outputs": [],
   "source": [
    "author=page_soup.findAll(\"div\",{\"class\":\"product-shelf-author contributors\"})\n",
    "for i in range(len(author)):\n",
    "    authors.append(author[i].a.text)"
   ]
  },
  {
   "cell_type": "code",
   "execution_count": 172,
   "metadata": {},
   "outputs": [],
   "source": [
    "price=page_soup.findAll(\"span\",{\"class\":\"current\"})\n",
    "for i in range(len(price)):\n",
    "    prices.append(price[i].a.text)"
   ]
  },
  {
   "cell_type": "code",
   "execution_count": 173,
   "metadata": {},
   "outputs": [
    {
     "data": {
      "text/plain": [
       "320"
      ]
     },
     "execution_count": 173,
     "metadata": {},
     "output_type": "execute_result"
    }
   ],
   "source": [
    "len(prices)"
   ]
  },
  {
   "cell_type": "markdown",
   "metadata": {},
   "source": [
    "# Batch 17"
   ]
  },
  {
   "cell_type": "code",
   "execution_count": 174,
   "metadata": {},
   "outputs": [],
   "source": [
    "url='https://www.barnesandnoble.com/b/books/fairy-tales-myths-fables-kids/general-miscellaneous-fairy-tales-folklore-kids/_/N-1fZ29Z8q8Zu9h?Nrpp=20&page=2'\n"
   ]
  },
  {
   "cell_type": "code",
   "execution_count": 175,
   "metadata": {},
   "outputs": [],
   "source": [
    "Uclient=uReq(url)\n",
    "\n",
    "page_html=Uclient.read()\n",
    "Uclient.close()\n",
    "page_soup=soup(page_html,\"html.parser\")"
   ]
  },
  {
   "cell_type": "code",
   "execution_count": 176,
   "metadata": {},
   "outputs": [],
   "source": [
    "data=page_soup.findAll(\"div\",{\"class\":\"col-lg-9 product-info-listView\"})"
   ]
  },
  {
   "cell_type": "code",
   "execution_count": 177,
   "metadata": {},
   "outputs": [],
   "source": [
    "for i in range(len(data)):\n",
    "    name.append(data[i].div.a.text)"
   ]
  },
  {
   "cell_type": "code",
   "execution_count": 178,
   "metadata": {},
   "outputs": [],
   "source": [
    "for i in range(len(data)):\n",
    "    dates.append(data[i].div.span.text)"
   ]
  },
  {
   "cell_type": "code",
   "execution_count": 179,
   "metadata": {},
   "outputs": [],
   "source": [
    "author=page_soup.findAll(\"div\",{\"class\":\"product-shelf-author contributors\"})\n",
    "for i in range(len(author)):\n",
    "    authors.append(author[i].a.text)"
   ]
  },
  {
   "cell_type": "code",
   "execution_count": 180,
   "metadata": {},
   "outputs": [],
   "source": [
    "price=page_soup.findAll(\"span\",{\"class\":\"current\"})\n",
    "for i in range(len(price)):\n",
    "    prices.append(price[i].a.text)"
   ]
  },
  {
   "cell_type": "code",
   "execution_count": 181,
   "metadata": {},
   "outputs": [
    {
     "data": {
      "text/plain": [
       "340"
      ]
     },
     "execution_count": 181,
     "metadata": {},
     "output_type": "execute_result"
    }
   ],
   "source": [
    "len(prices)"
   ]
  },
  {
   "cell_type": "markdown",
   "metadata": {},
   "source": [
    "# Batch 18"
   ]
  },
  {
   "cell_type": "code",
   "execution_count": 182,
   "metadata": {},
   "outputs": [],
   "source": [
    "url='https://www.barnesandnoble.com/b/books/fairy-tales-myths-fables-kids/general-miscellaneous-fairy-tales-folklore-kids/_/N-1fZ29Z8q8Zu9h?Nrpp=20&page=3'"
   ]
  },
  {
   "cell_type": "code",
   "execution_count": 183,
   "metadata": {},
   "outputs": [],
   "source": [
    "Uclient=uReq(url)\n",
    "\n",
    "page_html=Uclient.read()\n",
    "Uclient.close()\n",
    "page_soup=soup(page_html,\"html.parser\")"
   ]
  },
  {
   "cell_type": "code",
   "execution_count": 184,
   "metadata": {},
   "outputs": [],
   "source": [
    "data=page_soup.findAll(\"div\",{\"class\":\"col-lg-9 product-info-listView\"})"
   ]
  },
  {
   "cell_type": "code",
   "execution_count": 185,
   "metadata": {},
   "outputs": [],
   "source": [
    "for i in range(len(data)):\n",
    "    name.append(data[i].div.a.text)"
   ]
  },
  {
   "cell_type": "code",
   "execution_count": 186,
   "metadata": {},
   "outputs": [],
   "source": [
    "for i in range(len(data)):\n",
    "    dates.append(data[i].div.span.text)"
   ]
  },
  {
   "cell_type": "code",
   "execution_count": 187,
   "metadata": {},
   "outputs": [],
   "source": [
    "author=page_soup.findAll(\"div\",{\"class\":\"product-shelf-author contributors\"})\n",
    "for i in range(len(author)):\n",
    "    authors.append(author[i].a.text)"
   ]
  },
  {
   "cell_type": "code",
   "execution_count": 188,
   "metadata": {},
   "outputs": [],
   "source": [
    "price=page_soup.findAll(\"span\",{\"class\":\"current\"})\n",
    "for i in range(len(price)):\n",
    "    prices.append(price[i].a.text)"
   ]
  },
  {
   "cell_type": "code",
   "execution_count": null,
   "metadata": {},
   "outputs": [],
   "source": [
    "import pandas as pd\n",
    "df = pd.DataFrame({'Names': name, 'Prices': price,'Authors':authors,'Date Released':dates})"
   ]
  },
  {
   "cell_type": "markdown",
   "metadata": {},
   "source": [
    "# Batch 19"
   ]
  },
  {
   "cell_type": "code",
   "execution_count": null,
   "metadata": {},
   "outputs": [],
   "source": [
    "url='https://www.barnesandnoble.com/b/books/fairy-tales-myths-fables-kids/general-miscellaneous-fairy-tales-folklore-kids/_/N-1fZ29Z8q8Zu9h?Nrpp=20&page=4'"
   ]
  },
  {
   "cell_type": "code",
   "execution_count": 190,
   "metadata": {},
   "outputs": [],
   "source": [
    "Uclient=uReq(url)\n",
    "\n",
    "page_html=Uclient.read()\n",
    "Uclient.close()\n",
    "page_soup=soup(page_html,\"html.parser\")"
   ]
  },
  {
   "cell_type": "code",
   "execution_count": 191,
   "metadata": {},
   "outputs": [],
   "source": [
    "data=page_soup.findAll(\"div\",{\"class\":\"col-lg-9 product-info-listView\"})"
   ]
  },
  {
   "cell_type": "code",
   "execution_count": 192,
   "metadata": {},
   "outputs": [],
   "source": [
    "for i in range(len(data)):\n",
    "    name.append(data[i].div.a.text)"
   ]
  },
  {
   "cell_type": "code",
   "execution_count": 193,
   "metadata": {},
   "outputs": [],
   "source": [
    "for i in range(len(data)):\n",
    "    dates.append(data[i].div.span.text)"
   ]
  },
  {
   "cell_type": "code",
   "execution_count": 194,
   "metadata": {},
   "outputs": [],
   "source": [
    "author=page_soup.findAll(\"div\",{\"class\":\"product-shelf-author contributors\"})\n",
    "for i in range(len(author)):\n",
    "    authors.append(author[i].a.text)"
   ]
  },
  {
   "cell_type": "code",
   "execution_count": 195,
   "metadata": {},
   "outputs": [],
   "source": [
    "price=page_soup.findAll(\"span\",{\"class\":\"current\"})\n",
    "for i in range(len(price)):\n",
    "    prices.append(price[i].a.text)"
   ]
  },
  {
   "cell_type": "markdown",
   "metadata": {},
   "source": [
    "# BATCH 20"
   ]
  },
  {
   "cell_type": "code",
   "execution_count": 196,
   "metadata": {},
   "outputs": [],
   "source": [
    "url='https://www.barnesandnoble.com/b/books/fairy-tales-myths-fables-kids/general-miscellaneous-fairy-tales-folklore-kids/_/N-1fZ29Z8q8Zu9h?Nrpp=20&page=5'"
   ]
  },
  {
   "cell_type": "code",
   "execution_count": 197,
   "metadata": {},
   "outputs": [],
   "source": [
    "Uclient=uReq(url)\n",
    "\n",
    "page_html=Uclient.read()\n",
    "Uclient.close()\n",
    "page_soup=soup(page_html,\"html.parser\")"
   ]
  },
  {
   "cell_type": "code",
   "execution_count": 198,
   "metadata": {},
   "outputs": [],
   "source": [
    "data=page_soup.findAll(\"div\",{\"class\":\"col-lg-9 product-info-listView\"})"
   ]
  },
  {
   "cell_type": "code",
   "execution_count": 199,
   "metadata": {},
   "outputs": [],
   "source": [
    "for i in range(len(data)):\n",
    "    name.append(data[i].div.a.text)"
   ]
  },
  {
   "cell_type": "code",
   "execution_count": 200,
   "metadata": {},
   "outputs": [],
   "source": [
    "for i in range(len(data)):\n",
    "    dates.append(data[i].div.span.text)"
   ]
  },
  {
   "cell_type": "code",
   "execution_count": 201,
   "metadata": {},
   "outputs": [],
   "source": [
    "author=page_soup.findAll(\"div\",{\"class\":\"product-shelf-author contributors\"})\n",
    "for i in range(len(author)):\n",
    "    authors.append(author[i].a.text)"
   ]
  },
  {
   "cell_type": "code",
   "execution_count": 202,
   "metadata": {},
   "outputs": [],
   "source": [
    "price=page_soup.findAll(\"span\",{\"class\":\"current\"})\n",
    "for i in range(len(price)):\n",
    "    prices.append(price[i].a.text)"
   ]
  },
  {
   "cell_type": "code",
   "execution_count": 203,
   "metadata": {},
   "outputs": [
    {
     "data": {
      "text/plain": [
       "400"
      ]
     },
     "execution_count": 203,
     "metadata": {},
     "output_type": "execute_result"
    }
   ],
   "source": [
    "len(prices)"
   ]
  },
  {
   "cell_type": "markdown",
   "metadata": {},
   "source": [
    "# Batch 21 "
   ]
  },
  {
   "cell_type": "code",
   "execution_count": 204,
   "metadata": {},
   "outputs": [],
   "source": [
    "url='https://www.barnesandnoble.com/b/books/kids/social-issues-kids/_/N-29Z8q8Zu79?Nrpp=40&Ns=P_Publication_Date%7C1&page=1'"
   ]
  },
  {
   "cell_type": "code",
   "execution_count": 205,
   "metadata": {},
   "outputs": [],
   "source": [
    "Uclient=uReq(url)\n",
    "\n",
    "page_html=Uclient.read()\n",
    "Uclient.close()\n",
    "page_soup=soup(page_html,\"html.parser\")"
   ]
  },
  {
   "cell_type": "code",
   "execution_count": 206,
   "metadata": {},
   "outputs": [],
   "source": [
    "data=page_soup.findAll(\"div\",{\"class\":\"col-lg-9 product-info-listView\"})"
   ]
  },
  {
   "cell_type": "code",
   "execution_count": 207,
   "metadata": {},
   "outputs": [],
   "source": [
    "for i in range(len(data)):\n",
    "    name.append(data[i].div.a.text)"
   ]
  },
  {
   "cell_type": "code",
   "execution_count": 208,
   "metadata": {},
   "outputs": [],
   "source": [
    "for i in range(len(data)):\n",
    "    dates.append(data[i].div.span.text)"
   ]
  },
  {
   "cell_type": "code",
   "execution_count": 209,
   "metadata": {},
   "outputs": [],
   "source": [
    "author=page_soup.findAll(\"div\",{\"class\":\"product-shelf-author contributors\"})\n",
    "for i in range(len(author)):\n",
    "    authors.append(author[i].a.text)"
   ]
  },
  {
   "cell_type": "code",
   "execution_count": 210,
   "metadata": {},
   "outputs": [],
   "source": [
    "price=page_soup.findAll(\"span\",{\"class\":\"current\"})\n",
    "for i in range(len(price)):\n",
    "    prices.append(price[i].a.text)"
   ]
  },
  {
   "cell_type": "code",
   "execution_count": 211,
   "metadata": {},
   "outputs": [
    {
     "data": {
      "text/plain": [
       "400"
      ]
     },
     "execution_count": 211,
     "metadata": {},
     "output_type": "execute_result"
    }
   ],
   "source": [
    "len(prices)"
   ]
  },
  {
   "cell_type": "markdown",
   "metadata": {},
   "source": [
    "# Batch 22"
   ]
  },
  {
   "cell_type": "code",
   "execution_count": 212,
   "metadata": {},
   "outputs": [],
   "source": [
    "url='https://www.barnesandnoble.com/b/books/kids/social-issues-kids/_/N-29Z8q8Zu79?Nrpp=40&Ns=P_Publication_Date%7C1&page=2'"
   ]
  },
  {
   "cell_type": "code",
   "execution_count": 213,
   "metadata": {},
   "outputs": [],
   "source": [
    "Uclient=uReq(url)\n",
    "\n",
    "page_html=Uclient.read()\n",
    "Uclient.close()\n",
    "page_soup=soup(page_html,\"html.parser\")"
   ]
  },
  {
   "cell_type": "code",
   "execution_count": 214,
   "metadata": {},
   "outputs": [],
   "source": [
    "data=page_soup.findAll(\"div\",{\"class\":\"col-lg-9 product-info-listView\"})"
   ]
  },
  {
   "cell_type": "code",
   "execution_count": 215,
   "metadata": {},
   "outputs": [],
   "source": [
    "for i in range(len(data)):\n",
    "    name.append(data[i].div.a.text)"
   ]
  },
  {
   "cell_type": "code",
   "execution_count": 216,
   "metadata": {},
   "outputs": [],
   "source": [
    "for i in range(len(data)):\n",
    "    dates.append(data[i].div.span.text)"
   ]
  },
  {
   "cell_type": "code",
   "execution_count": 217,
   "metadata": {},
   "outputs": [],
   "source": [
    "author=page_soup.findAll(\"div\",{\"class\":\"product-shelf-author contributors\"})\n",
    "for i in range(len(author)):\n",
    "    authors.append(author[i].a.text)"
   ]
  },
  {
   "cell_type": "code",
   "execution_count": 218,
   "metadata": {},
   "outputs": [],
   "source": [
    "price=page_soup.findAll(\"span\",{\"class\":\"current\"})\n",
    "for i in range(len(price)):\n",
    "    prices.append(price[i].a.text)"
   ]
  },
  {
   "cell_type": "code",
   "execution_count": 219,
   "metadata": {},
   "outputs": [
    {
     "data": {
      "text/plain": [
       "400"
      ]
     },
     "execution_count": 219,
     "metadata": {},
     "output_type": "execute_result"
    }
   ],
   "source": [
    "len(prices)"
   ]
  },
  {
   "cell_type": "markdown",
   "metadata": {},
   "source": [
    "# BATCH 23"
   ]
  },
  {
   "cell_type": "code",
   "execution_count": 220,
   "metadata": {},
   "outputs": [],
   "source": [
    "url='https://www.barnesandnoble.com/b/books/kids/social-issues-kids/_/N-29Z8q8Zu79?Nrpp=40&Ns=P_Publication_Date%7C1&page=3'"
   ]
  },
  {
   "cell_type": "code",
   "execution_count": 221,
   "metadata": {},
   "outputs": [],
   "source": [
    "Uclient=uReq(url)\n",
    "\n",
    "page_html=Uclient.read()\n",
    "Uclient.close()\n",
    "page_soup=soup(page_html,\"html.parser\")"
   ]
  },
  {
   "cell_type": "code",
   "execution_count": 222,
   "metadata": {},
   "outputs": [],
   "source": [
    "data=page_soup.findAll(\"div\",{\"class\":\"col-lg-9 product-info-listView\"})"
   ]
  },
  {
   "cell_type": "code",
   "execution_count": 223,
   "metadata": {},
   "outputs": [],
   "source": [
    "for i in range(len(data)):\n",
    "    name.append(data[i].div.a.text)"
   ]
  },
  {
   "cell_type": "code",
   "execution_count": 224,
   "metadata": {},
   "outputs": [],
   "source": [
    "for i in range(len(data)):\n",
    "    dates.append(data[i].div.span.text)"
   ]
  },
  {
   "cell_type": "code",
   "execution_count": 225,
   "metadata": {},
   "outputs": [],
   "source": [
    "author=page_soup.findAll(\"div\",{\"class\":\"product-shelf-author contributors\"})\n",
    "for i in range(len(author)):\n",
    "    authors.append(author[i].a.text)"
   ]
  },
  {
   "cell_type": "code",
   "execution_count": 226,
   "metadata": {},
   "outputs": [],
   "source": [
    "price=page_soup.findAll(\"span\",{\"class\":\"current\"})\n",
    "for i in range(len(price)):\n",
    "    prices.append(price[i].a.text)"
   ]
  },
  {
   "cell_type": "code",
   "execution_count": 227,
   "metadata": {},
   "outputs": [
    {
     "data": {
      "text/plain": [
       "400"
      ]
     },
     "execution_count": 227,
     "metadata": {},
     "output_type": "execute_result"
    }
   ],
   "source": [
    "len(prices)"
   ]
  },
  {
   "cell_type": "markdown",
   "metadata": {},
   "source": [
    "# Batch 24"
   ]
  },
  {
   "cell_type": "code",
   "execution_count": 228,
   "metadata": {},
   "outputs": [],
   "source": [
    "url='https://www.barnesandnoble.com/b/books/kids/social-issues-kids/_/N-29Z8q8Zu79?Nrpp=40&Ns=P_Publication_Date%7C1&page=4'"
   ]
  },
  {
   "cell_type": "code",
   "execution_count": 229,
   "metadata": {},
   "outputs": [],
   "source": [
    "Uclient=uReq(url)\n",
    "\n",
    "page_html=Uclient.read()\n",
    "Uclient.close()\n",
    "page_soup=soup(page_html,\"html.parser\")"
   ]
  },
  {
   "cell_type": "code",
   "execution_count": 230,
   "metadata": {},
   "outputs": [],
   "source": [
    "data=page_soup.findAll(\"div\",{\"class\":\"col-lg-9 product-info-listView\"})"
   ]
  },
  {
   "cell_type": "code",
   "execution_count": 231,
   "metadata": {},
   "outputs": [],
   "source": [
    "for i in range(len(data)):\n",
    "    name.append(data[i].div.a.text)"
   ]
  },
  {
   "cell_type": "code",
   "execution_count": 232,
   "metadata": {},
   "outputs": [],
   "source": [
    "for i in range(len(data)):\n",
    "    dates.append(data[i].div.span.text)"
   ]
  },
  {
   "cell_type": "code",
   "execution_count": 233,
   "metadata": {},
   "outputs": [],
   "source": [
    "author=page_soup.findAll(\"div\",{\"class\":\"product-shelf-author contributors\"})\n",
    "for i in range(len(author)):\n",
    "    authors.append(author[i].a.text)"
   ]
  },
  {
   "cell_type": "code",
   "execution_count": 234,
   "metadata": {},
   "outputs": [],
   "source": [
    "price=page_soup.findAll(\"span\",{\"class\":\"current\"})\n",
    "for i in range(len(price)):\n",
    "    prices.append(price[i].a.text)"
   ]
  },
  {
   "cell_type": "code",
   "execution_count": 235,
   "metadata": {},
   "outputs": [
    {
     "name": "stdout",
     "output_type": "stream",
     "text": [
      "How to Catch a Yeti\n",
      "The Tower of Nero (B&N Exclusive Edition) (The Trials of Apollo Series #5)\n",
      "The Lightning Thief (Percy Jackson and the Olympians Series #1)\n",
      "The Ickabog\n",
      "The Mitten\n",
      "The Stinky Cheese Man and Other Fairly Stupid Tales\n",
      "The Story of King Arthur and His Knights (Barnes & Noble Collectible Editions)\n",
      "The Tyrant's Tomb (B&N Exclusive Edition) (The Trials of Apollo Series #4)\n",
      "Orphan Island\n",
      "The Little Mermaid and Other Fairy Tales (Barnes & Noble Collectible Editions)\n",
      "The Dark Prophecy (The Trials of Apollo Series #2)\n",
      "The Little Prince\n",
      "Strega Nona\n",
      "The Burning Maze (The Trials of Apollo Series #3)\n",
      "The Tale of Three Trees\n",
      "The Hidden Oracle (The Trials of Apollo Series #1)\n",
      "Grimm's Complete Fairy Tales (Barnes & Noble Collectible Editions)\n",
      "The House of Hades (The Heroes of Olympus Series #4)\n",
      "The Sea of Monsters (Percy Jackson and the Olympians Series #2)\n",
      "The Blood of Olympus (The Heroes of Olympus Series #5)\n",
      "The Heroes of Olympus Paperback 3-Book Boxed Set\n",
      "The Titan's Curse (Percy Jackson and the Olympians Series #3)\n",
      "The True Story of the Three Little Pigs\n",
      "The Son of Neptune (The Heroes of Olympus Series #2)\n",
      "Grimm's Fairy Tales (Barnes & Noble Collectible Editions)\n",
      "The Lost Hero (The Heroes of Olympus Series #1)\n",
      "The Mark of Athena (The Heroes of Olympus Series #3)\n",
      "The Last Olympian (Percy Jackson and the Olympians Series #5)\n",
      "The Battle of the Labyrinth (Percy Jackson and the Olympians Series #4)\n",
      "Once Upon a Unicorn\n",
      "Hans Christian Andersen: Classic Fairy Tales (Barnes & Noble Collectible Editions)\n",
      "One True King (B&N Exclusive Edition) (The School for Good and Evil Series #6)\n",
      "The Red Pyramid (Kane Chronicles Series #1)\n",
      "Magnus Chase and the Gods of Asgard Paperback Boxed Set\n",
      "The Serpent's Shadow (Kane Chronicles Series #3)\n",
      "The Ship of the Dead (Magnus Chase and the Gods of Asgard Series #3)\n",
      "The Sword of Summer (Magnus Chase and the Gods of Asgard Series #1)\n",
      "Greek Myths: A Wonder Book for Girls & Boys (Barnes & Noble Collectible Editions)\n",
      "The Throne of Fire (Kane Chronicles Series #2)\n",
      "Trials of Apollo, The 3-Book Paperback Boxed Set\n",
      "The Tail of Emily Windsnap (Tail of Emily Windsnap #1)\n",
      "The Blue Fairy Book (Barnes & Noble Collectible Editions)\n",
      "The Heroes of Olympus Paperback Boxed Set (10th Anniversary Edition)\n",
      "The Trials of Apollo Camp Jupiter Classified (An Official Rick Riordan Companion Book): A Probatio's Journal\n",
      "Percy Jackson's Greek Gods\n",
      "Artemis Fowl; The Atlantis Complex\n",
      "A Crystal of Time (The School for Good and Evil Series #5)\n",
      "The Land of Stories Complete Paperback Gift Set\n",
      "Kane Chronicles, The Paperback Box Set (The Kane Chronicles Box Set with Graphic Novel Sampler)\n",
      "Tristan Strong Punches a Hole in the Sky (Tristan Strong Series #1)\n",
      "The Little Red Hen\n",
      "D'Aulaires' Book of Greek Myths\n",
      "9 from the Nine Worlds (Magnus Chase and the Gods of Asgard Series)\n",
      "From Percy Jackson: Camp Half-Blood Confidential: Your Real Guide to the Demigod Training Camp (Trials of Apollo Series)\n",
      "Ella Enchanted\n",
      "Stone Soup\n",
      "The Hammer of Thor (Magnus Chase and the Gods of Asgard Series #2)\n",
      "The Three Bears\n",
      "There Was an Old Lady Who Swallowed a Turkey!\n",
      "The Magician's Elephant\n",
      "5-Minute Frozen\n",
      "In a Dark, Dark Room and Other Scary Stories: Reillustrated Edition\n",
      "Walt Disney's Three Little Pigs\n",
      "Natalie Portman's Fables\n",
      "Grimm's Complete Fairy Tales\n",
      "Tristan Strong Destroys the World (Tristan Strong Series #2)\n",
      "A Tale Dark and Grimm (Grimm Series #1)\n",
      "The Demigod Files (Percy Jackson and the Olympians Series)\n",
      "The Demigod Diaries (The Heroes of Olympus Series)\n",
      "The Last Ever After (The School for Good and Evil Series #3)\n",
      "Mistress of All Evil: A Tale of the Dark Fairy (Villains Series #4)\n",
      "Heroes, Gods and Monsters of the Greek Myths\n",
      "The Last Olympian: The Graphic Novel (Percy Jackson and the Olympians Series)\n",
      "Scary Stories to Tell in the Dark\n",
      "Mother Knows Best: A Tale of the Old Witch (Villains Series #5)\n",
      "Tikki Tikki Tembo\n",
      "Poor Unfortunate Soul: A Tale of the Sea Witch (Villains Series #3)\n",
      "The Odd Sisters: A Tale of the Three Witches (Villains Series #6)\n",
      "Demigods & Magicians: Percy and Annabeth Meet the Kanes\n",
      "Richard Scarry's Best Storybook Ever\n",
      "The Sea of Monsters: The Graphic Novel (Percy Jackson and the Olympians Series)\n",
      "The Beast Within: A Tale of Beauty's Prince (Villains Series #2)\n",
      "Kingdom of Color (Disney Tangled Step into Reading Book Series)\n",
      "Yertle the Turtle and Other Stories\n",
      "Christmas in Camelot (Magic Tree House Merlin Mission Series #1)\n",
      "Snow White and the Seven Dwarfs (Disney Classic)\n",
      "Haunted Castle on Hallow's Eve (Magic Tree House Merlin Mission Series #2)\n",
      "Disney Princess 5-Minute Princess Stories\n",
      "The Girl Who Loved Wild Horses\n",
      "The Titan's Curse: The Graphic Novel (Percy Jackson and the Olympians Series)\n",
      "Fairest of All: A Tale of the Wicked Queen (Villains Series #1)\n",
      "American Tall Tales\n",
      "The Legend of Rock Paper Scissors\n",
      "Treasury of Greek Mythology: Classic Stories of Gods, Goddesses, Heroes & Monsters\n",
      "Emily Windsnap and the Ship of Lost Souls (Emily Windsnap Series #6)\n",
      "Night of the Ninth Dragon (Magic Tree House Merlin Mission Series #27 )\n",
      "Le Petit Prince (French)\n",
      "King Arthur and His Knights of the Round Table\n",
      "The Three Billy Goats Gruff\n",
      "The Empty Pot\n",
      "Hello, World! Backyard Bugs\n",
      "National Geographic Little Kids First Big Book of Bugs\n",
      "PBS Kids Book & Kit: Look & Learn Insects\n",
      "Who Would Win?: Ultimate Showdown\n",
      "From Caterpillar to Butterfly\n",
      "Beautiful Bugs (Paint by Sticker Kids Series)\n",
      "The Magic School Bus Inside a Beehive (Magic School Bus Series)\n",
      "Ultimate Bugopedia: The Most Complete Bug Reference Ever\n",
      "Animal Architects (National Geographic Readers Series: Level 3)\n",
      "Ultimate Bug Rumble (Who Would Win?)\n",
      "The Big Book of Bugs\n",
      "Caterpillar to Butterfly (National Geographic Readers Series)\n",
      "Green Ants vs. Army Ants (Who Would Win?)\n",
      "Ants (National Geographic Readers Series: Level 1)\n",
      "My, Oh My--A Butterfly!: All About Butterflies (Cat in the Hat's Learning Library Series)\n",
      "Wild Insects and Spiders! (Wild Kratts)\n",
      "On Beyond Bugs: All About Insects\n",
      "Great Migrations: Butterflies (National Geographic Readers Series)\n",
      "Mrs. Peanuckle's Bug Alphabet (Mrs. Peanuckle's Alphabet Series #4)\n",
      "The Girl Who Drew Butterflies: How Maria Merian's Art Changed Science\n",
      "Kaleidoscope Etch Art Creations: Butterflies and More\n",
      "Bugs Are Insects\n",
      "Bug Hunt\n",
      "Hello, World! Boxed Set\n",
      "Bugs Hide and Seek (DK Readers Level 1 Series)\n",
      "DK Readers L2: Amazing Bees: Buzzing with Bee Facts!\n",
      "Hornet vs. Wasp (Who Would Win?)\n",
      "Fly Guy Presents: Insects (Scholastic Reader Series: Level 2)\n",
      "National Geographic Readers: Bees\n",
      "The Bug Girl: A True Story\n",
      "The Honey Makers\n",
      "Where's the Ladybug?\n",
      "The Magic School Bus Plants Seeds: A Book About How Living Things Grow (Magic School Bus Series)\n",
      "Butterflies (Ultimate Sticker Books Series)\n",
      "Buzz, Bee! (National Geographic Readers Series)\n",
      "National Geographic Kids Readers: Bugs (Pre-reader)\n",
      "The Fly (Disgusting Critters Series)\n",
      "Bugs: A Stunning Pop-up Look at Insects, Spiders, and Other Creepy-Crawlies\n",
      "Monarch Butterfly\n",
      "The Beetle Alphabet Book\n",
      "Super Bug Encyclopedia: The Biggest, Fastest, Deadliest Creepy-Crawlers on the Planet\n",
      "The Bee Tree\n",
      "Butterfly Colors and Counting\n",
      "Bugs Bugs Bugs! (DK Readers Level 2 Series)\n",
      "A Butterfly Is Patient: (Nature Books for Kids, Children's Books Ages 3-5, Award Winning Children's Books)\n",
      "Colors with Ladybug\n",
      "Brilliant Bugs\n",
      "The Journey of a Butterfly\n",
      "An American Plague: The True and Terrifying Story of the Yellow Fever Epidemic of 1793\n",
      "My Weird School Fast Facts: Dogs, Cats, and Dung Beetles\n",
      "Ultimate Explorer Field Guide: Insects: Find Adventure! Go Outside! Have Fun! Be a Backyard Insect Inspector!\n",
      "Ultimate Sticker Book: Bugs: More Than 250 Reusable Stickers\n",
      "Born to Be a Butterfly (DK Readers Level 1 Series)\n",
      "Insect (DK Eyewitness Books Series)\n",
      "Bee Dance\n",
      "Caterpillar to Butterfly\n",
      "Ant Cities\n",
      "How to Raise Monarch Butterflies: A Step-by-Step Guide for Kids\n",
      "Nic Bishop Butterflies And Moths\n",
      "De la Oruga a la Mariposa (Caterpillar to Butterfly) (National Geographic Readers Series)\n",
      "Are You a Bee?\n",
      "Bugs A to Z\n",
      "Are You a Ladybug?\n",
      "Ladybugs\n",
      "National Geographic Kids Creepy Crawly Sticker Activity Book: Over 1,000 Stickers!\n",
      "In a Garden\n",
      "Honeybee: The Busy Life of Apis Mellifera\n",
      "Caterpillars, Bugs and Butterflies\n",
      "First the Egg\n",
      "Give Bees a Chance\n",
      "Waiting for Wings\n",
      "My Awesome Summer by P. Mantis\n",
      "It's a Good Thing There Are Ladybugs\n",
      "Monster Bugs (Step into Reading Book Series: A Step 3 Book)\n",
      "The Icky Bug Alphabet Board Book\n",
      "Flutter, Butterfly! (National Geographic Readers Series)\n",
      "The Life and Times of the Ant\n",
      "The Hive Detectives: Chronicle of a Honey Bee Catastrophe\n",
      "Discovering Bugs\n",
      "Pocket Genius: Bugs: Facts at Your Fingertips\n",
      "From Caterpillar to Butterfly\n",
      "Flowers Are Calling\n",
      "Insects: Revised and Updated\n",
      "The Life and Times of the Honeybee\n",
      "Butterflies\n",
      "Not a Butterfly Alphabet Book: It's About Time Moths Had Their Own Book!\n",
      "Ranger Rick: I Wish I Was a Monarch Butterfly\n",
      "Fireflies in the Night\n",
      "Creep! Crawl! (Indestructibles Series)\n",
      "National Geographic Kids Look and Learn: Bugs\n",
      "Bug Dipping, Bug Sipping\n",
      "The Bee Book\n",
      "Hello, Garden Bugs: A High-Contrast Book\n",
      "A Bee's Life (TIME FOR KIDS Nonfiction Readers)\n",
      "Everything Insects: All the Facts, Photos, and Fun to Make You Buzz (National Geographic Kids Everything Series)\n",
      "Are You a Grasshopper?\n",
      "You're Invited to a Moth Ball: A Nighttime Insect Celebration\n",
      "Butterflies Coloring Book\n",
      "Insectigations: 40 Hands-on Activities to Explore the Insect World\n",
      "I'm a Caterpillar (Hello Reader! Science Series)\n",
      "Shake My Sillies Out\n",
      "Harry Potter and the Cursed Child, Parts One and Two: The Official Playscript of the Original West End Production\n",
      "It's Trevor Noah: Born a Crime: Stories from a South African Childhood (Adapted for Young Readers)\n",
      "Harry Potter and the Cursed Child - Parts I & II\n",
      "Polar Bear, Polar Bear What Do You Hear? sound book\n",
      "Who Was Walt Disney?\n",
      "The Canterbury Tales\n",
      "Baby Beluga\n",
      "Who Was Mister Rogers?\n",
      "How to Eat Fried Worms (Scholastic Gold)\n",
      "Anne of Green Gables\n",
      "Fantastic Beasts: The Crimes of Grindelwald - The Original Screenplay\n",
      "Row, Row, Row Your Boat\n",
      "Who Is George Lucas?\n",
      "Twinkle, Twinkle Time for Bed\n",
      "Magic Tricks with Coins, Cards & Everyday Objects\n",
      "Book One: Moon (The Dragon Prince #1)\n",
      "Fantastic Beasts and Where to Find Them: The Original Screenplay\n",
      "We're Going on a Bear Hunt Sound Book\n",
      "Five Little Pumpkins\n",
      "What Is the Story of Looney Tunes?\n",
      "I am Walt Disney\n",
      "Goodnight Songs: Illustrated by Twelve Award-Winning Picture Book Artists\n",
      "There Was an Old Lady Who Swallowed a Frog!\n",
      "A Beautiful Day in the Neighborhood: The Poetry of Mister Rogers\n",
      "LEGO Star Wars Character Encyclopedia: Updated and Expanded\n",
      "The Wheels on the Bus\n",
      "Star Wars Encyclopedia of Starfighters and Other Vehicles\n",
      "What Is the Story of Scooby-Doo?\n",
      "Hey, Little Ant\n",
      "Trombone Shorty\n",
      "There Was an Old Lady Who Swallowed a Bell!\n",
      "Duck and Goose, Let's Dance! (with an original song)\n",
      "Head, Shoulders, Knees and Toes\n",
      "There Was an Old Lady Who Gobbled a Skink\n",
      "Potty Time with Elmo: 7 Button Little Sound Book (Play-a-Song Series)\n",
      "Who Was Wolfgang Amadeus Mozart?\n",
      "Ten, Nine, Eight Board Book\n",
      "The Wimpy Kid Movie Diary: The Next Chapter\n",
      "Life in Motion: An Unlikely Ballerina Young Readers Edition\n",
      "Who Was P. T. Barnum?\n",
      "The Wimpy Kid Movie Diary: How Greg Heffley Went Hollywood\n",
      "Who Is Dolly Parton?\n",
      "The Day God Made You\n",
      "Down by the Bay\n",
      "From an Idea to Disney: How Imagination Built a World of Magic\n",
      "This Land Is Your Land\n",
      "Who Was Harry Houdini?\n",
      "Wizards & Spells (Dungeons & Dragons): A Young Adventurer's Guide\n",
      "Who Was Bob Marley?\n",
      "Who Was Elvis Presley?\n",
      "Hush Little Baby\n",
      "Where Is Broadway?\n",
      "BTS: The Ultimate Fan Book: Experience the K-Pop Phenomenon!\n",
      "Marvel Studios Character Encyclopedia\n",
      "When a Pet Dies\n",
      "Abracadabra!: Fun Magic Tricks for Kids - 30 tricks to make and perform (includes video links)\n",
      "He's Got the Whole World in His Hands\n",
      "Old MacDonald Had a Truck: (Preschool Read Aloud Books, Books for Kids, Kids Construction Books)\n",
      "My Best Pop-up Space Book\n",
      "Story of the Orchestra: Listen While You Learn About the Instruments, the Music and the Composers Who Wrote the Music!\n",
      "Boys Dance! (American Ballet Theatre)\n",
      "Misty Copeland: Ballet Star (I Can Read Book 1 Series)\n",
      "The Itsy Bitsy Spider (Indestructibles Series)\n",
      "Romeo and Juliet (Barnes & Noble Shakespeare)\n",
      "Disney Maps: A Magical Atlas of the Movies We Know and Love\n",
      "There Was an Old Lady Who Swallowed a Shell!\n",
      "Hello, Neighbor!: The Kind and Caring World of Mister Rogers\n",
      "The Wheels on the Bus: Sing Along With Me!\n",
      "Star Wars The Rise of Skywalker The Visual Dictionary: With Exclusive Cross-Sections\n",
      "I am Jim Henson\n",
      "Teddy Bears' Picnic\n",
      "Twinkle, Twinkle, Little Star (Indestructibles Series)\n",
      "David Bowie: My First David Bowie\n",
      "Coat of Many Colors\n",
      "Abiyoyo\n",
      "Who Is Stevie Wonder?\n",
      "The Ultimate Unofficial Encyclopedia for Minecrafters: Multiplayer Mode: Exploring Hidden Games and Secret Worlds\n",
      "Head, Shoulders, Knees and Toes / Cabeza, Hombros, Piernas, Pies...\n",
      "Who Was Louis Armstrong?\n",
      "Over the River and Through the Wood\n",
      "Jingle Bugs: A Merry Pop-up Book with Lights and Music!\n",
      "Harry Potter: A History of Magic (American Edition)\n",
      "LEGO Star Wars Ideas Book: More than 200 Games, Activities, and Building Ideas\n",
      "What Is the Story of The Wizard of Oz?\n",
      "Old MacDonald: A Hand-Puppet Board Book: A Hand-puppet Board Book\n",
      "Wookiee Cookies: A Star Wars Cookbook\n",
      "Jesus Loves Me!\n",
      "Elmo Potty Time Songs Little Music Note\n",
      "What Is Rock and Roll?\n",
      "Harlem's Little Blackbird: The Story of Florence Mills\n",
      "Who Is Steven Spielberg?\n",
      "Five Little Ducks\n",
      "Who Were The Three Stooges?\n",
      "Hush! A Thai Lullaby\n",
      "A You're Adorable\n",
      "The Little Drummer Boy\n",
      "I Love Music: My First Sound Book\n",
      "Hammer at the Construction Site!\n",
      "Row, Row, Row Your Boat (Indestructibles Series)\n",
      "The Ickabog\n",
      "The Mitten\n",
      "The Stinky Cheese Man and Other Fairly Stupid Tales\n",
      "The Little Mermaid and Other Fairy Tales (Barnes & Noble Collectible Editions)\n",
      "Strega Nona\n",
      "The Tale of Three Trees\n",
      "The True Story of the Three Little Pigs\n",
      "Hans Christian Andersen: Classic Fairy Tales (Barnes & Noble Collectible Editions)\n",
      "One True King (B&N Exclusive Edition) (The School for Good and Evil Series #6)\n",
      "The Blue Fairy Book (Barnes & Noble Collectible Editions)\n",
      "A Crystal of Time (The School for Good and Evil Series #5)\n",
      "The Land of Stories Complete Paperback Gift Set\n",
      "Tristan Strong Punches a Hole in the Sky (Tristan Strong Series #1)\n",
      "The Little Red Hen\n",
      "Ella Enchanted\n",
      "Stone Soup\n",
      "There Was an Old Lady Who Swallowed a Turkey!\n",
      "5-Minute Frozen\n",
      "In a Dark, Dark Room and Other Scary Stories: Reillustrated Edition\n",
      "Grimm's Complete Fairy Tales\n",
      "Tristan Strong Destroys the World (Tristan Strong Series #2)\n",
      "A Tale Dark and Grimm (Grimm Series #1)\n",
      "The Last Ever After (The School for Good and Evil Series #3)\n",
      "Mistress of All Evil: A Tale of the Dark Fairy (Villains Series #4)\n",
      "Mother Knows Best: A Tale of the Old Witch (Villains Series #5)\n",
      "Poor Unfortunate Soul: A Tale of the Sea Witch (Villains Series #3)\n",
      "The Odd Sisters: A Tale of the Three Witches (Villains Series #6)\n",
      "The Beast Within: A Tale of Beauty's Prince (Villains Series #2)\n",
      "Kingdom of Color (Disney Tangled Step into Reading Book Series)\n",
      "Snow White and the Seven Dwarfs (Disney Classic)\n",
      "Disney Princess 5-Minute Princess Stories\n",
      "Fairest of All: A Tale of the Wicked Queen (Villains Series #1)\n",
      "American Tall Tales\n",
      "The Legend of Rock Paper Scissors\n",
      "Unicorn Wings\n",
      "Descendants 3: Audrey's Diary\n",
      "Tangled (Disney Tangled)\n",
      "Walt Disney's Cinderella (Disney Princess)\n",
      "Summer of the Mariposas\n",
      "There Was an Old Lady Who Swallowed a Frog!\n",
      "Rump: The (Fairly) True Tale of Rumpelstiltskin\n",
      "There Was an Old Lady Who Swallowed Some Books!\n",
      "Martina the Beautiful Cockroach: A Cuban Folktale\n",
      "There Was an Old Lady Who Swallowed a Fly!\n",
      "Lacey the Little Mermaid Fairy (Rainbow Magic: Fairy Tale Fairies Series #7)\n",
      "Descendants 3 Junior Novel\n",
      "Gingerbread Baby\n",
      "Mulan (Disney Princess)\n",
      "Why Mosquitoes Buzz in People's Ears\n",
      "The Princess and the Frog: The Story of Tiana\n",
      "Merry Christmas, Strega Nona\n",
      "The Three Little Pigs / Los tres cerditos\n",
      "Serena Valentino's Villains Box Set: Books 1-3\n",
      "The Land of Stories: A Treasury of Classic Fairy Tales\n",
      "Walt Disney's Pinocchio\n",
      "Sleeping Beauty (Disney Princess)\n",
      "Ghosts!: Ghostly Tales from Folklore (I Can Read Book Series: Level 2)\n",
      "The Three Little Pigs\n",
      "Goldilocks and the Three Bears\n",
      "The Little Red Hen / La gallinita roja\n",
      "Rump: The (Fairly) True Tale of Rumpelstiltskin\n",
      "There Was an Old Lady Who Swallowed Some Books!\n",
      "Martina the Beautiful Cockroach: A Cuban Folktale\n",
      "There Was an Old Lady Who Swallowed a Fly!\n",
      "Lacey the Little Mermaid Fairy (Rainbow Magic: Fairy Tale Fairies Series #7)\n",
      "Descendants 3 Junior Novel\n",
      "Gingerbread Baby\n",
      "Mulan (Disney Princess)\n",
      "Why Mosquitoes Buzz in People's Ears\n",
      "The Princess and the Frog: The Story of Tiana\n",
      "Merry Christmas, Strega Nona\n",
      "The Three Little Pigs / Los tres cerditos\n",
      "Serena Valentino's Villains Box Set: Books 1-3\n",
      "The Land of Stories: A Treasury of Classic Fairy Tales\n",
      "Walt Disney's Pinocchio\n",
      "Sleeping Beauty (Disney Princess)\n",
      "Ghosts!: Ghostly Tales from Folklore (I Can Read Book Series: Level 2)\n",
      "The Three Little Pigs\n",
      "Goldilocks and the Three Bears\n",
      "The Little Red Hen / La gallinita roja\n",
      "Descendants 3: The Villain Kids' Guide for New VKs\n",
      "The Grimm Conclusion (Grimm Series #3)\n",
      "The Gingerbread Man: 10 Fairy Tale Sounds\n",
      "Ugly Duckling\n",
      "Rapunzel's Revenge\n",
      "Grump: The (Fairly) True Tale of Snow White and the Seven Dwarves\n",
      "The Princess and the Pea\n",
      "Little Red Riding Hood\n",
      "Jack: The (Fairly) True Tale of Jack and the Beanstalk\n",
      "Frozen 2: Forest of Shadows\n",
      "The Mirror Broken Wish\n",
      "The Little Red Hen\n",
      "Descendants 2: Uma's Wicked Book: For Villain Kids\n",
      "The Ice Box (Disney Frozen)\n",
      "The True Story of the Three Little Pigs 25th Anniversary Edition\n",
      "The Three Billy Goats Gruff\n",
      "Just So Stories\n",
      "Stone Soup\n",
      "Strega Nona: Her Story\n",
      "Walt Disney's The Ugly Duckling (Disney Classic: The Ugly Duckling)\n"
     ]
    }
   ],
   "source": [
    "for i in range(len(name)):\n",
    "    print(name[i])"
   ]
  },
  {
   "cell_type": "markdown",
   "metadata": {},
   "source": [
    "# Batch 25"
   ]
  },
  {
   "cell_type": "code",
   "execution_count": 236,
   "metadata": {},
   "outputs": [],
   "source": [
    "url='https://www.barnesandnoble.com/b/books/kids/social-issues-kids/_/N-29Z8q8Zu79?Nrpp=40&Ns=P_Publication_Date%7C1&page=5'"
   ]
  },
  {
   "cell_type": "code",
   "execution_count": 237,
   "metadata": {},
   "outputs": [],
   "source": [
    "Uclient=uReq(url)\n",
    "\n",
    "page_html=Uclient.read()\n",
    "Uclient.close()\n",
    "page_soup=soup(page_html,\"html.parser\")"
   ]
  },
  {
   "cell_type": "code",
   "execution_count": 238,
   "metadata": {},
   "outputs": [],
   "source": [
    "data=page_soup.findAll(\"div\",{\"class\":\"col-lg-9 product-info-listView\"})"
   ]
  },
  {
   "cell_type": "code",
   "execution_count": 239,
   "metadata": {},
   "outputs": [],
   "source": [
    "for i in range(len(data)):\n",
    "    name.append(data[i].div.a.text)"
   ]
  },
  {
   "cell_type": "code",
   "execution_count": 240,
   "metadata": {},
   "outputs": [],
   "source": [
    "for i in range(len(data)):\n",
    "    dates.append(data[i].div.span.text)"
   ]
  },
  {
   "cell_type": "code",
   "execution_count": 241,
   "metadata": {},
   "outputs": [],
   "source": [
    "author=page_soup.findAll(\"div\",{\"class\":\"product-shelf-author contributors\"})\n",
    "for i in range(len(author)):\n",
    "    authors.append(author[i].a.text)"
   ]
  },
  {
   "cell_type": "code",
   "execution_count": 242,
   "metadata": {},
   "outputs": [],
   "source": [
    "price=page_soup.findAll(\"span\",{\"class\":\"current\"})\n",
    "for i in range(len(price)):\n",
    "    prices.append(price[i].a.text)"
   ]
  },
  {
   "cell_type": "markdown",
   "metadata": {},
   "source": [
    "# Batch 26"
   ]
  },
  {
   "cell_type": "code",
   "execution_count": 243,
   "metadata": {},
   "outputs": [],
   "source": [
    "url='https://www.barnesandnoble.com/b/books/kids/social-issues-kids/_/N-29Z8q8Zu79?Nrpp=40&Ns=P_Publication_Date%7C1&page=6'"
   ]
  },
  {
   "cell_type": "code",
   "execution_count": 244,
   "metadata": {},
   "outputs": [],
   "source": [
    "Uclient=uReq(url)\n",
    "\n",
    "page_html=Uclient.read()\n",
    "Uclient.close()\n",
    "page_soup=soup(page_html,\"html.parser\")"
   ]
  },
  {
   "cell_type": "code",
   "execution_count": 245,
   "metadata": {},
   "outputs": [],
   "source": [
    "data=page_soup.findAll(\"div\",{\"class\":\"col-lg-9 product-info-listView\"})"
   ]
  },
  {
   "cell_type": "code",
   "execution_count": 246,
   "metadata": {},
   "outputs": [],
   "source": [
    "for i in range(len(data)):\n",
    "    name.append(data[i].div.a.text)"
   ]
  },
  {
   "cell_type": "code",
   "execution_count": 247,
   "metadata": {},
   "outputs": [],
   "source": [
    "for i in range(len(data)):\n",
    "    dates.append(data[i].div.span.text)"
   ]
  },
  {
   "cell_type": "code",
   "execution_count": 248,
   "metadata": {},
   "outputs": [],
   "source": [
    "author=page_soup.findAll(\"div\",{\"class\":\"product-shelf-author contributors\"})\n",
    "for i in range(len(author)):\n",
    "    authors.append(author[i].a.text)"
   ]
  },
  {
   "cell_type": "code",
   "execution_count": 249,
   "metadata": {},
   "outputs": [],
   "source": [
    "price=page_soup.findAll(\"span\",{\"class\":\"current\"})\n",
    "for i in range(len(price)):\n",
    "    prices.append(price[i].a.text)"
   ]
  },
  {
   "cell_type": "code",
   "execution_count": 250,
   "metadata": {},
   "outputs": [
    {
     "data": {
      "text/plain": [
       "400"
      ]
     },
     "execution_count": 250,
     "metadata": {},
     "output_type": "execute_result"
    }
   ],
   "source": [
    "len(prices)"
   ]
  },
  {
   "cell_type": "code",
   "execution_count": 251,
   "metadata": {},
   "outputs": [
    {
     "data": {
      "text/plain": [
       "400"
      ]
     },
     "execution_count": 251,
     "metadata": {},
     "output_type": "execute_result"
    }
   ],
   "source": [
    "len(authors)"
   ]
  },
  {
   "cell_type": "code",
   "execution_count": 252,
   "metadata": {},
   "outputs": [
    {
     "data": {
      "text/plain": [
       "400"
      ]
     },
     "execution_count": 252,
     "metadata": {},
     "output_type": "execute_result"
    }
   ],
   "source": [
    "len(dates)"
   ]
  },
  {
   "cell_type": "code",
   "execution_count": 253,
   "metadata": {},
   "outputs": [
    {
     "data": {
      "text/plain": [
       "400"
      ]
     },
     "execution_count": 253,
     "metadata": {},
     "output_type": "execute_result"
    }
   ],
   "source": [
    "len(name)"
   ]
  },
  {
   "cell_type": "code",
   "execution_count": 254,
   "metadata": {},
   "outputs": [],
   "source": [
    "import pandas as pd"
   ]
  },
  {
   "cell_type": "code",
   "execution_count": 255,
   "metadata": {},
   "outputs": [],
   "source": [
    "df = pd.DataFrame({'Names': name, 'Prices': prices,'Authors':authors,'Date Released':dates})"
   ]
  },
  {
   "cell_type": "code",
   "execution_count": 256,
   "metadata": {},
   "outputs": [
    {
     "data": {
      "text/plain": [
       "400"
      ]
     },
     "execution_count": 256,
     "metadata": {},
     "output_type": "execute_result"
    }
   ],
   "source": [
    "len(name)"
   ]
  },
  {
   "cell_type": "code",
   "execution_count": 257,
   "metadata": {},
   "outputs": [
    {
     "data": {
      "text/plain": [
       "400"
      ]
     },
     "execution_count": 257,
     "metadata": {},
     "output_type": "execute_result"
    }
   ],
   "source": [
    "len(dates)"
   ]
  },
  {
   "cell_type": "code",
   "execution_count": 258,
   "metadata": {},
   "outputs": [
    {
     "data": {
      "text/plain": [
       "400"
      ]
     },
     "execution_count": 258,
     "metadata": {},
     "output_type": "execute_result"
    }
   ],
   "source": [
    "len(authors)"
   ]
  },
  {
   "cell_type": "markdown",
   "metadata": {},
   "source": [
    "### Look at the final data"
   ]
  },
  {
   "cell_type": "code",
   "execution_count": 259,
   "metadata": {},
   "outputs": [
    {
     "data": {
      "text/html": [
       "<div>\n",
       "<style scoped>\n",
       "    .dataframe tbody tr th:only-of-type {\n",
       "        vertical-align: middle;\n",
       "    }\n",
       "\n",
       "    .dataframe tbody tr th {\n",
       "        vertical-align: top;\n",
       "    }\n",
       "\n",
       "    .dataframe thead th {\n",
       "        text-align: right;\n",
       "    }\n",
       "</style>\n",
       "<table border=\"1\" class=\"dataframe\">\n",
       "  <thead>\n",
       "    <tr style=\"text-align: right;\">\n",
       "      <th></th>\n",
       "      <th>Names</th>\n",
       "      <th>Prices</th>\n",
       "      <th>Authors</th>\n",
       "      <th>Date Released</th>\n",
       "    </tr>\n",
       "  </thead>\n",
       "  <tbody>\n",
       "    <tr>\n",
       "      <th>0</th>\n",
       "      <td>How to Catch a Yeti</td>\n",
       "      <td>$10.99</td>\n",
       "      <td>Adam Wallace</td>\n",
       "      <td>(09/01/2020)</td>\n",
       "    </tr>\n",
       "    <tr>\n",
       "      <th>1</th>\n",
       "      <td>The Tower of Nero (B&amp;N Exclusive Edition) (The...</td>\n",
       "      <td>$16.99</td>\n",
       "      <td>Rick Riordan</td>\n",
       "      <td>(10/06/2020)</td>\n",
       "    </tr>\n",
       "    <tr>\n",
       "      <th>2</th>\n",
       "      <td>The Lightning Thief (Percy Jackson and the Oly...</td>\n",
       "      <td>$6.99</td>\n",
       "      <td>Rick Riordan</td>\n",
       "      <td>(04/01/2006)</td>\n",
       "    </tr>\n",
       "    <tr>\n",
       "      <th>3</th>\n",
       "      <td>The Ickabog</td>\n",
       "      <td>$21.49</td>\n",
       "      <td>J. K. Rowling</td>\n",
       "      <td>(11/10/2020)</td>\n",
       "    </tr>\n",
       "    <tr>\n",
       "      <th>4</th>\n",
       "      <td>The Mitten</td>\n",
       "      <td>$17.49</td>\n",
       "      <td>Jan Brett</td>\n",
       "      <td>(10/05/2009)</td>\n",
       "    </tr>\n",
       "    <tr>\n",
       "      <th>...</th>\n",
       "      <td>...</td>\n",
       "      <td>...</td>\n",
       "      <td>...</td>\n",
       "      <td>...</td>\n",
       "    </tr>\n",
       "    <tr>\n",
       "      <th>395</th>\n",
       "      <td>The Three Billy Goats Gruff</td>\n",
       "      <td>$18.99</td>\n",
       "      <td>Jerry Pinkney</td>\n",
       "      <td>(05/09/2017)</td>\n",
       "    </tr>\n",
       "    <tr>\n",
       "      <th>396</th>\n",
       "      <td>Just So Stories</td>\n",
       "      <td>$7.99</td>\n",
       "      <td>Rudyard Kipling</td>\n",
       "      <td>(06/19/2008)</td>\n",
       "    </tr>\n",
       "    <tr>\n",
       "      <th>397</th>\n",
       "      <td>Stone Soup</td>\n",
       "      <td>$3.99</td>\n",
       "      <td>Ann McGovern</td>\n",
       "      <td>(09/28/1986)</td>\n",
       "    </tr>\n",
       "    <tr>\n",
       "      <th>398</th>\n",
       "      <td>Strega Nona: Her Story</td>\n",
       "      <td>$7.99</td>\n",
       "      <td>Tomie dePaola</td>\n",
       "      <td>(09/11/2000)</td>\n",
       "    </tr>\n",
       "    <tr>\n",
       "      <th>399</th>\n",
       "      <td>Walt Disney's The Ugly Duckling (Disney Classi...</td>\n",
       "      <td>$4.99</td>\n",
       "      <td>Annie North Bedford</td>\n",
       "      <td>(01/03/2017)</td>\n",
       "    </tr>\n",
       "  </tbody>\n",
       "</table>\n",
       "<p>400 rows × 4 columns</p>\n",
       "</div>"
      ],
      "text/plain": [
       "                                                 Names  Prices  \\\n",
       "0                                  How to Catch a Yeti  $10.99   \n",
       "1    The Tower of Nero (B&N Exclusive Edition) (The...  $16.99   \n",
       "2    The Lightning Thief (Percy Jackson and the Oly...   $6.99   \n",
       "3                                          The Ickabog  $21.49   \n",
       "4                                           The Mitten  $17.49   \n",
       "..                                                 ...     ...   \n",
       "395                        The Three Billy Goats Gruff  $18.99   \n",
       "396                                    Just So Stories   $7.99   \n",
       "397                                         Stone Soup   $3.99   \n",
       "398                             Strega Nona: Her Story   $7.99   \n",
       "399  Walt Disney's The Ugly Duckling (Disney Classi...   $4.99   \n",
       "\n",
       "                 Authors  Date Released  \n",
       "0           Adam Wallace   (09/01/2020)  \n",
       "1           Rick Riordan   (10/06/2020)  \n",
       "2           Rick Riordan   (04/01/2006)  \n",
       "3          J. K. Rowling   (11/10/2020)  \n",
       "4              Jan Brett   (10/05/2009)  \n",
       "..                   ...            ...  \n",
       "395        Jerry Pinkney   (05/09/2017)  \n",
       "396      Rudyard Kipling   (06/19/2008)  \n",
       "397         Ann McGovern   (09/28/1986)  \n",
       "398        Tomie dePaola   (09/11/2000)  \n",
       "399  Annie North Bedford   (01/03/2017)  \n",
       "\n",
       "[400 rows x 4 columns]"
      ]
     },
     "execution_count": 259,
     "metadata": {},
     "output_type": "execute_result"
    }
   ],
   "source": [
    "df  "
   ]
  },
  {
   "cell_type": "markdown",
   "metadata": {},
   "source": [
    "### Save the data to an excel file"
   ]
  },
  {
   "cell_type": "code",
   "execution_count": 260,
   "metadata": {},
   "outputs": [],
   "source": [
    "df.to_excel(\"/Database_project.xlsx\",index=False)"
   ]
  },
  {
   "cell_type": "code",
   "execution_count": null,
   "metadata": {},
   "outputs": [],
   "source": []
  }
 ],
 "metadata": {
  "kernelspec": {
   "display_name": "Python 3",
   "language": "python",
   "name": "python3"
  },
  "language_info": {
   "codemirror_mode": {
    "name": "ipython",
    "version": 3
   },
   "file_extension": ".py",
   "mimetype": "text/x-python",
   "name": "python",
   "nbconvert_exporter": "python",
   "pygments_lexer": "ipython3",
   "version": "3.7.7"
  }
 },
 "nbformat": 4,
 "nbformat_minor": 4
}
